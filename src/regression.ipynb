{
 "cells": [
  {
   "cell_type": "code",
   "execution_count": 1,
   "metadata": {},
   "outputs": [],
   "source": [
    "import pandas as pd\n",
    "import numpy as np\n",
    "from matplotlib import pyplot as plt\n",
    "import seaborn as sns\n",
    "from subprocess import check_output\n",
    "from keras.layers.core import Dense, Activation, Dropout\n",
    "from keras.layers.recurrent import LSTM\n",
    "from keras.models import Sequential\n",
    "import time #helper libraries\n",
    "\n",
    "from sklearn.model_selection import GridSearchCV\n",
    "from datetime import datetime\n",
    "from sklearn.ensemble import RandomForestRegressor\n",
    "from sklearn.model_selection import TimeSeriesSplit\n",
    "from sklearn.metrics import mean_squared_error as MSE\n",
    "from sklearn.ensemble import RandomForestRegressor"
   ]
  },
  {
   "cell_type": "code",
   "execution_count": 2,
   "metadata": {},
   "outputs": [],
   "source": [
    "from math import sqrt\n",
    "from numpy import concatenate\n",
    "import math\n",
    "import pydot"
   ]
  },
  {
   "cell_type": "code",
   "execution_count": 3,
   "metadata": {},
   "outputs": [],
   "source": [
    "%store -r scaler \n",
    "%store -r scaled_np\n",
    "%store -r scaled_df\n",
    "%store -r df_all\n",
    "%store -r combined"
   ]
  },
  {
   "cell_type": "code",
   "execution_count": 4,
   "metadata": {},
   "outputs": [
    {
     "data": {
      "text/html": [
       "<div>\n",
       "<style scoped>\n",
       "    .dataframe tbody tr th:only-of-type {\n",
       "        vertical-align: middle;\n",
       "    }\n",
       "\n",
       "    .dataframe tbody tr th {\n",
       "        vertical-align: top;\n",
       "    }\n",
       "\n",
       "    .dataframe thead th {\n",
       "        text-align: right;\n",
       "    }\n",
       "</style>\n",
       "<table border=\"1\" class=\"dataframe\">\n",
       "  <thead>\n",
       "    <tr style=\"text-align: right;\">\n",
       "      <th></th>\n",
       "      <th>SeriesDate</th>\n",
       "      <th>Inventory</th>\n",
       "      <th>Date</th>\n",
       "      <th>CL</th>\n",
       "      <th>Bakken</th>\n",
       "      <th>MID</th>\n",
       "      <th>LLS</th>\n",
       "      <th>Bakken.1</th>\n",
       "      <th>MID.1</th>\n",
       "      <th>LLS.1</th>\n",
       "      <th>...</th>\n",
       "      <th>2&amp;12</th>\n",
       "      <th>3&amp;4</th>\n",
       "      <th>3&amp;5</th>\n",
       "      <th>3&amp;6</th>\n",
       "      <th>3&amp;7</th>\n",
       "      <th>3&amp;8</th>\n",
       "      <th>3&amp;9</th>\n",
       "      <th>3&amp;10</th>\n",
       "      <th>3&amp;11</th>\n",
       "      <th>3&amp;12</th>\n",
       "    </tr>\n",
       "  </thead>\n",
       "  <tbody>\n",
       "    <tr>\n",
       "      <th>0</th>\n",
       "      <td>2011-01-03</td>\n",
       "      <td>37493</td>\n",
       "      <td>2011-01-03</td>\n",
       "      <td>91.55</td>\n",
       "      <td>88.08</td>\n",
       "      <td>90.99</td>\n",
       "      <td>97.44</td>\n",
       "      <td>3.47</td>\n",
       "      <td>0.56</td>\n",
       "      <td>-5.89</td>\n",
       "      <td>...</td>\n",
       "      <td>-2.40</td>\n",
       "      <td>-0.58</td>\n",
       "      <td>-0.99</td>\n",
       "      <td>-1.31</td>\n",
       "      <td>-1.51</td>\n",
       "      <td>-1.63</td>\n",
       "      <td>-1.70</td>\n",
       "      <td>-1.75</td>\n",
       "      <td>-1.78</td>\n",
       "      <td>-1.69</td>\n",
       "    </tr>\n",
       "    <tr>\n",
       "      <th>1</th>\n",
       "      <td>2011-01-04</td>\n",
       "      <td>37493</td>\n",
       "      <td>2011-01-04</td>\n",
       "      <td>89.38</td>\n",
       "      <td>85.81</td>\n",
       "      <td>88.63</td>\n",
       "      <td>95.83</td>\n",
       "      <td>3.57</td>\n",
       "      <td>0.75</td>\n",
       "      <td>-6.45</td>\n",
       "      <td>...</td>\n",
       "      <td>-3.33</td>\n",
       "      <td>-0.75</td>\n",
       "      <td>-1.31</td>\n",
       "      <td>-1.74</td>\n",
       "      <td>-2.01</td>\n",
       "      <td>-2.19</td>\n",
       "      <td>-2.30</td>\n",
       "      <td>-2.39</td>\n",
       "      <td>-2.47</td>\n",
       "      <td>-2.43</td>\n",
       "    </tr>\n",
       "    <tr>\n",
       "      <th>2</th>\n",
       "      <td>2011-01-05</td>\n",
       "      <td>37493</td>\n",
       "      <td>2011-01-05</td>\n",
       "      <td>90.30</td>\n",
       "      <td>85.44</td>\n",
       "      <td>89.73</td>\n",
       "      <td>97.45</td>\n",
       "      <td>4.86</td>\n",
       "      <td>0.57</td>\n",
       "      <td>-7.15</td>\n",
       "      <td>...</td>\n",
       "      <td>-3.80</td>\n",
       "      <td>-0.84</td>\n",
       "      <td>-1.48</td>\n",
       "      <td>-1.99</td>\n",
       "      <td>-2.32</td>\n",
       "      <td>-2.53</td>\n",
       "      <td>-2.66</td>\n",
       "      <td>-2.76</td>\n",
       "      <td>-2.85</td>\n",
       "      <td>-2.83</td>\n",
       "    </tr>\n",
       "    <tr>\n",
       "      <th>3</th>\n",
       "      <td>2011-01-06</td>\n",
       "      <td>37493</td>\n",
       "      <td>2011-01-06</td>\n",
       "      <td>88.38</td>\n",
       "      <td>83.98</td>\n",
       "      <td>87.57</td>\n",
       "      <td>95.82</td>\n",
       "      <td>4.40</td>\n",
       "      <td>0.81</td>\n",
       "      <td>-7.44</td>\n",
       "      <td>...</td>\n",
       "      <td>-4.55</td>\n",
       "      <td>-0.94</td>\n",
       "      <td>-1.64</td>\n",
       "      <td>-2.19</td>\n",
       "      <td>-2.56</td>\n",
       "      <td>-2.82</td>\n",
       "      <td>-3.02</td>\n",
       "      <td>-3.19</td>\n",
       "      <td>-3.35</td>\n",
       "      <td>-3.40</td>\n",
       "    </tr>\n",
       "    <tr>\n",
       "      <th>4</th>\n",
       "      <td>2011-01-07</td>\n",
       "      <td>37376</td>\n",
       "      <td>2011-01-07</td>\n",
       "      <td>88.03</td>\n",
       "      <td>85.90</td>\n",
       "      <td>87.51</td>\n",
       "      <td>95.01</td>\n",
       "      <td>2.13</td>\n",
       "      <td>0.52</td>\n",
       "      <td>-6.98</td>\n",
       "      <td>...</td>\n",
       "      <td>-3.90</td>\n",
       "      <td>-0.81</td>\n",
       "      <td>-1.42</td>\n",
       "      <td>-1.90</td>\n",
       "      <td>-2.23</td>\n",
       "      <td>-2.47</td>\n",
       "      <td>-2.65</td>\n",
       "      <td>-2.79</td>\n",
       "      <td>-2.92</td>\n",
       "      <td>-2.95</td>\n",
       "    </tr>\n",
       "  </tbody>\n",
       "</table>\n",
       "<p>5 rows × 40 columns</p>\n",
       "</div>"
      ],
      "text/plain": [
       "  SeriesDate  Inventory       Date     CL  Bakken    MID    LLS  Bakken.1  \\\n",
       "0 2011-01-03      37493 2011-01-03  91.55   88.08  90.99  97.44      3.47   \n",
       "1 2011-01-04      37493 2011-01-04  89.38   85.81  88.63  95.83      3.57   \n",
       "2 2011-01-05      37493 2011-01-05  90.30   85.44  89.73  97.45      4.86   \n",
       "3 2011-01-06      37493 2011-01-06  88.38   83.98  87.57  95.82      4.40   \n",
       "4 2011-01-07      37376 2011-01-07  88.03   85.90  87.51  95.01      2.13   \n",
       "\n",
       "   MID.1  LLS.1  ...  2&12   3&4   3&5   3&6   3&7   3&8   3&9  3&10  3&11  \\\n",
       "0   0.56  -5.89  ... -2.40 -0.58 -0.99 -1.31 -1.51 -1.63 -1.70 -1.75 -1.78   \n",
       "1   0.75  -6.45  ... -3.33 -0.75 -1.31 -1.74 -2.01 -2.19 -2.30 -2.39 -2.47   \n",
       "2   0.57  -7.15  ... -3.80 -0.84 -1.48 -1.99 -2.32 -2.53 -2.66 -2.76 -2.85   \n",
       "3   0.81  -7.44  ... -4.55 -0.94 -1.64 -2.19 -2.56 -2.82 -3.02 -3.19 -3.35   \n",
       "4   0.52  -6.98  ... -3.90 -0.81 -1.42 -1.90 -2.23 -2.47 -2.65 -2.79 -2.92   \n",
       "\n",
       "   3&12  \n",
       "0 -1.69  \n",
       "1 -2.43  \n",
       "2 -2.83  \n",
       "3 -3.40  \n",
       "4 -2.95  \n",
       "\n",
       "[5 rows x 40 columns]"
      ]
     },
     "execution_count": 4,
     "metadata": {},
     "output_type": "execute_result"
    }
   ],
   "source": [
    "combined.head()"
   ]
  },
  {
   "cell_type": "code",
   "execution_count": 5,
   "metadata": {},
   "outputs": [
    {
     "data": {
      "text/plain": [
       "(69420, 17899)"
      ]
     },
     "execution_count": 5,
     "metadata": {},
     "output_type": "execute_result"
    }
   ],
   "source": [
    "max_val = max(df_all['Inventory'])\n",
    "min_val = min(df_all['Inventory'])\n",
    "max_val, min_val"
   ]
  },
  {
   "cell_type": "code",
   "execution_count": 6,
   "metadata": {},
   "outputs": [],
   "source": [
    "def rev_min_max_func(scaled_val):\n",
    "    og_val = (scaled_val*(max_val - min_val)) + min_val\n",
    "    return og_val"
   ]
  },
  {
   "cell_type": "code",
   "execution_count": 7,
   "metadata": {},
   "outputs": [],
   "source": [
    "def rev_index(scaled_val):\n",
    "    max_val_index = max(df_all['input_index'])\n",
    "    min_val_index = min(df_all['input_index'])\n",
    "    ind_val = (scaled_val*(max_val - min_val)) + min_val\n",
    "    return ind_val"
   ]
  },
  {
   "cell_type": "code",
   "execution_count": 8,
   "metadata": {},
   "outputs": [],
   "source": [
    "max_val_index = max(df_all['input_index'])"
   ]
  },
  {
   "cell_type": "code",
   "execution_count": 9,
   "metadata": {},
   "outputs": [
    {
     "data": {
      "text/plain": [
       "2321"
      ]
     },
     "execution_count": 9,
     "metadata": {},
     "output_type": "execute_result"
    }
   ],
   "source": [
    "max_val_index"
   ]
  },
  {
   "cell_type": "markdown",
   "metadata": {},
   "source": [
    "max_val_index"
   ]
  },
  {
   "cell_type": "code",
   "execution_count": 10,
   "metadata": {},
   "outputs": [],
   "source": [
    "# Dividing into inputs and output\n",
    "x = scaled_df.iloc[:,2:]\n",
    "y = scaled_df.iloc[:,1]"
   ]
  },
  {
   "cell_type": "code",
   "execution_count": 11,
   "metadata": {},
   "outputs": [
    {
     "data": {
      "text/html": [
       "<div>\n",
       "<style scoped>\n",
       "    .dataframe tbody tr th:only-of-type {\n",
       "        vertical-align: middle;\n",
       "    }\n",
       "\n",
       "    .dataframe tbody tr th {\n",
       "        vertical-align: top;\n",
       "    }\n",
       "\n",
       "    .dataframe thead th {\n",
       "        text-align: right;\n",
       "    }\n",
       "</style>\n",
       "<table border=\"1\" class=\"dataframe\">\n",
       "  <thead>\n",
       "    <tr style=\"text-align: right;\">\n",
       "      <th></th>\n",
       "      <th>2</th>\n",
       "      <th>3</th>\n",
       "      <th>4</th>\n",
       "      <th>5</th>\n",
       "      <th>6</th>\n",
       "      <th>7</th>\n",
       "      <th>8</th>\n",
       "      <th>9</th>\n",
       "      <th>10</th>\n",
       "      <th>11</th>\n",
       "      <th>...</th>\n",
       "      <th>1730</th>\n",
       "      <th>1731</th>\n",
       "      <th>1732</th>\n",
       "      <th>1733</th>\n",
       "      <th>1734</th>\n",
       "      <th>1735</th>\n",
       "      <th>1736</th>\n",
       "      <th>1737</th>\n",
       "      <th>1738</th>\n",
       "      <th>1739</th>\n",
       "    </tr>\n",
       "  </thead>\n",
       "  <tbody>\n",
       "    <tr>\n",
       "      <th>0</th>\n",
       "      <td>0.434075</td>\n",
       "      <td>0.379282</td>\n",
       "      <td>0.383494</td>\n",
       "      <td>0.378642</td>\n",
       "      <td>0.396634</td>\n",
       "      <td>0.366957</td>\n",
       "      <td>0.378040</td>\n",
       "      <td>0.380311</td>\n",
       "      <td>0.824901</td>\n",
       "      <td>0.839753</td>\n",
       "      <td>...</td>\n",
       "      <td>0.373333</td>\n",
       "      <td>0.344675</td>\n",
       "      <td>0.307692</td>\n",
       "      <td>0.300347</td>\n",
       "      <td>0.310522</td>\n",
       "      <td>0.317419</td>\n",
       "      <td>0.325922</td>\n",
       "      <td>0.329564</td>\n",
       "      <td>0.341683</td>\n",
       "      <td>0.000000</td>\n",
       "    </tr>\n",
       "    <tr>\n",
       "      <th>1</th>\n",
       "      <td>0.434075</td>\n",
       "      <td>0.401215</td>\n",
       "      <td>0.383494</td>\n",
       "      <td>0.378642</td>\n",
       "      <td>0.396634</td>\n",
       "      <td>0.383688</td>\n",
       "      <td>0.378040</td>\n",
       "      <td>0.380311</td>\n",
       "      <td>0.833264</td>\n",
       "      <td>0.847533</td>\n",
       "      <td>...</td>\n",
       "      <td>0.328000</td>\n",
       "      <td>0.297337</td>\n",
       "      <td>0.261105</td>\n",
       "      <td>0.256944</td>\n",
       "      <td>0.269316</td>\n",
       "      <td>0.278710</td>\n",
       "      <td>0.288473</td>\n",
       "      <td>0.292407</td>\n",
       "      <td>0.304609</td>\n",
       "      <td>0.000440</td>\n",
       "    </tr>\n",
       "    <tr>\n",
       "      <th>2</th>\n",
       "      <td>0.434075</td>\n",
       "      <td>0.401215</td>\n",
       "      <td>0.383494</td>\n",
       "      <td>0.378642</td>\n",
       "      <td>0.396634</td>\n",
       "      <td>0.383688</td>\n",
       "      <td>0.378040</td>\n",
       "      <td>0.380311</td>\n",
       "      <td>0.869224</td>\n",
       "      <td>0.878843</td>\n",
       "      <td>...</td>\n",
       "      <td>0.304000</td>\n",
       "      <td>0.272189</td>\n",
       "      <td>0.234020</td>\n",
       "      <td>0.230035</td>\n",
       "      <td>0.244297</td>\n",
       "      <td>0.255484</td>\n",
       "      <td>0.266823</td>\n",
       "      <td>0.271944</td>\n",
       "      <td>0.284569</td>\n",
       "      <td>0.000880</td>\n",
       "    </tr>\n",
       "    <tr>\n",
       "      <th>3</th>\n",
       "      <td>0.434075</td>\n",
       "      <td>0.401215</td>\n",
       "      <td>0.379282</td>\n",
       "      <td>0.378642</td>\n",
       "      <td>0.396634</td>\n",
       "      <td>0.383688</td>\n",
       "      <td>0.366957</td>\n",
       "      <td>0.380311</td>\n",
       "      <td>0.865566</td>\n",
       "      <td>0.875617</td>\n",
       "      <td>...</td>\n",
       "      <td>0.277333</td>\n",
       "      <td>0.248521</td>\n",
       "      <td>0.212351</td>\n",
       "      <td>0.209201</td>\n",
       "      <td>0.222958</td>\n",
       "      <td>0.232258</td>\n",
       "      <td>0.241662</td>\n",
       "      <td>0.245019</td>\n",
       "      <td>0.256012</td>\n",
       "      <td>0.001320</td>\n",
       "    </tr>\n",
       "    <tr>\n",
       "      <th>4</th>\n",
       "      <td>0.434075</td>\n",
       "      <td>0.401215</td>\n",
       "      <td>0.379282</td>\n",
       "      <td>0.383494</td>\n",
       "      <td>0.396634</td>\n",
       "      <td>0.383688</td>\n",
       "      <td>0.366957</td>\n",
       "      <td>0.378040</td>\n",
       "      <td>0.878737</td>\n",
       "      <td>0.885484</td>\n",
       "      <td>...</td>\n",
       "      <td>0.312000</td>\n",
       "      <td>0.281065</td>\n",
       "      <td>0.243770</td>\n",
       "      <td>0.237847</td>\n",
       "      <td>0.248712</td>\n",
       "      <td>0.256129</td>\n",
       "      <td>0.265067</td>\n",
       "      <td>0.268174</td>\n",
       "      <td>0.278557</td>\n",
       "      <td>0.001761</td>\n",
       "    </tr>\n",
       "  </tbody>\n",
       "</table>\n",
       "<p>5 rows × 1738 columns</p>\n",
       "</div>"
      ],
      "text/plain": [
       "       2         3         4         5         6         7         8     \\\n",
       "0  0.434075  0.379282  0.383494  0.378642  0.396634  0.366957  0.378040   \n",
       "1  0.434075  0.401215  0.383494  0.378642  0.396634  0.383688  0.378040   \n",
       "2  0.434075  0.401215  0.383494  0.378642  0.396634  0.383688  0.378040   \n",
       "3  0.434075  0.401215  0.379282  0.378642  0.396634  0.383688  0.366957   \n",
       "4  0.434075  0.401215  0.379282  0.383494  0.396634  0.383688  0.366957   \n",
       "\n",
       "       9         10        11    ...      1730      1731      1732      1733  \\\n",
       "0  0.380311  0.824901  0.839753  ...  0.373333  0.344675  0.307692  0.300347   \n",
       "1  0.380311  0.833264  0.847533  ...  0.328000  0.297337  0.261105  0.256944   \n",
       "2  0.380311  0.869224  0.878843  ...  0.304000  0.272189  0.234020  0.230035   \n",
       "3  0.380311  0.865566  0.875617  ...  0.277333  0.248521  0.212351  0.209201   \n",
       "4  0.378040  0.878737  0.885484  ...  0.312000  0.281065  0.243770  0.237847   \n",
       "\n",
       "       1734      1735      1736      1737      1738      1739  \n",
       "0  0.310522  0.317419  0.325922  0.329564  0.341683  0.000000  \n",
       "1  0.269316  0.278710  0.288473  0.292407  0.304609  0.000440  \n",
       "2  0.244297  0.255484  0.266823  0.271944  0.284569  0.000880  \n",
       "3  0.222958  0.232258  0.241662  0.245019  0.256012  0.001320  \n",
       "4  0.248712  0.256129  0.265067  0.268174  0.278557  0.001761  \n",
       "\n",
       "[5 rows x 1738 columns]"
      ]
     },
     "execution_count": 11,
     "metadata": {},
     "output_type": "execute_result"
    }
   ],
   "source": [
    "x.head()"
   ]
  },
  {
   "cell_type": "code",
   "execution_count": 12,
   "metadata": {},
   "outputs": [
    {
     "data": {
      "image/png": "[encoded data removed]",
      "text/plain": [
       "<Figure size 720x360 with 1 Axes>"
      ]
     },
     "metadata": {
      "needs_background": "light"
     },
     "output_type": "display_data"
    }
   ],
   "source": [
    "from sklearn.model_selection import TimeSeriesSplit\n",
    "cv=TimeSeriesSplit(n_splits=10)\n",
    "\n",
    "fig, ax = plt.subplots(figsize=(10, 5))\n",
    "for ii, (train, test) in enumerate(cv.split(x, y)):\n",
    "       \n",
    "    # Plot training and test indices\n",
    "    l1 = ax.scatter(train, [ii] * len(train), c=[plt.cm.coolwarm(.1)], \n",
    "                    marker='_', lw=6)\n",
    "    l2 = ax.scatter(test, [ii] * len(test), c=[plt.cm.coolwarm(.9)], \n",
    "                    marker='_', lw=6)\n",
    "    ax.set(ylim=[10, -1], title='TimeSeriesSplit behavior', \n",
    "           xlabel='data index', ylabel='CV iteration')\n",
    "    ax.legend([l1, l2], ['Training', 'Validation'])"
   ]
  },
  {
   "cell_type": "code",
   "execution_count": 13,
   "metadata": {},
   "outputs": [
    {
     "data": {
      "text/plain": [
       "((2067, 1737), (2067,), (206, 1737), (206,))"
      ]
     },
     "execution_count": 13,
     "metadata": {},
     "output_type": "execute_result"
    }
   ],
   "source": [
    "x_train=x.iloc[train,:-1].values\n",
    "x_test=x.iloc[test,:-1].values\n",
    "y_train=y.iloc[train].values\n",
    "y_test=y.iloc[test].values\n",
    "x_train.shape, y_train.shape, x_test.shape, y_test.shape"
   ]
  },
  {
   "cell_type": "markdown",
   "metadata": {},
   "source": [
    "# LSTM"
   ]
  },
  {
   "cell_type": "code",
   "execution_count": 14,
   "metadata": {},
   "outputs": [],
   "source": [
    "\n",
    "# Data preparation for LSTM\n",
    "trainX = np.reshape(x_train, (x_train.shape[0], 1, x_train.shape[1]))\n",
    "testX = np.reshape(x_test, (x_test.shape[0], 1, x_test.shape[1]))"
   ]
  },
  {
   "cell_type": "code",
   "execution_count": 15,
   "metadata": {},
   "outputs": [
    {
     "data": {
      "text/plain": [
       "((2067, 1, 1737), (206, 1, 1737))"
      ]
     },
     "execution_count": 15,
     "metadata": {},
     "output_type": "execute_result"
    }
   ],
   "source": [
    "trainX.shape, testX.shape"
   ]
  },
  {
   "cell_type": "code",
   "execution_count": 16,
   "metadata": {},
   "outputs": [
    {
     "name": "stdout",
     "output_type": "stream",
     "text": [
      "Epoch 1/60\n",
      "29/29 - 0s - loss: 0.4032 - val_loss: 0.3537\n",
      "Epoch 2/60\n",
      "29/29 - 0s - loss: 0.2914 - val_loss: 0.0869\n",
      "Epoch 3/60\n",
      "29/29 - 0s - loss: 0.2322 - val_loss: 0.1095\n",
      "Epoch 4/60\n",
      "29/29 - 0s - loss: 0.2350 - val_loss: 0.1267\n",
      "Epoch 5/60\n",
      "29/29 - 0s - loss: 0.2361 - val_loss: 0.1148\n",
      "Epoch 6/60\n",
      "29/29 - 0s - loss: 0.2700 - val_loss: 0.4615\n",
      "Epoch 7/60\n",
      "29/29 - 0s - loss: 0.3458 - val_loss: 0.2609\n",
      "Epoch 8/60\n",
      "29/29 - 0s - loss: 0.2767 - val_loss: 0.1719\n",
      "Epoch 9/60\n",
      "29/29 - 0s - loss: 0.2551 - val_loss: 0.1341\n",
      "Epoch 10/60\n",
      "29/29 - 0s - loss: 0.2633 - val_loss: 0.3105\n",
      "Epoch 11/60\n",
      "29/29 - 0s - loss: 0.2915 - val_loss: 0.1403\n",
      "Epoch 12/60\n",
      "29/29 - 0s - loss: 0.2537 - val_loss: 0.3293\n",
      "Epoch 13/60\n",
      "29/29 - 0s - loss: 0.2609 - val_loss: 0.1249\n",
      "Epoch 14/60\n",
      "29/29 - 0s - loss: 0.2919 - val_loss: 0.4357\n",
      "Epoch 15/60\n",
      "29/29 - 0s - loss: 0.3166 - val_loss: 0.1286\n",
      "Epoch 16/60\n",
      "29/29 - 0s - loss: 0.2625 - val_loss: 0.3080\n",
      "Epoch 17/60\n",
      "29/29 - 0s - loss: 0.2846 - val_loss: 0.1277\n",
      "Epoch 18/60\n",
      "29/29 - 0s - loss: 0.2484 - val_loss: 0.2651\n",
      "Epoch 19/60\n",
      "29/29 - 0s - loss: 0.2822 - val_loss: 0.0865\n",
      "Epoch 20/60\n",
      "29/29 - 0s - loss: 0.2530 - val_loss: 0.1601\n",
      "Epoch 21/60\n",
      "29/29 - 0s - loss: 0.2633 - val_loss: 0.2056\n",
      "Epoch 22/60\n",
      "29/29 - 0s - loss: 0.2658 - val_loss: 0.0864\n",
      "Epoch 23/60\n",
      "29/29 - 0s - loss: 0.2323 - val_loss: 0.2434\n",
      "Epoch 24/60\n",
      "29/29 - 0s - loss: 0.2206 - val_loss: 0.1714\n",
      "Epoch 25/60\n",
      "29/29 - 0s - loss: 0.2085 - val_loss: 0.1821\n",
      "Epoch 26/60\n",
      "29/29 - 0s - loss: 0.2043 - val_loss: 0.1801\n",
      "Epoch 27/60\n",
      "29/29 - 0s - loss: 0.1883 - val_loss: 0.1465\n",
      "Epoch 28/60\n",
      "29/29 - 0s - loss: 0.1772 - val_loss: 0.1217\n",
      "Epoch 29/60\n",
      "29/29 - 0s - loss: 0.1713 - val_loss: 0.1184\n",
      "Epoch 30/60\n",
      "29/29 - 0s - loss: 0.1670 - val_loss: 0.1147\n",
      "Epoch 31/60\n",
      "29/29 - 0s - loss: 0.1645 - val_loss: 0.1170\n",
      "Epoch 32/60\n",
      "29/29 - 0s - loss: 0.1644 - val_loss: 0.1155\n",
      "Epoch 33/60\n",
      "29/29 - 0s - loss: 0.1600 - val_loss: 0.1151\n",
      "Epoch 34/60\n",
      "29/29 - 0s - loss: 0.1535 - val_loss: 0.0999\n",
      "Epoch 35/60\n",
      "29/29 - 0s - loss: 0.1570 - val_loss: 0.1135\n",
      "Epoch 36/60\n",
      "29/29 - 0s - loss: 0.1464 - val_loss: 0.0900\n",
      "Epoch 37/60\n",
      "29/29 - 0s - loss: 0.1551 - val_loss: 0.0971\n",
      "Epoch 38/60\n",
      "29/29 - 0s - loss: 0.1426 - val_loss: 0.0897\n",
      "Epoch 39/60\n",
      "29/29 - 0s - loss: 0.1408 - val_loss: 0.0844\n",
      "Epoch 40/60\n",
      "29/29 - 0s - loss: 0.1409 - val_loss: 0.0858\n",
      "Epoch 41/60\n",
      "29/29 - 0s - loss: 0.1416 - val_loss: 0.0923\n",
      "Epoch 42/60\n",
      "29/29 - 0s - loss: 0.1393 - val_loss: 0.0888\n",
      "Epoch 43/60\n",
      "29/29 - 0s - loss: 0.1421 - val_loss: 0.0796\n",
      "Epoch 44/60\n",
      "29/29 - 0s - loss: 0.1438 - val_loss: 0.1045\n",
      "Epoch 45/60\n",
      "29/29 - 0s - loss: 0.1386 - val_loss: 0.0897\n",
      "Epoch 46/60\n",
      "29/29 - 0s - loss: 0.1374 - val_loss: 0.0867\n",
      "Epoch 47/60\n",
      "29/29 - 0s - loss: 0.1387 - val_loss: 0.0814\n",
      "Epoch 48/60\n",
      "29/29 - 0s - loss: 0.1388 - val_loss: 0.0980\n",
      "Epoch 49/60\n",
      "29/29 - 0s - loss: 0.1358 - val_loss: 0.0822\n",
      "Epoch 50/60\n",
      "29/29 - 0s - loss: 0.1390 - val_loss: 0.1338\n",
      "Epoch 51/60\n",
      "29/29 - 0s - loss: 0.1320 - val_loss: 0.1092\n",
      "Epoch 52/60\n",
      "29/29 - 0s - loss: 0.1434 - val_loss: 0.0938\n",
      "Epoch 53/60\n",
      "29/29 - 0s - loss: 0.1369 - val_loss: 0.1193\n",
      "Epoch 54/60\n",
      "29/29 - 0s - loss: 0.1383 - val_loss: 0.0935\n",
      "Epoch 55/60\n",
      "29/29 - 0s - loss: 0.1401 - val_loss: 0.0895\n",
      "Epoch 56/60\n",
      "29/29 - 0s - loss: 0.1373 - val_loss: 0.1372\n",
      "Epoch 57/60\n",
      "29/29 - 0s - loss: 0.1384 - val_loss: 0.1043\n",
      "Epoch 58/60\n",
      "29/29 - 0s - loss: 0.1460 - val_loss: 0.1001\n",
      "Epoch 59/60\n",
      "29/29 - 0s - loss: 0.1340 - val_loss: 0.0869\n",
      "Epoch 60/60\n",
      "29/29 - 0s - loss: 0.1329 - val_loss: 0.0916\n"
     ]
    }
   ],
   "source": [
    "\n",
    "\t\n",
    "# design network\n",
    "model = Sequential()\n",
    "model.add(LSTM(50, input_shape=(trainX.shape[1], trainX.shape[2])))\n",
    "model.add(Dense(1))\n",
    "model.compile(loss='mae', optimizer='adam')\n",
    "# fit network\n",
    "history = model.fit(trainX, y_train, epochs=60, batch_size=72, validation_data=(testX, y_test), verbose=2, shuffle=False)\n"
   ]
  },
  {
   "cell_type": "code",
   "execution_count": 17,
   "metadata": {},
   "outputs": [
    {
     "data": {
      "image/png": "[encoded data removed]",
      "text/plain": [
       "<Figure size 432x288 with 1 Axes>"
      ]
     },
     "metadata": {
      "needs_background": "light"
     },
     "output_type": "display_data"
    }
   ],
   "source": [
    "# plot history\n",
    "plt.plot(history.history['loss'], label='train')\n",
    "plt.plot(history.history['val_loss'], label='test')\n",
    "plt.legend()\n",
    "plt.show()"
   ]
  },
  {
   "cell_type": "code",
   "execution_count": 18,
   "metadata": {},
   "outputs": [],
   "source": [
    "y_test_pred = model.predict(testX)"
   ]
  },
  {
   "cell_type": "code",
   "execution_count": 19,
   "metadata": {},
   "outputs": [
    {
     "data": {
      "text/plain": [
       "(206, 1)"
      ]
     },
     "execution_count": 19,
     "metadata": {},
     "output_type": "execute_result"
    }
   ],
   "source": [
    "y_test_pred.shape"
   ]
  },
  {
   "cell_type": "code",
   "execution_count": 20,
   "metadata": {},
   "outputs": [
    {
     "data": {
      "text/plain": [
       "0.11293315903570966"
      ]
     },
     "execution_count": 20,
     "metadata": {},
     "output_type": "execute_result"
    }
   ],
   "source": [
    "# get the RMSE of test data\n",
    "test_mse = MSE(y_test_pred, y_test)\n",
    "test_rmse = math.sqrt(test_mse)\n",
    "test_rmse"
   ]
  },
  {
   "cell_type": "code",
   "execution_count": 21,
   "metadata": {},
   "outputs": [],
   "source": [
    "test_orig_df=pd.DataFrame(y_test)\n",
    "test_pred_df=pd.DataFrame(y_test_pred)\n",
    "# Creating an empty Dataframe with column names only\n",
    "y_test_df = pd.DataFrame(columns=[])\n",
    "\n",
    "y_test_df['predicted test'] = test_pred_df.iloc[:,0].apply(lambda x: rev_min_max_func(x))\n",
    "y_test_df['original test'] = test_orig_df.iloc[:,0].apply(lambda x: rev_min_max_func(x))\n",
    "\n"
   ]
  },
  {
   "cell_type": "code",
   "execution_count": 22,
   "metadata": {},
   "outputs": [
    {
     "data": {
      "text/plain": [
       "Text(0, 0.5, 'Inventory value')"
      ]
     },
     "execution_count": 22,
     "metadata": {},
     "output_type": "execute_result"
    },
    {
     "data": {
      "image/png": "[encoded data removed]",
      "text/plain": [
       "<Figure size 792x288 with 1 Axes>"
      ]
     },
     "metadata": {},
     "output_type": "display_data"
    }
   ],
   "source": [
    "sns.set(rc={'figure.figsize':(11,4)})\n",
    "y_test_df[['original test','predicted test']].plot(linewidth=0.8, title='Samples')\n",
    "plt.xlabel('Samples')\n",
    "plt.ylabel('Inventory value')"
   ]
  },
  {
   "cell_type": "markdown",
   "metadata": {},
   "source": [
    "## Training Data results"
   ]
  },
  {
   "cell_type": "code",
   "execution_count": 23,
   "metadata": {},
   "outputs": [],
   "source": [
    "y_train_pred = model.predict(trainX)"
   ]
  },
  {
   "cell_type": "code",
   "execution_count": 24,
   "metadata": {},
   "outputs": [
    {
     "data": {
      "text/plain": [
       "0.15220470665525018"
      ]
     },
     "execution_count": 24,
     "metadata": {},
     "output_type": "execute_result"
    }
   ],
   "source": [
    "train_mse = MSE(y_train_pred, y_train)\n",
    "train_rmse = math.sqrt(train_mse)\n",
    "train_rmse"
   ]
  },
  {
   "cell_type": "code",
   "execution_count": 25,
   "metadata": {},
   "outputs": [],
   "source": [
    "train_orig_df=pd.DataFrame(y_train)\n",
    "train_pred_df=pd.DataFrame(y_train_pred)"
   ]
  },
  {
   "cell_type": "code",
   "execution_count": 26,
   "metadata": {},
   "outputs": [],
   "source": [
    "# Creating an empty Dataframe with column names only\n",
    "y_train_df = pd.DataFrame(columns=[])"
   ]
  },
  {
   "cell_type": "code",
   "execution_count": 27,
   "metadata": {},
   "outputs": [],
   "source": [
    "y_train_df['predicted train'] = train_pred_df.iloc[:,0].apply(lambda x: rev_min_max_func(x))\n",
    "y_train_df['original train'] = train_orig_df.iloc[:,0].apply(lambda x: rev_min_max_func(x))\n",
    "y_train_df['Index'] = train_orig_df.iloc[:,0].apply(lambda x: rev_min_max_func(x))"
   ]
  },
  {
   "cell_type": "code",
   "execution_count": 28,
   "metadata": {},
   "outputs": [
    {
     "data": {
      "text/html": [
       "<div>\n",
       "<style scoped>\n",
       "    .dataframe tbody tr th:only-of-type {\n",
       "        vertical-align: middle;\n",
       "    }\n",
       "\n",
       "    .dataframe tbody tr th {\n",
       "        vertical-align: top;\n",
       "    }\n",
       "\n",
       "    .dataframe thead th {\n",
       "        text-align: right;\n",
       "    }\n",
       "</style>\n",
       "<table border=\"1\" class=\"dataframe\">\n",
       "  <thead>\n",
       "    <tr style=\"text-align: right;\">\n",
       "      <th></th>\n",
       "      <th>predicted train</th>\n",
       "      <th>original train</th>\n",
       "      <th>Index</th>\n",
       "    </tr>\n",
       "  </thead>\n",
       "  <tbody>\n",
       "    <tr>\n",
       "      <th>0</th>\n",
       "      <td>35944.299640</td>\n",
       "      <td>40020.0</td>\n",
       "      <td>40020.0</td>\n",
       "    </tr>\n",
       "    <tr>\n",
       "      <th>1</th>\n",
       "      <td>35912.316311</td>\n",
       "      <td>40020.0</td>\n",
       "      <td>40020.0</td>\n",
       "    </tr>\n",
       "    <tr>\n",
       "      <th>2</th>\n",
       "      <td>35843.832373</td>\n",
       "      <td>40020.0</td>\n",
       "      <td>40020.0</td>\n",
       "    </tr>\n",
       "    <tr>\n",
       "      <th>3</th>\n",
       "      <td>35834.358675</td>\n",
       "      <td>40197.0</td>\n",
       "      <td>40197.0</td>\n",
       "    </tr>\n",
       "    <tr>\n",
       "      <th>4</th>\n",
       "      <td>35812.294323</td>\n",
       "      <td>40197.0</td>\n",
       "      <td>40197.0</td>\n",
       "    </tr>\n",
       "    <tr>\n",
       "      <th>...</th>\n",
       "      <td>...</td>\n",
       "      <td>...</td>\n",
       "      <td>...</td>\n",
       "    </tr>\n",
       "    <tr>\n",
       "      <th>2062</th>\n",
       "      <td>38509.172211</td>\n",
       "      <td>52940.0</td>\n",
       "      <td>52940.0</td>\n",
       "    </tr>\n",
       "    <tr>\n",
       "      <th>2063</th>\n",
       "      <td>38484.534453</td>\n",
       "      <td>53582.0</td>\n",
       "      <td>53582.0</td>\n",
       "    </tr>\n",
       "    <tr>\n",
       "      <th>2064</th>\n",
       "      <td>38477.987314</td>\n",
       "      <td>53582.0</td>\n",
       "      <td>53582.0</td>\n",
       "    </tr>\n",
       "    <tr>\n",
       "      <th>2065</th>\n",
       "      <td>38554.830217</td>\n",
       "      <td>53582.0</td>\n",
       "      <td>53582.0</td>\n",
       "    </tr>\n",
       "    <tr>\n",
       "      <th>2066</th>\n",
       "      <td>38814.771919</td>\n",
       "      <td>53582.0</td>\n",
       "      <td>53582.0</td>\n",
       "    </tr>\n",
       "  </tbody>\n",
       "</table>\n",
       "<p>2067 rows × 3 columns</p>\n",
       "</div>"
      ],
      "text/plain": [
       "      predicted train  original train    Index\n",
       "0        35944.299640         40020.0  40020.0\n",
       "1        35912.316311         40020.0  40020.0\n",
       "2        35843.832373         40020.0  40020.0\n",
       "3        35834.358675         40197.0  40197.0\n",
       "4        35812.294323         40197.0  40197.0\n",
       "...               ...             ...      ...\n",
       "2062     38509.172211         52940.0  52940.0\n",
       "2063     38484.534453         53582.0  53582.0\n",
       "2064     38477.987314         53582.0  53582.0\n",
       "2065     38554.830217         53582.0  53582.0\n",
       "2066     38814.771919         53582.0  53582.0\n",
       "\n",
       "[2067 rows x 3 columns]"
      ]
     },
     "execution_count": 28,
     "metadata": {},
     "output_type": "execute_result"
    }
   ],
   "source": [
    "y_train_df"
   ]
  },
  {
   "cell_type": "code",
   "execution_count": 29,
   "metadata": {},
   "outputs": [
    {
     "data": {
      "text/plain": [
       "Text(0, 0.5, 'Inventory value')"
      ]
     },
     "execution_count": 29,
     "metadata": {},
     "output_type": "execute_result"
    },
    {
     "data": {
      "image/png": "[encoded data removed]",
      "text/plain": [
       "<Figure size 792x288 with 1 Axes>"
      ]
     },
     "metadata": {},
     "output_type": "display_data"
    }
   ],
   "source": [
    "sns.set(rc={'figure.figsize':(11,4)})\n",
    "y_train_df[['original train','predicted train']].plot(linewidth=0.8, title='Samples')\n",
    "plt.xlabel('Samples')\n",
    "plt.ylabel('Inventory value')"
   ]
  },
  {
   "cell_type": "markdown",
   "metadata": {},
   "source": [
    "# Random Forest "
   ]
  },
  {
   "cell_type": "code",
   "execution_count": 30,
   "metadata": {},
   "outputs": [],
   "source": [
    "rf = RandomForestRegressor(verbose=1)"
   ]
  },
  {
   "cell_type": "code",
   "execution_count": 31,
   "metadata": {},
   "outputs": [
    {
     "name": "stderr",
     "output_type": "stream",
     "text": [
      "[Parallel(n_jobs=1)]: Using backend SequentialBackend with 1 concurrent workers.\n",
      "[Parallel(n_jobs=1)]: Done 100 out of 100 | elapsed:  1.9min finished\n"
     ]
    },
    {
     "data": {
      "text/plain": [
       "RandomForestRegressor(verbose=1)"
      ]
     },
     "execution_count": 31,
     "metadata": {},
     "output_type": "execute_result"
    }
   ],
   "source": [
    "rf.fit(x_train, y_train)"
   ]
  },
  {
   "cell_type": "markdown",
   "metadata": {},
   "source": [
    "## Result on testing data"
   ]
  },
  {
   "cell_type": "code",
   "execution_count": 32,
   "metadata": {},
   "outputs": [
    {
     "name": "stderr",
     "output_type": "stream",
     "text": [
      "[Parallel(n_jobs=1)]: Using backend SequentialBackend with 1 concurrent workers.\n",
      "[Parallel(n_jobs=1)]: Done 100 out of 100 | elapsed:    0.0s finished\n"
     ]
    }
   ],
   "source": [
    "pred_test_rf = rf.predict(x_test)"
   ]
  },
  {
   "cell_type": "code",
   "execution_count": 33,
   "metadata": {},
   "outputs": [
    {
     "data": {
      "image/png": "[encoded data removed]",
      "text/plain": [
       "<Figure size 792x288 with 1 Axes>"
      ]
     },
     "metadata": {},
     "output_type": "display_data"
    }
   ],
   "source": [
    "plt.plot(y_test, 'b')\n",
    "plt.plot( pred_test_rf, 'y')\n",
    "plt.legend(['True', 'Pred'])\n",
    "plt.title('Predicted vs True')\n",
    "plt.show()"
   ]
  },
  {
   "cell_type": "code",
   "execution_count": 34,
   "metadata": {},
   "outputs": [
    {
     "data": {
      "text/plain": [
       "0.06566649714872207"
      ]
     },
     "execution_count": 34,
     "metadata": {},
     "output_type": "execute_result"
    }
   ],
   "source": [
    "#get the RMSE of test data\n",
    "RF_test_mse = MSE(y_test, pred_test_rf)\n",
    "RF_test_rmse = math.sqrt(RF_test_mse)\n",
    "RF_test_rmse"
   ]
  },
  {
   "cell_type": "markdown",
   "metadata": {},
   "source": [
    "## Result on training data"
   ]
  },
  {
   "cell_type": "code",
   "execution_count": 35,
   "metadata": {},
   "outputs": [
    {
     "name": "stderr",
     "output_type": "stream",
     "text": [
      "[Parallel(n_jobs=1)]: Using backend SequentialBackend with 1 concurrent workers.\n",
      "[Parallel(n_jobs=1)]: Done 100 out of 100 | elapsed:    0.0s finished\n"
     ]
    }
   ],
   "source": [
    "pred_train = rf.predict(x_train)"
   ]
  },
  {
   "cell_type": "code",
   "execution_count": 36,
   "metadata": {},
   "outputs": [
    {
     "data": {
      "image/png": "[encoded data removed]",
      "text/plain": [
       "<Figure size 792x288 with 1 Axes>"
      ]
     },
     "metadata": {},
     "output_type": "display_data"
    }
   ],
   "source": [
    "plt.plot(y_train, 'b')\n",
    "plt.plot( pred_train, 'r')\n",
    "plt.legend(['True', 'Pred'])\n",
    "plt.title('Predicted vs True for training data')\n",
    "plt.show()"
   ]
  },
  {
   "cell_type": "code",
   "execution_count": 37,
   "metadata": {},
   "outputs": [
    {
     "data": {
      "text/plain": [
       "0.004962511131588873"
      ]
     },
     "execution_count": 37,
     "metadata": {},
     "output_type": "execute_result"
    }
   ],
   "source": [
    "#get the RMSE of train data\n",
    "RF_train_mse = MSE(y_train, pred_train)\n",
    "RF_train_rmse = math.sqrt(RF_train_mse)\n",
    "RF_train_rmse"
   ]
  },
  {
   "cell_type": "code",
   "execution_count": 38,
   "metadata": {},
   "outputs": [],
   "source": [
    "train_index_df=x.iloc[train,-1]\n",
    "test_index_df=x.iloc[test,-1]"
   ]
  },
  {
   "cell_type": "code",
   "execution_count": 39,
   "metadata": {},
   "outputs": [
    {
     "data": {
      "text/plain": [
       "count    206.000000\n",
       "mean       0.954886\n",
       "std        0.026237\n",
       "min        0.909771\n",
       "25%        0.932328\n",
       "50%        0.954886\n",
       "75%        0.977443\n",
       "max        1.000000\n",
       "Name: 1739, dtype: float64"
      ]
     },
     "execution_count": 39,
     "metadata": {},
     "output_type": "execute_result"
    }
   ],
   "source": [
    "test_index_df.describe()"
   ]
  },
  {
   "cell_type": "markdown",
   "metadata": {},
   "source": [
    "## Visualization on real values"
   ]
  },
  {
   "cell_type": "code",
   "execution_count": 40,
   "metadata": {},
   "outputs": [],
   "source": [
    "test_orig_rf_df=pd.DataFrame(y_test)\n",
    "test_pred_rf_df=pd.DataFrame(pred_test_rf )\n",
    "\n",
    "\n",
    "# Creating an empty Dataframe with column names only\n",
    "y_test_rf_df = pd.DataFrame(columns=[])\n",
    "\n",
    "\n",
    "y_test_rf_df['predicted test'] = test_pred_rf_df.iloc[:,0].apply(lambda x: rev_min_max_func(x))\n",
    "y_test_rf_df['original test'] = test_orig_rf_df.iloc[:,0].apply(lambda x: rev_min_max_func(x))\n",
    "#y_test_rf_df['test index'] = test_index_df.iloc[:,0].apply(lambda x: rev_min_max_func(x))\n",
    "#y_test_df['train index'] = train_index_df.iloc[:,0].apply(lambda x: rev_min_max_func(x))"
   ]
  },
  {
   "cell_type": "code",
   "execution_count": 41,
   "metadata": {},
   "outputs": [
    {
     "data": {
      "text/html": [
       "<div>\n",
       "<style scoped>\n",
       "    .dataframe tbody tr th:only-of-type {\n",
       "        vertical-align: middle;\n",
       "    }\n",
       "\n",
       "    .dataframe tbody tr th {\n",
       "        vertical-align: top;\n",
       "    }\n",
       "\n",
       "    .dataframe thead th {\n",
       "        text-align: right;\n",
       "    }\n",
       "</style>\n",
       "<table border=\"1\" class=\"dataframe\">\n",
       "  <thead>\n",
       "    <tr style=\"text-align: right;\">\n",
       "      <th></th>\n",
       "      <th>predicted test</th>\n",
       "      <th>original test</th>\n",
       "    </tr>\n",
       "  </thead>\n",
       "  <tbody>\n",
       "    <tr>\n",
       "      <th>count</th>\n",
       "      <td>206.000000</td>\n",
       "      <td>206.000000</td>\n",
       "    </tr>\n",
       "    <tr>\n",
       "      <th>mean</th>\n",
       "      <td>41215.457670</td>\n",
       "      <td>42702.320388</td>\n",
       "    </tr>\n",
       "    <tr>\n",
       "      <th>std</th>\n",
       "      <td>6091.880952</td>\n",
       "      <td>5406.438069</td>\n",
       "    </tr>\n",
       "    <tr>\n",
       "      <th>min</th>\n",
       "      <td>32718.360000</td>\n",
       "      <td>34882.000000</td>\n",
       "    </tr>\n",
       "    <tr>\n",
       "      <th>25%</th>\n",
       "      <td>37307.275000</td>\n",
       "      <td>38445.000000</td>\n",
       "    </tr>\n",
       "    <tr>\n",
       "      <th>50%</th>\n",
       "      <td>39305.160000</td>\n",
       "      <td>40937.000000</td>\n",
       "    </tr>\n",
       "    <tr>\n",
       "      <th>75%</th>\n",
       "      <td>42961.722500</td>\n",
       "      <td>46516.000000</td>\n",
       "    </tr>\n",
       "    <tr>\n",
       "      <th>max</th>\n",
       "      <td>53252.250000</td>\n",
       "      <td>59741.000000</td>\n",
       "    </tr>\n",
       "  </tbody>\n",
       "</table>\n",
       "</div>"
      ],
      "text/plain": [
       "       predicted test  original test\n",
       "count      206.000000     206.000000\n",
       "mean     41215.457670   42702.320388\n",
       "std       6091.880952    5406.438069\n",
       "min      32718.360000   34882.000000\n",
       "25%      37307.275000   38445.000000\n",
       "50%      39305.160000   40937.000000\n",
       "75%      42961.722500   46516.000000\n",
       "max      53252.250000   59741.000000"
      ]
     },
     "execution_count": 41,
     "metadata": {},
     "output_type": "execute_result"
    }
   ],
   "source": [
    "y_test_rf_df.describe()"
   ]
  },
  {
   "cell_type": "code",
   "execution_count": 42,
   "metadata": {},
   "outputs": [],
   "source": [
    "y_test_rf_df['test index'] = test_index_df.apply(lambda x: rev_index(x))"
   ]
  },
  {
   "cell_type": "code",
   "execution_count": 43,
   "metadata": {},
   "outputs": [],
   "source": [
    "max_val_index = max(df_all['input_index'])\n",
    "min_val_index = min(df_all['input_index'])\n",
    "ind_val_test = (test_index_df*(max_val_index - min_val_index)) + min_val_index\n"
   ]
  },
  {
   "cell_type": "code",
   "execution_count": 44,
   "metadata": {},
   "outputs": [
    {
     "data": {
      "text/plain": [
       "array([2116., 2117., 2118., 2119., 2120., 2121., 2122., 2123., 2124.,\n",
       "       2125., 2126., 2127., 2128., 2129., 2130., 2131., 2132., 2133.,\n",
       "       2134., 2135., 2136., 2137., 2138., 2139., 2140., 2141., 2142.,\n",
       "       2143., 2144., 2145., 2146., 2147., 2148., 2149., 2150., 2151.,\n",
       "       2152., 2153., 2154., 2155., 2156., 2157., 2158., 2159., 2160.,\n",
       "       2161., 2162., 2163., 2164., 2165., 2166., 2167., 2168., 2169.,\n",
       "       2170., 2171., 2172., 2173., 2174., 2175., 2176., 2177., 2178.,\n",
       "       2179., 2180., 2181., 2182., 2183., 2184., 2185., 2186., 2187.,\n",
       "       2188., 2189., 2190., 2191., 2192., 2193., 2194., 2195., 2196.,\n",
       "       2197., 2198., 2199., 2200., 2201., 2202., 2203., 2204., 2205.,\n",
       "       2206., 2207., 2208., 2209., 2210., 2211., 2212., 2213., 2214.,\n",
       "       2215., 2216., 2217., 2218., 2219., 2220., 2221., 2222., 2223.,\n",
       "       2224., 2225., 2226., 2227., 2228., 2229., 2230., 2231., 2232.,\n",
       "       2233., 2234., 2235., 2236., 2237., 2238., 2239., 2240., 2241.,\n",
       "       2242., 2243., 2244., 2245., 2246., 2247., 2248., 2249., 2250.,\n",
       "       2251., 2252., 2253., 2254., 2255., 2256., 2257., 2258., 2259.,\n",
       "       2260., 2261., 2262., 2263., 2264., 2265., 2266., 2267., 2268.,\n",
       "       2269., 2270., 2271., 2272., 2273., 2274., 2275., 2276., 2277.,\n",
       "       2278., 2279., 2280., 2281., 2282., 2283., 2284., 2285., 2286.,\n",
       "       2287., 2288., 2289., 2290., 2291., 2292., 2293., 2294., 2295.,\n",
       "       2296., 2297., 2298., 2299., 2300., 2301., 2302., 2303., 2304.,\n",
       "       2305., 2306., 2307., 2308., 2309., 2310., 2311., 2312., 2313.,\n",
       "       2314., 2315., 2316., 2317., 2318., 2319., 2320., 2321.])"
      ]
     },
     "execution_count": 44,
     "metadata": {},
     "output_type": "execute_result"
    }
   ],
   "source": [
    "ind_val_test.iloc[:].values"
   ]
  },
  {
   "cell_type": "code",
   "execution_count": 45,
   "metadata": {},
   "outputs": [],
   "source": [
    "y_test_rf_df['test index']=ind_val_test.iloc[:].values\n"
   ]
  },
  {
   "cell_type": "code",
   "execution_count": 46,
   "metadata": {},
   "outputs": [
    {
     "data": {
      "text/html": [
       "<div>\n",
       "<style scoped>\n",
       "    .dataframe tbody tr th:only-of-type {\n",
       "        vertical-align: middle;\n",
       "    }\n",
       "\n",
       "    .dataframe tbody tr th {\n",
       "        vertical-align: top;\n",
       "    }\n",
       "\n",
       "    .dataframe thead th {\n",
       "        text-align: right;\n",
       "    }\n",
       "</style>\n",
       "<table border=\"1\" class=\"dataframe\">\n",
       "  <thead>\n",
       "    <tr style=\"text-align: right;\">\n",
       "      <th></th>\n",
       "      <th>predicted test</th>\n",
       "      <th>original test</th>\n",
       "      <th>test index</th>\n",
       "    </tr>\n",
       "  </thead>\n",
       "  <tbody>\n",
       "    <tr>\n",
       "      <th>0</th>\n",
       "      <td>53252.25</td>\n",
       "      <td>53582.0</td>\n",
       "      <td>2116.0</td>\n",
       "    </tr>\n",
       "    <tr>\n",
       "      <th>1</th>\n",
       "      <td>53113.50</td>\n",
       "      <td>51836.0</td>\n",
       "      <td>2117.0</td>\n",
       "    </tr>\n",
       "    <tr>\n",
       "      <th>2</th>\n",
       "      <td>52947.50</td>\n",
       "      <td>51836.0</td>\n",
       "      <td>2118.0</td>\n",
       "    </tr>\n",
       "    <tr>\n",
       "      <th>3</th>\n",
       "      <td>53040.97</td>\n",
       "      <td>51836.0</td>\n",
       "      <td>2119.0</td>\n",
       "    </tr>\n",
       "    <tr>\n",
       "      <th>4</th>\n",
       "      <td>52448.13</td>\n",
       "      <td>51836.0</td>\n",
       "      <td>2120.0</td>\n",
       "    </tr>\n",
       "    <tr>\n",
       "      <th>...</th>\n",
       "      <td>...</td>\n",
       "      <td>...</td>\n",
       "      <td>...</td>\n",
       "    </tr>\n",
       "    <tr>\n",
       "      <th>201</th>\n",
       "      <td>42987.24</td>\n",
       "      <td>54965.0</td>\n",
       "      <td>2317.0</td>\n",
       "    </tr>\n",
       "    <tr>\n",
       "      <th>202</th>\n",
       "      <td>43185.01</td>\n",
       "      <td>54965.0</td>\n",
       "      <td>2318.0</td>\n",
       "    </tr>\n",
       "    <tr>\n",
       "      <th>203</th>\n",
       "      <td>53008.92</td>\n",
       "      <td>54965.0</td>\n",
       "      <td>2319.0</td>\n",
       "    </tr>\n",
       "    <tr>\n",
       "      <th>204</th>\n",
       "      <td>53116.59</td>\n",
       "      <td>54965.0</td>\n",
       "      <td>2320.0</td>\n",
       "    </tr>\n",
       "    <tr>\n",
       "      <th>205</th>\n",
       "      <td>53235.51</td>\n",
       "      <td>59741.0</td>\n",
       "      <td>2321.0</td>\n",
       "    </tr>\n",
       "  </tbody>\n",
       "</table>\n",
       "<p>206 rows × 3 columns</p>\n",
       "</div>"
      ],
      "text/plain": [
       "     predicted test  original test  test index\n",
       "0          53252.25        53582.0      2116.0\n",
       "1          53113.50        51836.0      2117.0\n",
       "2          52947.50        51836.0      2118.0\n",
       "3          53040.97        51836.0      2119.0\n",
       "4          52448.13        51836.0      2120.0\n",
       "..              ...            ...         ...\n",
       "201        42987.24        54965.0      2317.0\n",
       "202        43185.01        54965.0      2318.0\n",
       "203        53008.92        54965.0      2319.0\n",
       "204        53116.59        54965.0      2320.0\n",
       "205        53235.51        59741.0      2321.0\n",
       "\n",
       "[206 rows x 3 columns]"
      ]
     },
     "execution_count": 46,
     "metadata": {},
     "output_type": "execute_result"
    }
   ],
   "source": [
    "y_test_rf_df"
   ]
  },
  {
   "cell_type": "code",
   "execution_count": 47,
   "metadata": {},
   "outputs": [
    {
     "data": {
      "text/html": [
       "<div>\n",
       "<style scoped>\n",
       "    .dataframe tbody tr th:only-of-type {\n",
       "        vertical-align: middle;\n",
       "    }\n",
       "\n",
       "    .dataframe tbody tr th {\n",
       "        vertical-align: top;\n",
       "    }\n",
       "\n",
       "    .dataframe thead th {\n",
       "        text-align: right;\n",
       "    }\n",
       "</style>\n",
       "<table border=\"1\" class=\"dataframe\">\n",
       "  <thead>\n",
       "    <tr style=\"text-align: right;\">\n",
       "      <th></th>\n",
       "      <th>SeriesDate</th>\n",
       "      <th>Inventory</th>\n",
       "      <th>Date</th>\n",
       "      <th>CL</th>\n",
       "      <th>Bakken</th>\n",
       "      <th>MID</th>\n",
       "      <th>LLS</th>\n",
       "      <th>Bakken.1</th>\n",
       "      <th>MID.1</th>\n",
       "      <th>LLS.1</th>\n",
       "      <th>...</th>\n",
       "      <th>2&amp;12</th>\n",
       "      <th>3&amp;4</th>\n",
       "      <th>3&amp;5</th>\n",
       "      <th>3&amp;6</th>\n",
       "      <th>3&amp;7</th>\n",
       "      <th>3&amp;8</th>\n",
       "      <th>3&amp;9</th>\n",
       "      <th>3&amp;10</th>\n",
       "      <th>3&amp;11</th>\n",
       "      <th>3&amp;12</th>\n",
       "    </tr>\n",
       "  </thead>\n",
       "  <tbody>\n",
       "    <tr>\n",
       "      <th>0</th>\n",
       "      <td>2011-01-03</td>\n",
       "      <td>37493</td>\n",
       "      <td>2011-01-03</td>\n",
       "      <td>91.55</td>\n",
       "      <td>88.08</td>\n",
       "      <td>90.99</td>\n",
       "      <td>97.44</td>\n",
       "      <td>3.47</td>\n",
       "      <td>0.56</td>\n",
       "      <td>-5.89</td>\n",
       "      <td>...</td>\n",
       "      <td>-2.40</td>\n",
       "      <td>-0.58</td>\n",
       "      <td>-0.99</td>\n",
       "      <td>-1.31</td>\n",
       "      <td>-1.51</td>\n",
       "      <td>-1.63</td>\n",
       "      <td>-1.70</td>\n",
       "      <td>-1.75</td>\n",
       "      <td>-1.78</td>\n",
       "      <td>-1.69</td>\n",
       "    </tr>\n",
       "    <tr>\n",
       "      <th>1</th>\n",
       "      <td>2011-01-04</td>\n",
       "      <td>37493</td>\n",
       "      <td>2011-01-04</td>\n",
       "      <td>89.38</td>\n",
       "      <td>85.81</td>\n",
       "      <td>88.63</td>\n",
       "      <td>95.83</td>\n",
       "      <td>3.57</td>\n",
       "      <td>0.75</td>\n",
       "      <td>-6.45</td>\n",
       "      <td>...</td>\n",
       "      <td>-3.33</td>\n",
       "      <td>-0.75</td>\n",
       "      <td>-1.31</td>\n",
       "      <td>-1.74</td>\n",
       "      <td>-2.01</td>\n",
       "      <td>-2.19</td>\n",
       "      <td>-2.30</td>\n",
       "      <td>-2.39</td>\n",
       "      <td>-2.47</td>\n",
       "      <td>-2.43</td>\n",
       "    </tr>\n",
       "    <tr>\n",
       "      <th>2</th>\n",
       "      <td>2011-01-05</td>\n",
       "      <td>37493</td>\n",
       "      <td>2011-01-05</td>\n",
       "      <td>90.30</td>\n",
       "      <td>85.44</td>\n",
       "      <td>89.73</td>\n",
       "      <td>97.45</td>\n",
       "      <td>4.86</td>\n",
       "      <td>0.57</td>\n",
       "      <td>-7.15</td>\n",
       "      <td>...</td>\n",
       "      <td>-3.80</td>\n",
       "      <td>-0.84</td>\n",
       "      <td>-1.48</td>\n",
       "      <td>-1.99</td>\n",
       "      <td>-2.32</td>\n",
       "      <td>-2.53</td>\n",
       "      <td>-2.66</td>\n",
       "      <td>-2.76</td>\n",
       "      <td>-2.85</td>\n",
       "      <td>-2.83</td>\n",
       "    </tr>\n",
       "    <tr>\n",
       "      <th>3</th>\n",
       "      <td>2011-01-06</td>\n",
       "      <td>37493</td>\n",
       "      <td>2011-01-06</td>\n",
       "      <td>88.38</td>\n",
       "      <td>83.98</td>\n",
       "      <td>87.57</td>\n",
       "      <td>95.82</td>\n",
       "      <td>4.40</td>\n",
       "      <td>0.81</td>\n",
       "      <td>-7.44</td>\n",
       "      <td>...</td>\n",
       "      <td>-4.55</td>\n",
       "      <td>-0.94</td>\n",
       "      <td>-1.64</td>\n",
       "      <td>-2.19</td>\n",
       "      <td>-2.56</td>\n",
       "      <td>-2.82</td>\n",
       "      <td>-3.02</td>\n",
       "      <td>-3.19</td>\n",
       "      <td>-3.35</td>\n",
       "      <td>-3.40</td>\n",
       "    </tr>\n",
       "    <tr>\n",
       "      <th>4</th>\n",
       "      <td>2011-01-07</td>\n",
       "      <td>37376</td>\n",
       "      <td>2011-01-07</td>\n",
       "      <td>88.03</td>\n",
       "      <td>85.90</td>\n",
       "      <td>87.51</td>\n",
       "      <td>95.01</td>\n",
       "      <td>2.13</td>\n",
       "      <td>0.52</td>\n",
       "      <td>-6.98</td>\n",
       "      <td>...</td>\n",
       "      <td>-3.90</td>\n",
       "      <td>-0.81</td>\n",
       "      <td>-1.42</td>\n",
       "      <td>-1.90</td>\n",
       "      <td>-2.23</td>\n",
       "      <td>-2.47</td>\n",
       "      <td>-2.65</td>\n",
       "      <td>-2.79</td>\n",
       "      <td>-2.92</td>\n",
       "      <td>-2.95</td>\n",
       "    </tr>\n",
       "  </tbody>\n",
       "</table>\n",
       "<p>5 rows × 40 columns</p>\n",
       "</div>"
      ],
      "text/plain": [
       "  SeriesDate  Inventory       Date     CL  Bakken    MID    LLS  Bakken.1  \\\n",
       "0 2011-01-03      37493 2011-01-03  91.55   88.08  90.99  97.44      3.47   \n",
       "1 2011-01-04      37493 2011-01-04  89.38   85.81  88.63  95.83      3.57   \n",
       "2 2011-01-05      37493 2011-01-05  90.30   85.44  89.73  97.45      4.86   \n",
       "3 2011-01-06      37493 2011-01-06  88.38   83.98  87.57  95.82      4.40   \n",
       "4 2011-01-07      37376 2011-01-07  88.03   85.90  87.51  95.01      2.13   \n",
       "\n",
       "   MID.1  LLS.1  ...  2&12   3&4   3&5   3&6   3&7   3&8   3&9  3&10  3&11  \\\n",
       "0   0.56  -5.89  ... -2.40 -0.58 -0.99 -1.31 -1.51 -1.63 -1.70 -1.75 -1.78   \n",
       "1   0.75  -6.45  ... -3.33 -0.75 -1.31 -1.74 -2.01 -2.19 -2.30 -2.39 -2.47   \n",
       "2   0.57  -7.15  ... -3.80 -0.84 -1.48 -1.99 -2.32 -2.53 -2.66 -2.76 -2.85   \n",
       "3   0.81  -7.44  ... -4.55 -0.94 -1.64 -2.19 -2.56 -2.82 -3.02 -3.19 -3.35   \n",
       "4   0.52  -6.98  ... -3.90 -0.81 -1.42 -1.90 -2.23 -2.47 -2.65 -2.79 -2.92   \n",
       "\n",
       "   3&12  \n",
       "0 -1.69  \n",
       "1 -2.43  \n",
       "2 -2.83  \n",
       "3 -3.40  \n",
       "4 -2.95  \n",
       "\n",
       "[5 rows x 40 columns]"
      ]
     },
     "execution_count": 47,
     "metadata": {},
     "output_type": "execute_result"
    }
   ],
   "source": [
    "combined.head()"
   ]
  },
  {
   "cell_type": "code",
   "execution_count": 48,
   "metadata": {},
   "outputs": [],
   "source": [
    "2\n",
    "\t\n",
    "# Merge two Dataframes on index of both the dataframes\n",
    "merged_df = y_test_rf_df.merge(combined, left_index=True, right_index=True)\n",
    "#merged_df=merged_df.set_index('Date')"
   ]
  },
  {
   "cell_type": "markdown",
   "metadata": {},
   "source": [
    "### Plot with complete date value"
   ]
  },
  {
   "cell_type": "code",
   "execution_count": 49,
   "metadata": {},
   "outputs": [
    {
     "data": {
      "image/png": "[encoded data removed]",
      "text/plain": [
       "<Figure size 792x288 with 1 Axes>"
      ]
     },
     "metadata": {},
     "output_type": "display_data"
    }
   ],
   "source": [
    "import matplotlib.dates as mdates\n",
    "\n",
    "plt.gca().xaxis.set_major_formatter(mdates.DateFormatter('%m/%d/%Y'))\n",
    "plt.gca().xaxis.set_major_locator(mdates.DayLocator())\n",
    "\n",
    "plt.gcf().autofmt_xdate()\n",
    "\n",
    "plt.plot(merged_df.Date.values,merged_df['predicted test'].values, 'b')\n",
    "plt.plot(merged_df.Date.values, merged_df['original test'].values, 'r')\n",
    "plt.legend(['True', 'Pred'])\n",
    "plt.title('Predicted vs Original for testing data')\n",
    "\n",
    "plt.xlabel('Date')\n",
    "plt.ylabel('Inventory value')\n",
    "plt.gcf().autofmt_xdate()\n",
    "plt.show()"
   ]
  },
  {
   "cell_type": "markdown",
   "metadata": {},
   "source": [
    "### Plot with auto date value"
   ]
  },
  {
   "cell_type": "code",
   "execution_count": 54,
   "metadata": {},
   "outputs": [
    {
     "data": {
      "image/png": "[encoded data removed]",
      "text/plain": [
       "<Figure size 792x288 with 1 Axes>"
      ]
     },
     "metadata": {},
     "output_type": "display_data"
    }
   ],
   "source": [
    "plt.plot(merged_df.Date.values,merged_df['predicted test'].values, 'b')\n",
    "plt.plot(merged_df.Date.values, merged_df['original test'].values, 'r')\n",
    "plt.legend(['True', 'Pred'])\n",
    "plt.title('Predicted vs True for testing data')\n",
    "plt.gcf().autofmt_xdate()\n",
    "plt.show()"
   ]
  },
  {
   "cell_type": "markdown",
   "metadata": {},
   "source": [
    "# Generating  tree picture for RF"
   ]
  },
  {
   "cell_type": "code",
   "execution_count": 55,
   "metadata": {},
   "outputs": [],
   "source": [
    "df_input=df_all.iloc[:,3:]\n",
    "features_list=list(df_input.columns)"
   ]
  },
  {
   "cell_type": "code",
   "execution_count": 56,
   "metadata": {},
   "outputs": [
    {
     "data": {
      "text/plain": [
       "1737"
      ]
     },
     "execution_count": 56,
     "metadata": {},
     "output_type": "execute_result"
    }
   ],
   "source": [
    "len(features_list)"
   ]
  },
  {
   "cell_type": "code",
   "execution_count": 64,
   "metadata": {},
   "outputs": [],
   "source": [
    "# Import tools needed for visualization\n",
    "from sklearn.tree import export_graphviz\n",
    "import os\n",
    "tree = rf.estimators_[5]# Import tools needed for visualization\n",
    "from sklearn.tree import export_graphviz\n",
    "os.environ['PATH'] = os.environ['PATH']+';' + r'X:\\Program Files\\Graphviz\\bin'\n",
    "tree = rf.estimators_[5]# Export the image to a dot file\n",
    "export_graphviz(tree, out_file = 'tree.dot', feature_names = features_list, rounded = True, precision = 1)# Use dot file to create a graph\n",
    "(graph, ) = pydot.graph_from_dot_file('tree.dot')# Write graph to a png file\n"
   ]
  },
  {
   "cell_type": "code",
   "execution_count": 65,
   "metadata": {},
   "outputs": [],
   "source": [
    "graph.write_png('tree.png')"
   ]
  },
  {
   "cell_type": "code",
   "execution_count": 62,
   "metadata": {},
   "outputs": [],
   "source": [
    "from sklearn.model_selection import RandomizedSearchCV"
   ]
  },
  {
   "cell_type": "markdown",
   "metadata": {},
   "source": [
    "# Random Forest with Grid Search\n"
   ]
  },
  {
   "cell_type": "code",
   "execution_count": 63,
   "metadata": {},
   "outputs": [],
   "source": [
    "from sklearn.model_selection import RandomizedSearchCV# Number of trees in random forest\n",
    "n_estimators = [int(x) for x in np.linspace(start = 200, stop = 2000, num = 10)]\n",
    "# Number of features to consider at every split\n",
    "max_features = ['auto', 'sqrt']\n",
    "# Maximum number of levels in tree\n",
    "max_depth = [int(x) for x in np.linspace(10, 110, num = 11)]\n",
    "max_depth.append(None)\n",
    "# Minimum number of samples required to split a node\n",
    "min_samples_split = [2, 5, 10]\n",
    "# Minimum number of samples required at each leaf node\n",
    "min_samples_leaf = [1, 2, 4]\n",
    "# Method of selecting samples for training each tree\n",
    "bootstrap = [True, False]# Create the random grid\n",
    "random_grid = {'n_estimators': n_estimators,\n",
    "               'max_features': max_features,\n",
    "               'max_depth': max_depth,\n",
    "               'min_samples_split': min_samples_split,\n",
    "               'min_samples_leaf': min_samples_leaf,\n",
    "               'bootstrap': bootstrap}"
   ]
  },
  {
   "cell_type": "code",
   "execution_count": null,
   "metadata": {},
   "outputs": [
    {
     "name": "stdout",
     "output_type": "stream",
     "text": [
      "Fitting 3 folds for each of 100 candidates, totalling 300 fits\n"
     ]
    },
    {
     "name": "stderr",
     "output_type": "stream",
     "text": [
      "[Parallel(n_jobs=-1)]: Using backend LokyBackend with 8 concurrent workers.\n"
     ]
    }
   ],
   "source": [
    "# Use the random grid to search for best hyperparameters\n",
    "# First create the base model to tune\n",
    "rfgs = RandomForestRegressor()\n",
    "# Random search of parameters, using 3 fold cross validation, \n",
    "# search across 100 different combinations, and use all available cores\n",
    "rf_random = RandomizedSearchCV(estimator = rfgs, param_distributions = random_grid, n_iter = 100, cv = 3, verbose=2, random_state=42, n_jobs = -1)# Fit the random search model\n",
    "rf_random.fit(x_train, y_train)"
   ]
  },
  {
   "cell_type": "code",
   "execution_count": null,
   "metadata": {},
   "outputs": [],
   "source": []
  }
 ],
 "metadata": {
  "kernelspec": {
   "display_name": "Python 3",
   "language": "python",
   "name": "python3"
  },
  "language_info": {
   "codemirror_mode": {
    "name": "ipython",
    "version": 3
   },
   "file_extension": ".py",
   "mimetype": "text/x-python",
   "name": "python",
   "nbconvert_exporter": "python",
   "pygments_lexer": "ipython3",
   "version": "3.8.6"
  }
 },
 "nbformat": 4,
 "nbformat_minor": 2
}
