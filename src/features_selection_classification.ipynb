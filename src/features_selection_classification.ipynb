{
 "cells": [
  {
   "cell_type": "code",
   "execution_count": 1,
   "id": "6a01c231",
   "metadata": {},
   "outputs": [],
   "source": [
    "import pandas as pd\n",
    "import numpy as np\n",
    "from sklearn.naive_bayes import GaussianNB\n",
    "from sklearn.neighbors import KNeighborsClassifier\n",
    "from sklearn.linear_model import LogisticRegression\n",
    "from sklearn import metrics\n",
    "import matplotlib\n",
    "import matplotlib.pyplot as plt\n",
    "import seaborn as sns\n",
    "from sklearn.model_selection import train_test_split\n",
    "from sklearn.model_selection import TimeSeriesSplit\n",
    "from sklearn.svm import SVC\n",
    "from sklearn.pipeline import make_pipeline\n",
    "from sklearn.preprocessing import StandardScaler\n",
    "\n",
    "from sklearn.utils import class_weight\n",
    "\n",
    "from sklearn.model_selection import GridSearchCV\n",
    "from sklearn.metrics import precision_recall_fscore_support\n",
    "from sklearn.metrics import confusion_matrix\n",
    "from sklearn.metrics import plot_confusion_matrix\n",
    "from sklearn.metrics import roc_curve\n",
    "from sklearn.metrics import roc_auc_score\n",
    "from matplotlib import pyplot\n",
    "from sklearn.feature_selection import SelectKBest\n",
    "from sklearn.feature_selection import f_classif\n",
    "from sklearn.feature_selection import mutual_info_classif\n",
    "# from sklearn.model_selection import GridSearchCV\n"
   ]
  },
  {
   "cell_type": "code",
   "execution_count": 2,
   "id": "0c1cc8d5",
   "metadata": {},
   "outputs": [],
   "source": [
    "# feature selection\n",
    "def select_features(inputs, target):\n",
    "\t# configure to select all features\n",
    "\tfs = SelectKBest(score_func=mutual_info_classif, k=5)\n",
    "\t# learn relationship from training data\n",
    "\tfs.fit(inputs, target)\n",
    "\treturn fs"
   ]
  },
  {
   "cell_type": "code",
   "execution_count": 3,
   "id": "e5b5ac20",
   "metadata": {},
   "outputs": [],
   "source": [
    "df_numeric=pd.read_csv('clean_numeric_features.csv')"
   ]
  },
  {
   "cell_type": "code",
   "execution_count": 4,
   "id": "cc6fe355",
   "metadata": {},
   "outputs": [],
   "source": [
    "df_cat =pd.read_csv('clean_categorical_features.csv')"
   ]
  },
  {
   "cell_type": "markdown",
   "id": "ae47b95c",
   "metadata": {},
   "source": [
    "# Categorical Features"
   ]
  },
  {
   "cell_type": "code",
   "execution_count": 5,
   "id": "a7284fef",
   "metadata": {},
   "outputs": [
    {
     "data": {
      "text/html": [
       "<div>\n",
       "<style scoped>\n",
       "    .dataframe tbody tr th:only-of-type {\n",
       "        vertical-align: middle;\n",
       "    }\n",
       "\n",
       "    .dataframe tbody tr th {\n",
       "        vertical-align: top;\n",
       "    }\n",
       "\n",
       "    .dataframe thead th {\n",
       "        text-align: right;\n",
       "    }\n",
       "</style>\n",
       "<table border=\"1\" class=\"dataframe\">\n",
       "  <thead>\n",
       "    <tr style=\"text-align: right;\">\n",
       "      <th></th>\n",
       "      <th>Unnamed: 0</th>\n",
       "      <th>Unnamed: 0.1</th>\n",
       "      <th>year</th>\n",
       "      <th>month</th>\n",
       "      <th>month_day</th>\n",
       "      <th>weekday</th>\n",
       "      <th>target_position</th>\n",
       "      <th>target_position (t-1)</th>\n",
       "      <th>target_position (t-2)</th>\n",
       "      <th>target_position (t-3)</th>\n",
       "      <th>...</th>\n",
       "      <th>target_position (t-11)</th>\n",
       "      <th>target_position (t-12)</th>\n",
       "      <th>target_position (t-13)</th>\n",
       "      <th>target_position (t-14)</th>\n",
       "      <th>target_position (t-15)</th>\n",
       "      <th>target_position (t-16)</th>\n",
       "      <th>target_position (t-17)</th>\n",
       "      <th>target_position (t-18)</th>\n",
       "      <th>target_position (t-19)</th>\n",
       "      <th>target_position (t-20)</th>\n",
       "    </tr>\n",
       "  </thead>\n",
       "  <tbody>\n",
       "    <tr>\n",
       "      <th>0</th>\n",
       "      <td>0</td>\n",
       "      <td>20</td>\n",
       "      <td>2017</td>\n",
       "      <td>2</td>\n",
       "      <td>17</td>\n",
       "      <td>4</td>\n",
       "      <td>0</td>\n",
       "      <td>0</td>\n",
       "      <td>0</td>\n",
       "      <td>1</td>\n",
       "      <td>...</td>\n",
       "      <td>0</td>\n",
       "      <td>0</td>\n",
       "      <td>1</td>\n",
       "      <td>0</td>\n",
       "      <td>1</td>\n",
       "      <td>0</td>\n",
       "      <td>0</td>\n",
       "      <td>1</td>\n",
       "      <td>0</td>\n",
       "      <td>0</td>\n",
       "    </tr>\n",
       "    <tr>\n",
       "      <th>1</th>\n",
       "      <td>1</td>\n",
       "      <td>21</td>\n",
       "      <td>2017</td>\n",
       "      <td>2</td>\n",
       "      <td>21</td>\n",
       "      <td>1</td>\n",
       "      <td>0</td>\n",
       "      <td>0</td>\n",
       "      <td>0</td>\n",
       "      <td>0</td>\n",
       "      <td>...</td>\n",
       "      <td>0</td>\n",
       "      <td>0</td>\n",
       "      <td>0</td>\n",
       "      <td>1</td>\n",
       "      <td>0</td>\n",
       "      <td>1</td>\n",
       "      <td>0</td>\n",
       "      <td>0</td>\n",
       "      <td>1</td>\n",
       "      <td>0</td>\n",
       "    </tr>\n",
       "    <tr>\n",
       "      <th>2</th>\n",
       "      <td>2</td>\n",
       "      <td>22</td>\n",
       "      <td>2017</td>\n",
       "      <td>2</td>\n",
       "      <td>22</td>\n",
       "      <td>2</td>\n",
       "      <td>1</td>\n",
       "      <td>0</td>\n",
       "      <td>0</td>\n",
       "      <td>0</td>\n",
       "      <td>...</td>\n",
       "      <td>0</td>\n",
       "      <td>0</td>\n",
       "      <td>0</td>\n",
       "      <td>0</td>\n",
       "      <td>1</td>\n",
       "      <td>0</td>\n",
       "      <td>1</td>\n",
       "      <td>0</td>\n",
       "      <td>0</td>\n",
       "      <td>1</td>\n",
       "    </tr>\n",
       "    <tr>\n",
       "      <th>3</th>\n",
       "      <td>3</td>\n",
       "      <td>23</td>\n",
       "      <td>2017</td>\n",
       "      <td>2</td>\n",
       "      <td>23</td>\n",
       "      <td>3</td>\n",
       "      <td>0</td>\n",
       "      <td>1</td>\n",
       "      <td>0</td>\n",
       "      <td>0</td>\n",
       "      <td>...</td>\n",
       "      <td>0</td>\n",
       "      <td>0</td>\n",
       "      <td>0</td>\n",
       "      <td>0</td>\n",
       "      <td>0</td>\n",
       "      <td>1</td>\n",
       "      <td>0</td>\n",
       "      <td>1</td>\n",
       "      <td>0</td>\n",
       "      <td>0</td>\n",
       "    </tr>\n",
       "    <tr>\n",
       "      <th>4</th>\n",
       "      <td>4</td>\n",
       "      <td>24</td>\n",
       "      <td>2017</td>\n",
       "      <td>2</td>\n",
       "      <td>24</td>\n",
       "      <td>4</td>\n",
       "      <td>1</td>\n",
       "      <td>0</td>\n",
       "      <td>1</td>\n",
       "      <td>0</td>\n",
       "      <td>...</td>\n",
       "      <td>1</td>\n",
       "      <td>0</td>\n",
       "      <td>0</td>\n",
       "      <td>0</td>\n",
       "      <td>0</td>\n",
       "      <td>0</td>\n",
       "      <td>1</td>\n",
       "      <td>0</td>\n",
       "      <td>1</td>\n",
       "      <td>0</td>\n",
       "    </tr>\n",
       "  </tbody>\n",
       "</table>\n",
       "<p>5 rows × 27 columns</p>\n",
       "</div>"
      ],
      "text/plain": [
       "   Unnamed: 0  Unnamed: 0.1  year  month  month_day  weekday  target_position  \\\n",
       "0           0            20  2017      2         17        4                0   \n",
       "1           1            21  2017      2         21        1                0   \n",
       "2           2            22  2017      2         22        2                1   \n",
       "3           3            23  2017      2         23        3                0   \n",
       "4           4            24  2017      2         24        4                1   \n",
       "\n",
       "   target_position (t-1)  target_position (t-2)  target_position (t-3)  ...  \\\n",
       "0                      0                      0                      1  ...   \n",
       "1                      0                      0                      0  ...   \n",
       "2                      0                      0                      0  ...   \n",
       "3                      1                      0                      0  ...   \n",
       "4                      0                      1                      0  ...   \n",
       "\n",
       "   target_position (t-11)  target_position (t-12)  target_position (t-13)  \\\n",
       "0                       0                       0                       1   \n",
       "1                       0                       0                       0   \n",
       "2                       0                       0                       0   \n",
       "3                       0                       0                       0   \n",
       "4                       1                       0                       0   \n",
       "\n",
       "   target_position (t-14)  target_position (t-15)  target_position (t-16)  \\\n",
       "0                       0                       1                       0   \n",
       "1                       1                       0                       1   \n",
       "2                       0                       1                       0   \n",
       "3                       0                       0                       1   \n",
       "4                       0                       0                       0   \n",
       "\n",
       "   target_position (t-17)  target_position (t-18)  target_position (t-19)  \\\n",
       "0                       0                       1                       0   \n",
       "1                       0                       0                       1   \n",
       "2                       1                       0                       0   \n",
       "3                       0                       1                       0   \n",
       "4                       1                       0                       1   \n",
       "\n",
       "   target_position (t-20)  \n",
       "0                       0  \n",
       "1                       0  \n",
       "2                       1  \n",
       "3                       0  \n",
       "4                       0  \n",
       "\n",
       "[5 rows x 27 columns]"
      ]
     },
     "execution_count": 5,
     "metadata": {},
     "output_type": "execute_result"
    }
   ],
   "source": [
    "df_cat.head()"
   ]
  },
  {
   "cell_type": "code",
   "execution_count": 6,
   "id": "955eefb5",
   "metadata": {},
   "outputs": [],
   "source": [
    "df_cat=df_cat.iloc[:, 2:]"
   ]
  },
  {
   "cell_type": "code",
   "execution_count": 7,
   "id": "7c82d30a",
   "metadata": {},
   "outputs": [],
   "source": [
    "df_target=df_cat['target_position']"
   ]
  },
  {
   "cell_type": "code",
   "execution_count": 8,
   "id": "e8fcd872",
   "metadata": {},
   "outputs": [],
   "source": [
    "df_cat.drop(['target_position'], axis=1, inplace=True)"
   ]
  },
  {
   "cell_type": "code",
   "execution_count": 9,
   "id": "442f1f1e",
   "metadata": {},
   "outputs": [
    {
     "name": "stdout",
     "output_type": "stream",
     "text": [
      "<class 'pandas.core.frame.DataFrame'>\n",
      "RangeIndex: 924 entries, 0 to 923\n",
      "Data columns (total 24 columns):\n",
      " #   Column                  Non-Null Count  Dtype\n",
      "---  ------                  --------------  -----\n",
      " 0   year                    924 non-null    int64\n",
      " 1   month                   924 non-null    int64\n",
      " 2   month_day               924 non-null    int64\n",
      " 3   weekday                 924 non-null    int64\n",
      " 4   target_position (t-1)   924 non-null    int64\n",
      " 5   target_position (t-2)   924 non-null    int64\n",
      " 6   target_position (t-3)   924 non-null    int64\n",
      " 7   target_position (t-4)   924 non-null    int64\n",
      " 8   target_position (t-5)   924 non-null    int64\n",
      " 9   target_position (t-6)   924 non-null    int64\n",
      " 10  target_position (t-7)   924 non-null    int64\n",
      " 11  target_position (t-8)   924 non-null    int64\n",
      " 12  target_position (t-9)   924 non-null    int64\n",
      " 13  target_position (t-10)  924 non-null    int64\n",
      " 14  target_position (t-11)  924 non-null    int64\n",
      " 15  target_position (t-12)  924 non-null    int64\n",
      " 16  target_position (t-13)  924 non-null    int64\n",
      " 17  target_position (t-14)  924 non-null    int64\n",
      " 18  target_position (t-15)  924 non-null    int64\n",
      " 19  target_position (t-16)  924 non-null    int64\n",
      " 20  target_position (t-17)  924 non-null    int64\n",
      " 21  target_position (t-18)  924 non-null    int64\n",
      " 22  target_position (t-19)  924 non-null    int64\n",
      " 23  target_position (t-20)  924 non-null    int64\n",
      "dtypes: int64(24)\n",
      "memory usage: 173.4 KB\n"
     ]
    }
   ],
   "source": [
    "df_cat.info()"
   ]
  },
  {
   "cell_type": "markdown",
   "id": "a92a3cd2",
   "metadata": {},
   "source": [
    "# Correlation of categorical features with target value"
   ]
  },
  {
   "cell_type": "code",
   "execution_count": 10,
   "id": "5c8e1dab",
   "metadata": {},
   "outputs": [],
   "source": [
    "# feature selection\n",
    "fs = select_features(df_cat.values, df_target.values)"
   ]
  },
  {
   "cell_type": "code",
   "execution_count": 11,
   "id": "d0e12e00",
   "metadata": {},
   "outputs": [],
   "source": [
    "cat_cols=df_cat.columns"
   ]
  },
  {
   "cell_type": "code",
   "execution_count": 12,
   "id": "503e41df",
   "metadata": {},
   "outputs": [
    {
     "data": {
      "text/plain": [
       "pandas.core.indexes.base.Index"
      ]
     },
     "execution_count": 12,
     "metadata": {},
     "output_type": "execute_result"
    }
   ],
   "source": [
    "type(cat_cols)"
   ]
  },
  {
   "cell_type": "code",
   "execution_count": 13,
   "id": "5dfc94a6",
   "metadata": {},
   "outputs": [
    {
     "name": "stdout",
     "output_type": "stream",
     "text": [
      "Feature target_position (t-8): 0.032074\n",
      "Feature target_position (t-12): 0.018990\n",
      "Feature target_position (t-17): 0.048860\n"
     ]
    },
    {
     "data": {
      "image/png": "[encoded data removed]",
      "text/plain": [
       "<Figure size 432x288 with 1 Axes>"
      ]
     },
     "metadata": {
      "needs_background": "light"
     },
     "output_type": "display_data"
    }
   ],
   "source": [
    "# what are scores for the features\n",
    "selected_cat_cols=[]\n",
    "for i in range(len(fs.scores_)):\n",
    "\t\n",
    "    if fs.scores_[i]>=0.01:\n",
    "        selected_cat_cols.append(cat_cols[i])\n",
    "        print('Feature %s: %f' % (cat_cols[i], fs.scores_[i]))\n",
    "    \n",
    "# plot the scores\n",
    "pyplot.bar([i for i in range(len(fs.scores_))], fs.scores_)\n",
    "pyplot.show()"
   ]
  },
  {
   "cell_type": "code",
   "execution_count": 14,
   "id": "2dfe3d97",
   "metadata": {},
   "outputs": [
    {
     "data": {
      "text/plain": [
       "['target_position (t-8)', 'target_position (t-12)', 'target_position (t-17)']"
      ]
     },
     "execution_count": 14,
     "metadata": {},
     "output_type": "execute_result"
    }
   ],
   "source": [
    "selected_cat_cols"
   ]
  },
  {
   "cell_type": "code",
   "execution_count": 15,
   "id": "7869edbc",
   "metadata": {},
   "outputs": [],
   "source": [
    "selected_cat_df=df_cat[selected_cat_cols]"
   ]
  },
  {
   "cell_type": "code",
   "execution_count": 16,
   "id": "de312cb8",
   "metadata": {},
   "outputs": [
    {
     "data": {
      "text/html": [
       "<div>\n",
       "<style scoped>\n",
       "    .dataframe tbody tr th:only-of-type {\n",
       "        vertical-align: middle;\n",
       "    }\n",
       "\n",
       "    .dataframe tbody tr th {\n",
       "        vertical-align: top;\n",
       "    }\n",
       "\n",
       "    .dataframe thead th {\n",
       "        text-align: right;\n",
       "    }\n",
       "</style>\n",
       "<table border=\"1\" class=\"dataframe\">\n",
       "  <thead>\n",
       "    <tr style=\"text-align: right;\">\n",
       "      <th></th>\n",
       "      <th>target_position (t-8)</th>\n",
       "      <th>target_position (t-12)</th>\n",
       "      <th>target_position (t-17)</th>\n",
       "    </tr>\n",
       "  </thead>\n",
       "  <tbody>\n",
       "    <tr>\n",
       "      <th>0</th>\n",
       "      <td>0</td>\n",
       "      <td>0</td>\n",
       "      <td>0</td>\n",
       "    </tr>\n",
       "    <tr>\n",
       "      <th>1</th>\n",
       "      <td>1</td>\n",
       "      <td>0</td>\n",
       "      <td>0</td>\n",
       "    </tr>\n",
       "    <tr>\n",
       "      <th>2</th>\n",
       "      <td>0</td>\n",
       "      <td>0</td>\n",
       "      <td>1</td>\n",
       "    </tr>\n",
       "    <tr>\n",
       "      <th>3</th>\n",
       "      <td>1</td>\n",
       "      <td>0</td>\n",
       "      <td>0</td>\n",
       "    </tr>\n",
       "    <tr>\n",
       "      <th>4</th>\n",
       "      <td>1</td>\n",
       "      <td>0</td>\n",
       "      <td>1</td>\n",
       "    </tr>\n",
       "  </tbody>\n",
       "</table>\n",
       "</div>"
      ],
      "text/plain": [
       "   target_position (t-8)  target_position (t-12)  target_position (t-17)\n",
       "0                      0                       0                       0\n",
       "1                      1                       0                       0\n",
       "2                      0                       0                       1\n",
       "3                      1                       0                       0\n",
       "4                      1                       0                       1"
      ]
     },
     "execution_count": 16,
     "metadata": {},
     "output_type": "execute_result"
    }
   ],
   "source": [
    "selected_cat_df.head()"
   ]
  },
  {
   "cell_type": "code",
   "execution_count": 17,
   "id": "de02a063",
   "metadata": {},
   "outputs": [
    {
     "name": "stdout",
     "output_type": "stream",
     "text": [
      "<class 'pandas.core.frame.DataFrame'>\n",
      "RangeIndex: 924 entries, 0 to 923\n",
      "Data columns (total 24 columns):\n",
      " #   Column                  Non-Null Count  Dtype\n",
      "---  ------                  --------------  -----\n",
      " 0   year                    924 non-null    int64\n",
      " 1   month                   924 non-null    int64\n",
      " 2   month_day               924 non-null    int64\n",
      " 3   weekday                 924 non-null    int64\n",
      " 4   target_position (t-1)   924 non-null    int64\n",
      " 5   target_position (t-2)   924 non-null    int64\n",
      " 6   target_position (t-3)   924 non-null    int64\n",
      " 7   target_position (t-4)   924 non-null    int64\n",
      " 8   target_position (t-5)   924 non-null    int64\n",
      " 9   target_position (t-6)   924 non-null    int64\n",
      " 10  target_position (t-7)   924 non-null    int64\n",
      " 11  target_position (t-8)   924 non-null    int64\n",
      " 12  target_position (t-9)   924 non-null    int64\n",
      " 13  target_position (t-10)  924 non-null    int64\n",
      " 14  target_position (t-11)  924 non-null    int64\n",
      " 15  target_position (t-12)  924 non-null    int64\n",
      " 16  target_position (t-13)  924 non-null    int64\n",
      " 17  target_position (t-14)  924 non-null    int64\n",
      " 18  target_position (t-15)  924 non-null    int64\n",
      " 19  target_position (t-16)  924 non-null    int64\n",
      " 20  target_position (t-17)  924 non-null    int64\n",
      " 21  target_position (t-18)  924 non-null    int64\n",
      " 22  target_position (t-19)  924 non-null    int64\n",
      " 23  target_position (t-20)  924 non-null    int64\n",
      "dtypes: int64(24)\n",
      "memory usage: 173.4 KB\n"
     ]
    }
   ],
   "source": [
    "df_cat.info()"
   ]
  },
  {
   "cell_type": "markdown",
   "id": "f399df59",
   "metadata": {},
   "source": [
    "# Numerical Features"
   ]
  },
  {
   "cell_type": "code",
   "execution_count": 18,
   "id": "965eeaa9",
   "metadata": {},
   "outputs": [],
   "source": [
    "df_num =pd.read_csv('clean_numeric_features.csv')"
   ]
  },
  {
   "cell_type": "code",
   "execution_count": 19,
   "id": "31e10ea6",
   "metadata": {},
   "outputs": [
    {
     "data": {
      "text/html": [
       "<div>\n",
       "<style scoped>\n",
       "    .dataframe tbody tr th:only-of-type {\n",
       "        vertical-align: middle;\n",
       "    }\n",
       "\n",
       "    .dataframe tbody tr th {\n",
       "        vertical-align: top;\n",
       "    }\n",
       "\n",
       "    .dataframe thead th {\n",
       "        text-align: right;\n",
       "    }\n",
       "</style>\n",
       "<table border=\"1\" class=\"dataframe\">\n",
       "  <thead>\n",
       "    <tr style=\"text-align: right;\">\n",
       "      <th></th>\n",
       "      <th>Unnamed: 0</th>\n",
       "      <th>Unnamed: 0.1</th>\n",
       "      <th>time_spread (t-1)</th>\n",
       "      <th>dod_change (t-1)</th>\n",
       "      <th>MEH-WTI (t-1)</th>\n",
       "      <th>MID (t-1)</th>\n",
       "      <th>LLS (t-1)</th>\n",
       "      <th>MEH | USGC | HSK (t-1)</th>\n",
       "      <th>MEH | USGC | FCC (t-1)</th>\n",
       "      <th>WTI | P2 | FCC (t-1)</th>\n",
       "      <th>...</th>\n",
       "      <th>WTI | P2 | HSK (t-19)</th>\n",
       "      <th>time_spread (t-20)</th>\n",
       "      <th>dod_change (t-20)</th>\n",
       "      <th>MEH-WTI (t-20)</th>\n",
       "      <th>MID (t-20)</th>\n",
       "      <th>LLS (t-20)</th>\n",
       "      <th>MEH | USGC | HSK (t-20)</th>\n",
       "      <th>MEH | USGC | FCC (t-20)</th>\n",
       "      <th>WTI | P2 | FCC (t-20)</th>\n",
       "      <th>WTI | P2 | HSK (t-20)</th>\n",
       "    </tr>\n",
       "  </thead>\n",
       "  <tbody>\n",
       "    <tr>\n",
       "      <th>0</th>\n",
       "      <td>0</td>\n",
       "      <td>20</td>\n",
       "      <td>0.701220</td>\n",
       "      <td>0.516588</td>\n",
       "      <td>0.496774</td>\n",
       "      <td>0.851942</td>\n",
       "      <td>0.589189</td>\n",
       "      <td>0.380414</td>\n",
       "      <td>0.484068</td>\n",
       "      <td>0.543147</td>\n",
       "      <td>...</td>\n",
       "      <td>0.515812</td>\n",
       "      <td>0.651423</td>\n",
       "      <td>0.509953</td>\n",
       "      <td>0.496774</td>\n",
       "      <td>0.883495</td>\n",
       "      <td>0.572973</td>\n",
       "      <td>0.458255</td>\n",
       "      <td>0.564746</td>\n",
       "      <td>0.602369</td>\n",
       "      <td>0.506676</td>\n",
       "    </tr>\n",
       "    <tr>\n",
       "      <th>1</th>\n",
       "      <td>1</td>\n",
       "      <td>21</td>\n",
       "      <td>0.702236</td>\n",
       "      <td>0.508057</td>\n",
       "      <td>0.490323</td>\n",
       "      <td>0.832524</td>\n",
       "      <td>0.583784</td>\n",
       "      <td>0.391086</td>\n",
       "      <td>0.492881</td>\n",
       "      <td>0.542019</td>\n",
       "      <td>...</td>\n",
       "      <td>0.518623</td>\n",
       "      <td>0.658537</td>\n",
       "      <td>0.513744</td>\n",
       "      <td>0.496774</td>\n",
       "      <td>0.885922</td>\n",
       "      <td>0.572973</td>\n",
       "      <td>0.464532</td>\n",
       "      <td>0.571525</td>\n",
       "      <td>0.609701</td>\n",
       "      <td>0.515812</td>\n",
       "    </tr>\n",
       "    <tr>\n",
       "      <th>2</th>\n",
       "      <td>2</td>\n",
       "      <td>22</td>\n",
       "      <td>0.713415</td>\n",
       "      <td>0.517536</td>\n",
       "      <td>0.474194</td>\n",
       "      <td>0.822816</td>\n",
       "      <td>0.581081</td>\n",
       "      <td>0.330195</td>\n",
       "      <td>0.412881</td>\n",
       "      <td>0.178229</td>\n",
       "      <td>...</td>\n",
       "      <td>0.526353</td>\n",
       "      <td>0.656504</td>\n",
       "      <td>0.505213</td>\n",
       "      <td>0.483871</td>\n",
       "      <td>0.881068</td>\n",
       "      <td>0.567568</td>\n",
       "      <td>0.478970</td>\n",
       "      <td>0.581695</td>\n",
       "      <td>0.607445</td>\n",
       "      <td>0.518623</td>\n",
       "    </tr>\n",
       "    <tr>\n",
       "      <th>3</th>\n",
       "      <td>3</td>\n",
       "      <td>23</td>\n",
       "      <td>0.706301</td>\n",
       "      <td>0.500474</td>\n",
       "      <td>0.464516</td>\n",
       "      <td>0.822816</td>\n",
       "      <td>0.586486</td>\n",
       "      <td>0.386692</td>\n",
       "      <td>0.486780</td>\n",
       "      <td>0.571912</td>\n",
       "      <td>...</td>\n",
       "      <td>0.501757</td>\n",
       "      <td>0.661585</td>\n",
       "      <td>0.511848</td>\n",
       "      <td>0.487097</td>\n",
       "      <td>0.878641</td>\n",
       "      <td>0.562162</td>\n",
       "      <td>0.482737</td>\n",
       "      <td>0.589153</td>\n",
       "      <td>0.616469</td>\n",
       "      <td>0.526353</td>\n",
       "    </tr>\n",
       "    <tr>\n",
       "      <th>4</th>\n",
       "      <td>4</td>\n",
       "      <td>24</td>\n",
       "      <td>0.709350</td>\n",
       "      <td>0.509953</td>\n",
       "      <td>0.454839</td>\n",
       "      <td>0.813107</td>\n",
       "      <td>0.581081</td>\n",
       "      <td>0.387320</td>\n",
       "      <td>0.482712</td>\n",
       "      <td>0.548787</td>\n",
       "      <td>...</td>\n",
       "      <td>0.486297</td>\n",
       "      <td>0.661585</td>\n",
       "      <td>0.507109</td>\n",
       "      <td>0.500000</td>\n",
       "      <td>0.883495</td>\n",
       "      <td>0.562162</td>\n",
       "      <td>0.448839</td>\n",
       "      <td>0.549153</td>\n",
       "      <td>0.593909</td>\n",
       "      <td>0.501757</td>\n",
       "    </tr>\n",
       "  </tbody>\n",
       "</table>\n",
       "<p>5 rows × 182 columns</p>\n",
       "</div>"
      ],
      "text/plain": [
       "   Unnamed: 0  Unnamed: 0.1  time_spread (t-1)  dod_change (t-1)  \\\n",
       "0           0            20           0.701220          0.516588   \n",
       "1           1            21           0.702236          0.508057   \n",
       "2           2            22           0.713415          0.517536   \n",
       "3           3            23           0.706301          0.500474   \n",
       "4           4            24           0.709350          0.509953   \n",
       "\n",
       "   MEH-WTI (t-1)  MID (t-1)  LLS (t-1)  MEH | USGC | HSK (t-1)  \\\n",
       "0       0.496774   0.851942   0.589189                0.380414   \n",
       "1       0.490323   0.832524   0.583784                0.391086   \n",
       "2       0.474194   0.822816   0.581081                0.330195   \n",
       "3       0.464516   0.822816   0.586486                0.386692   \n",
       "4       0.454839   0.813107   0.581081                0.387320   \n",
       "\n",
       "   MEH | USGC | FCC (t-1)  WTI | P2 | FCC (t-1)  ...  WTI | P2 | HSK (t-19)  \\\n",
       "0                0.484068              0.543147  ...               0.515812   \n",
       "1                0.492881              0.542019  ...               0.518623   \n",
       "2                0.412881              0.178229  ...               0.526353   \n",
       "3                0.486780              0.571912  ...               0.501757   \n",
       "4                0.482712              0.548787  ...               0.486297   \n",
       "\n",
       "   time_spread (t-20)  dod_change (t-20)  MEH-WTI (t-20)  MID (t-20)  \\\n",
       "0            0.651423           0.509953        0.496774    0.883495   \n",
       "1            0.658537           0.513744        0.496774    0.885922   \n",
       "2            0.656504           0.505213        0.483871    0.881068   \n",
       "3            0.661585           0.511848        0.487097    0.878641   \n",
       "4            0.661585           0.507109        0.500000    0.883495   \n",
       "\n",
       "   LLS (t-20)  MEH | USGC | HSK (t-20)  MEH | USGC | FCC (t-20)  \\\n",
       "0    0.572973                 0.458255                 0.564746   \n",
       "1    0.572973                 0.464532                 0.571525   \n",
       "2    0.567568                 0.478970                 0.581695   \n",
       "3    0.562162                 0.482737                 0.589153   \n",
       "4    0.562162                 0.448839                 0.549153   \n",
       "\n",
       "   WTI | P2 | FCC (t-20)  WTI | P2 | HSK (t-20)  \n",
       "0               0.602369               0.506676  \n",
       "1               0.609701               0.515812  \n",
       "2               0.607445               0.518623  \n",
       "3               0.616469               0.526353  \n",
       "4               0.593909               0.501757  \n",
       "\n",
       "[5 rows x 182 columns]"
      ]
     },
     "execution_count": 19,
     "metadata": {},
     "output_type": "execute_result"
    }
   ],
   "source": [
    "df_num.head()"
   ]
  },
  {
   "cell_type": "code",
   "execution_count": 20,
   "id": "0ef4373d",
   "metadata": {},
   "outputs": [],
   "source": [
    "df_num=df_num.iloc[:, 2:]"
   ]
  },
  {
   "cell_type": "code",
   "execution_count": 21,
   "id": "0fa6e37d",
   "metadata": {},
   "outputs": [
    {
     "name": "stdout",
     "output_type": "stream",
     "text": [
      "time_spread (t-1)          0.121343\n",
      "dod_change (t-1)           0.002349\n",
      "MEH-WTI (t-1)              0.015660\n",
      "MID (t-1)                  0.003238\n",
      "LLS (t-1)                  0.008171\n",
      "                             ...   \n",
      "LLS (t-20)                 0.012849\n",
      "MEH | USGC | HSK (t-20)    0.047555\n",
      "MEH | USGC | FCC (t-20)    0.048058\n",
      "WTI | P2 | FCC (t-20)      0.011001\n",
      "WTI | P2 | HSK (t-20)      0.015218\n",
      "Length: 180, dtype: float64\n"
     ]
    }
   ],
   "source": [
    "# corr_action=df.corrwith(df['target_position'],method='pearson').abs()\n",
    "corr_action=df_num.corrwith(df_target,method='kendall').abs()\n",
    "print(corr_action)"
   ]
  },
  {
   "cell_type": "code",
   "execution_count": 22,
   "id": "49d620e1",
   "metadata": {},
   "outputs": [
    {
     "data": {
      "text/plain": [
       "time_spread (t-1)     0.121343\n",
       "time_spread (t-2)     0.106821\n",
       "time_spread (t-7)     0.105380\n",
       "time_spread (t-9)     0.103585\n",
       "time_spread (t-8)     0.102664\n",
       "time_spread (t-3)     0.101802\n",
       "time_spread (t-20)    0.100919\n",
       "time_spread (t-14)    0.100898\n",
       "time_spread (t-17)    0.098368\n",
       "time_spread (t-10)    0.098136\n",
       "dtype: float64"
      ]
     },
     "execution_count": 22,
     "metadata": {},
     "output_type": "execute_result"
    }
   ],
   "source": [
    "corr_action.sort_values(ascending=False).head(10)"
   ]
  },
  {
   "cell_type": "code",
   "execution_count": 23,
   "id": "688621e2",
   "metadata": {},
   "outputs": [],
   "source": [
    "relevant_num_features = corr_action[corr_action>0.05]"
   ]
  },
  {
   "cell_type": "code",
   "execution_count": 24,
   "id": "acbdc029",
   "metadata": {},
   "outputs": [],
   "source": [
    "relevant_num_features_col=relevant_num_features.index"
   ]
  },
  {
   "cell_type": "code",
   "execution_count": 25,
   "id": "370298e4",
   "metadata": {},
   "outputs": [],
   "source": [
    "selected_num_df = df_num[relevant_num_features_col]  # Only getting columns having corr> 0.1 wrt output"
   ]
  },
  {
   "cell_type": "code",
   "execution_count": 26,
   "id": "7c5d6111",
   "metadata": {},
   "outputs": [
    {
     "name": "stdout",
     "output_type": "stream",
     "text": [
      "<class 'pandas.core.frame.DataFrame'>\n",
      "RangeIndex: 924 entries, 0 to 923\n",
      "Data columns (total 22 columns):\n",
      " #   Column              Non-Null Count  Dtype  \n",
      "---  ------              --------------  -----  \n",
      " 0   time_spread (t-1)   924 non-null    float64\n",
      " 1   time_spread (t-2)   924 non-null    float64\n",
      " 2   time_spread (t-3)   924 non-null    float64\n",
      " 3   time_spread (t-4)   924 non-null    float64\n",
      " 4   time_spread (t-5)   924 non-null    float64\n",
      " 5   time_spread (t-6)   924 non-null    float64\n",
      " 6   dod_change (t-6)    924 non-null    float64\n",
      " 7   time_spread (t-7)   924 non-null    float64\n",
      " 8   time_spread (t-8)   924 non-null    float64\n",
      " 9   time_spread (t-9)   924 non-null    float64\n",
      " 10  time_spread (t-10)  924 non-null    float64\n",
      " 11  time_spread (t-11)  924 non-null    float64\n",
      " 12  time_spread (t-12)  924 non-null    float64\n",
      " 13  time_spread (t-13)  924 non-null    float64\n",
      " 14  dod_change (t-13)   924 non-null    float64\n",
      " 15  time_spread (t-14)  924 non-null    float64\n",
      " 16  time_spread (t-15)  924 non-null    float64\n",
      " 17  time_spread (t-16)  924 non-null    float64\n",
      " 18  time_spread (t-17)  924 non-null    float64\n",
      " 19  time_spread (t-18)  924 non-null    float64\n",
      " 20  time_spread (t-19)  924 non-null    float64\n",
      " 21  time_spread (t-20)  924 non-null    float64\n",
      "dtypes: float64(22)\n",
      "memory usage: 158.9 KB\n"
     ]
    }
   ],
   "source": [
    "selected_num_df.info()"
   ]
  },
  {
   "cell_type": "code",
   "execution_count": 27,
   "id": "94100c5c",
   "metadata": {
    "scrolled": true
   },
   "outputs": [
    {
     "data": {
      "text/html": [
       "<div>\n",
       "<style scoped>\n",
       "    .dataframe tbody tr th:only-of-type {\n",
       "        vertical-align: middle;\n",
       "    }\n",
       "\n",
       "    .dataframe tbody tr th {\n",
       "        vertical-align: top;\n",
       "    }\n",
       "\n",
       "    .dataframe thead th {\n",
       "        text-align: right;\n",
       "    }\n",
       "</style>\n",
       "<table border=\"1\" class=\"dataframe\">\n",
       "  <thead>\n",
       "    <tr style=\"text-align: right;\">\n",
       "      <th></th>\n",
       "      <th>time_spread (t-1)</th>\n",
       "      <th>time_spread (t-2)</th>\n",
       "      <th>time_spread (t-3)</th>\n",
       "      <th>time_spread (t-4)</th>\n",
       "      <th>time_spread (t-5)</th>\n",
       "      <th>time_spread (t-6)</th>\n",
       "      <th>dod_change (t-6)</th>\n",
       "      <th>time_spread (t-7)</th>\n",
       "      <th>time_spread (t-8)</th>\n",
       "      <th>time_spread (t-9)</th>\n",
       "      <th>...</th>\n",
       "      <th>time_spread (t-12)</th>\n",
       "      <th>time_spread (t-13)</th>\n",
       "      <th>dod_change (t-13)</th>\n",
       "      <th>time_spread (t-14)</th>\n",
       "      <th>time_spread (t-15)</th>\n",
       "      <th>time_spread (t-16)</th>\n",
       "      <th>time_spread (t-17)</th>\n",
       "      <th>time_spread (t-18)</th>\n",
       "      <th>time_spread (t-19)</th>\n",
       "      <th>time_spread (t-20)</th>\n",
       "    </tr>\n",
       "  </thead>\n",
       "  <tbody>\n",
       "    <tr>\n",
       "      <th>0</th>\n",
       "      <td>0.701220</td>\n",
       "      <td>0.691057</td>\n",
       "      <td>0.689024</td>\n",
       "      <td>0.690041</td>\n",
       "      <td>0.693089</td>\n",
       "      <td>0.678862</td>\n",
       "      <td>0.507109</td>\n",
       "      <td>0.678862</td>\n",
       "      <td>0.681911</td>\n",
       "      <td>0.679878</td>\n",
       "      <td>...</td>\n",
       "      <td>0.664634</td>\n",
       "      <td>0.659553</td>\n",
       "      <td>0.502370</td>\n",
       "      <td>0.664634</td>\n",
       "      <td>0.658537</td>\n",
       "      <td>0.661585</td>\n",
       "      <td>0.661585</td>\n",
       "      <td>0.656504</td>\n",
       "      <td>0.658537</td>\n",
       "      <td>0.651423</td>\n",
       "    </tr>\n",
       "    <tr>\n",
       "      <th>1</th>\n",
       "      <td>0.702236</td>\n",
       "      <td>0.701220</td>\n",
       "      <td>0.691057</td>\n",
       "      <td>0.689024</td>\n",
       "      <td>0.690041</td>\n",
       "      <td>0.693089</td>\n",
       "      <td>0.506161</td>\n",
       "      <td>0.678862</td>\n",
       "      <td>0.678862</td>\n",
       "      <td>0.681911</td>\n",
       "      <td>...</td>\n",
       "      <td>0.671748</td>\n",
       "      <td>0.664634</td>\n",
       "      <td>0.511848</td>\n",
       "      <td>0.659553</td>\n",
       "      <td>0.664634</td>\n",
       "      <td>0.658537</td>\n",
       "      <td>0.661585</td>\n",
       "      <td>0.661585</td>\n",
       "      <td>0.656504</td>\n",
       "      <td>0.658537</td>\n",
       "    </tr>\n",
       "    <tr>\n",
       "      <th>2</th>\n",
       "      <td>0.713415</td>\n",
       "      <td>0.702236</td>\n",
       "      <td>0.701220</td>\n",
       "      <td>0.691057</td>\n",
       "      <td>0.689024</td>\n",
       "      <td>0.690041</td>\n",
       "      <td>0.504265</td>\n",
       "      <td>0.693089</td>\n",
       "      <td>0.678862</td>\n",
       "      <td>0.678862</td>\n",
       "      <td>...</td>\n",
       "      <td>0.675813</td>\n",
       "      <td>0.671748</td>\n",
       "      <td>0.513744</td>\n",
       "      <td>0.664634</td>\n",
       "      <td>0.659553</td>\n",
       "      <td>0.664634</td>\n",
       "      <td>0.658537</td>\n",
       "      <td>0.661585</td>\n",
       "      <td>0.661585</td>\n",
       "      <td>0.656504</td>\n",
       "    </tr>\n",
       "    <tr>\n",
       "      <th>3</th>\n",
       "      <td>0.706301</td>\n",
       "      <td>0.713415</td>\n",
       "      <td>0.702236</td>\n",
       "      <td>0.701220</td>\n",
       "      <td>0.691057</td>\n",
       "      <td>0.689024</td>\n",
       "      <td>0.506161</td>\n",
       "      <td>0.690041</td>\n",
       "      <td>0.693089</td>\n",
       "      <td>0.678862</td>\n",
       "      <td>...</td>\n",
       "      <td>0.679878</td>\n",
       "      <td>0.675813</td>\n",
       "      <td>0.510900</td>\n",
       "      <td>0.671748</td>\n",
       "      <td>0.664634</td>\n",
       "      <td>0.659553</td>\n",
       "      <td>0.664634</td>\n",
       "      <td>0.658537</td>\n",
       "      <td>0.661585</td>\n",
       "      <td>0.661585</td>\n",
       "    </tr>\n",
       "    <tr>\n",
       "      <th>4</th>\n",
       "      <td>0.709350</td>\n",
       "      <td>0.706301</td>\n",
       "      <td>0.713415</td>\n",
       "      <td>0.702236</td>\n",
       "      <td>0.701220</td>\n",
       "      <td>0.691057</td>\n",
       "      <td>0.509005</td>\n",
       "      <td>0.689024</td>\n",
       "      <td>0.690041</td>\n",
       "      <td>0.693089</td>\n",
       "      <td>...</td>\n",
       "      <td>0.681911</td>\n",
       "      <td>0.679878</td>\n",
       "      <td>0.510900</td>\n",
       "      <td>0.675813</td>\n",
       "      <td>0.671748</td>\n",
       "      <td>0.664634</td>\n",
       "      <td>0.659553</td>\n",
       "      <td>0.664634</td>\n",
       "      <td>0.658537</td>\n",
       "      <td>0.661585</td>\n",
       "    </tr>\n",
       "  </tbody>\n",
       "</table>\n",
       "<p>5 rows × 22 columns</p>\n",
       "</div>"
      ],
      "text/plain": [
       "   time_spread (t-1)  time_spread (t-2)  time_spread (t-3)  time_spread (t-4)  \\\n",
       "0           0.701220           0.691057           0.689024           0.690041   \n",
       "1           0.702236           0.701220           0.691057           0.689024   \n",
       "2           0.713415           0.702236           0.701220           0.691057   \n",
       "3           0.706301           0.713415           0.702236           0.701220   \n",
       "4           0.709350           0.706301           0.713415           0.702236   \n",
       "\n",
       "   time_spread (t-5)  time_spread (t-6)  dod_change (t-6)  time_spread (t-7)  \\\n",
       "0           0.693089           0.678862          0.507109           0.678862   \n",
       "1           0.690041           0.693089          0.506161           0.678862   \n",
       "2           0.689024           0.690041          0.504265           0.693089   \n",
       "3           0.691057           0.689024          0.506161           0.690041   \n",
       "4           0.701220           0.691057          0.509005           0.689024   \n",
       "\n",
       "   time_spread (t-8)  time_spread (t-9)  ...  time_spread (t-12)  \\\n",
       "0           0.681911           0.679878  ...            0.664634   \n",
       "1           0.678862           0.681911  ...            0.671748   \n",
       "2           0.678862           0.678862  ...            0.675813   \n",
       "3           0.693089           0.678862  ...            0.679878   \n",
       "4           0.690041           0.693089  ...            0.681911   \n",
       "\n",
       "   time_spread (t-13)  dod_change (t-13)  time_spread (t-14)  \\\n",
       "0            0.659553           0.502370            0.664634   \n",
       "1            0.664634           0.511848            0.659553   \n",
       "2            0.671748           0.513744            0.664634   \n",
       "3            0.675813           0.510900            0.671748   \n",
       "4            0.679878           0.510900            0.675813   \n",
       "\n",
       "   time_spread (t-15)  time_spread (t-16)  time_spread (t-17)  \\\n",
       "0            0.658537            0.661585            0.661585   \n",
       "1            0.664634            0.658537            0.661585   \n",
       "2            0.659553            0.664634            0.658537   \n",
       "3            0.664634            0.659553            0.664634   \n",
       "4            0.671748            0.664634            0.659553   \n",
       "\n",
       "   time_spread (t-18)  time_spread (t-19)  time_spread (t-20)  \n",
       "0            0.656504            0.658537            0.651423  \n",
       "1            0.661585            0.656504            0.658537  \n",
       "2            0.661585            0.661585            0.656504  \n",
       "3            0.658537            0.661585            0.661585  \n",
       "4            0.664634            0.658537            0.661585  \n",
       "\n",
       "[5 rows x 22 columns]"
      ]
     },
     "execution_count": 27,
     "metadata": {},
     "output_type": "execute_result"
    }
   ],
   "source": [
    "selected_num_df.head()"
   ]
  },
  {
   "cell_type": "markdown",
   "id": "733698e6",
   "metadata": {},
   "source": [
    "# Filtering highly correlated input features"
   ]
  },
  {
   "cell_type": "code",
   "execution_count": 28,
   "id": "3c863795",
   "metadata": {},
   "outputs": [
    {
     "data": {
      "image/png": "[encoded data removed]",
      "text/plain": [
       "<Figure size 1440x1440 with 2 Axes>"
      ]
     },
     "metadata": {
      "needs_background": "light"
     },
     "output_type": "display_data"
    }
   ],
   "source": [
    "pearson_corr = selected_num_df.corr(method='pearson').abs()\n",
    "#Using Pearson Correlation\n",
    "plt.figure(figsize=(20,20))\n",
    "# cor = df.corr()\n",
    "sns.heatmap(pearson_corr, annot=True, cmap=plt.cm.Reds)\n",
    "plt.show()\n"
   ]
  },
  {
   "cell_type": "code",
   "execution_count": 29,
   "id": "1d340667",
   "metadata": {},
   "outputs": [],
   "source": [
    "columns = np.full((pearson_corr.shape[0],), True, dtype=bool)\n",
    "for i in range(pearson_corr.shape[0]):\n",
    "    for j in range(i+1, pearson_corr.shape[0]):\n",
    "        if pearson_corr.iloc[i,j] >= 0.999:\n",
    "            if columns[j]:\n",
    "                columns[j] = False"
   ]
  },
  {
   "cell_type": "code",
   "execution_count": 30,
   "id": "fc7c7dcc",
   "metadata": {},
   "outputs": [],
   "source": [
    "filtered_num_df= selected_num_df.columns[columns]"
   ]
  },
  {
   "cell_type": "code",
   "execution_count": 31,
   "id": "4c7ea1ea",
   "metadata": {},
   "outputs": [
    {
     "data": {
      "text/plain": [
       "Index(['time_spread (t-1)', 'time_spread (t-2)', 'time_spread (t-3)',\n",
       "       'time_spread (t-4)', 'time_spread (t-5)', 'time_spread (t-6)',\n",
       "       'dod_change (t-6)', 'time_spread (t-7)', 'time_spread (t-8)',\n",
       "       'time_spread (t-9)', 'time_spread (t-10)', 'time_spread (t-11)',\n",
       "       'time_spread (t-12)', 'time_spread (t-13)', 'dod_change (t-13)',\n",
       "       'time_spread (t-14)', 'time_spread (t-15)', 'time_spread (t-16)',\n",
       "       'time_spread (t-17)', 'time_spread (t-18)', 'time_spread (t-19)',\n",
       "       'time_spread (t-20)'],\n",
       "      dtype='object')"
      ]
     },
     "execution_count": 31,
     "metadata": {},
     "output_type": "execute_result"
    }
   ],
   "source": [
    "filtered_num_df"
   ]
  },
  {
   "cell_type": "code",
   "execution_count": 32,
   "id": "69d12ade",
   "metadata": {},
   "outputs": [],
   "source": [
    "selected_num_df=selected_num_df[selected_num_df.columns[selected_num_df.columns.isin(filtered_num_df)]]"
   ]
  },
  {
   "cell_type": "code",
   "execution_count": 33,
   "id": "175f91e1",
   "metadata": {},
   "outputs": [
    {
     "data": {
      "text/html": [
       "<div>\n",
       "<style scoped>\n",
       "    .dataframe tbody tr th:only-of-type {\n",
       "        vertical-align: middle;\n",
       "    }\n",
       "\n",
       "    .dataframe tbody tr th {\n",
       "        vertical-align: top;\n",
       "    }\n",
       "\n",
       "    .dataframe thead th {\n",
       "        text-align: right;\n",
       "    }\n",
       "</style>\n",
       "<table border=\"1\" class=\"dataframe\">\n",
       "  <thead>\n",
       "    <tr style=\"text-align: right;\">\n",
       "      <th></th>\n",
       "      <th>time_spread (t-1)</th>\n",
       "      <th>time_spread (t-2)</th>\n",
       "      <th>time_spread (t-3)</th>\n",
       "      <th>time_spread (t-4)</th>\n",
       "      <th>time_spread (t-5)</th>\n",
       "      <th>time_spread (t-6)</th>\n",
       "      <th>dod_change (t-6)</th>\n",
       "      <th>time_spread (t-7)</th>\n",
       "      <th>time_spread (t-8)</th>\n",
       "      <th>time_spread (t-9)</th>\n",
       "      <th>...</th>\n",
       "      <th>time_spread (t-12)</th>\n",
       "      <th>time_spread (t-13)</th>\n",
       "      <th>dod_change (t-13)</th>\n",
       "      <th>time_spread (t-14)</th>\n",
       "      <th>time_spread (t-15)</th>\n",
       "      <th>time_spread (t-16)</th>\n",
       "      <th>time_spread (t-17)</th>\n",
       "      <th>time_spread (t-18)</th>\n",
       "      <th>time_spread (t-19)</th>\n",
       "      <th>time_spread (t-20)</th>\n",
       "    </tr>\n",
       "  </thead>\n",
       "  <tbody>\n",
       "    <tr>\n",
       "      <th>0</th>\n",
       "      <td>0.701220</td>\n",
       "      <td>0.691057</td>\n",
       "      <td>0.689024</td>\n",
       "      <td>0.690041</td>\n",
       "      <td>0.693089</td>\n",
       "      <td>0.678862</td>\n",
       "      <td>0.507109</td>\n",
       "      <td>0.678862</td>\n",
       "      <td>0.681911</td>\n",
       "      <td>0.679878</td>\n",
       "      <td>...</td>\n",
       "      <td>0.664634</td>\n",
       "      <td>0.659553</td>\n",
       "      <td>0.502370</td>\n",
       "      <td>0.664634</td>\n",
       "      <td>0.658537</td>\n",
       "      <td>0.661585</td>\n",
       "      <td>0.661585</td>\n",
       "      <td>0.656504</td>\n",
       "      <td>0.658537</td>\n",
       "      <td>0.651423</td>\n",
       "    </tr>\n",
       "    <tr>\n",
       "      <th>1</th>\n",
       "      <td>0.702236</td>\n",
       "      <td>0.701220</td>\n",
       "      <td>0.691057</td>\n",
       "      <td>0.689024</td>\n",
       "      <td>0.690041</td>\n",
       "      <td>0.693089</td>\n",
       "      <td>0.506161</td>\n",
       "      <td>0.678862</td>\n",
       "      <td>0.678862</td>\n",
       "      <td>0.681911</td>\n",
       "      <td>...</td>\n",
       "      <td>0.671748</td>\n",
       "      <td>0.664634</td>\n",
       "      <td>0.511848</td>\n",
       "      <td>0.659553</td>\n",
       "      <td>0.664634</td>\n",
       "      <td>0.658537</td>\n",
       "      <td>0.661585</td>\n",
       "      <td>0.661585</td>\n",
       "      <td>0.656504</td>\n",
       "      <td>0.658537</td>\n",
       "    </tr>\n",
       "    <tr>\n",
       "      <th>2</th>\n",
       "      <td>0.713415</td>\n",
       "      <td>0.702236</td>\n",
       "      <td>0.701220</td>\n",
       "      <td>0.691057</td>\n",
       "      <td>0.689024</td>\n",
       "      <td>0.690041</td>\n",
       "      <td>0.504265</td>\n",
       "      <td>0.693089</td>\n",
       "      <td>0.678862</td>\n",
       "      <td>0.678862</td>\n",
       "      <td>...</td>\n",
       "      <td>0.675813</td>\n",
       "      <td>0.671748</td>\n",
       "      <td>0.513744</td>\n",
       "      <td>0.664634</td>\n",
       "      <td>0.659553</td>\n",
       "      <td>0.664634</td>\n",
       "      <td>0.658537</td>\n",
       "      <td>0.661585</td>\n",
       "      <td>0.661585</td>\n",
       "      <td>0.656504</td>\n",
       "    </tr>\n",
       "    <tr>\n",
       "      <th>3</th>\n",
       "      <td>0.706301</td>\n",
       "      <td>0.713415</td>\n",
       "      <td>0.702236</td>\n",
       "      <td>0.701220</td>\n",
       "      <td>0.691057</td>\n",
       "      <td>0.689024</td>\n",
       "      <td>0.506161</td>\n",
       "      <td>0.690041</td>\n",
       "      <td>0.693089</td>\n",
       "      <td>0.678862</td>\n",
       "      <td>...</td>\n",
       "      <td>0.679878</td>\n",
       "      <td>0.675813</td>\n",
       "      <td>0.510900</td>\n",
       "      <td>0.671748</td>\n",
       "      <td>0.664634</td>\n",
       "      <td>0.659553</td>\n",
       "      <td>0.664634</td>\n",
       "      <td>0.658537</td>\n",
       "      <td>0.661585</td>\n",
       "      <td>0.661585</td>\n",
       "    </tr>\n",
       "    <tr>\n",
       "      <th>4</th>\n",
       "      <td>0.709350</td>\n",
       "      <td>0.706301</td>\n",
       "      <td>0.713415</td>\n",
       "      <td>0.702236</td>\n",
       "      <td>0.701220</td>\n",
       "      <td>0.691057</td>\n",
       "      <td>0.509005</td>\n",
       "      <td>0.689024</td>\n",
       "      <td>0.690041</td>\n",
       "      <td>0.693089</td>\n",
       "      <td>...</td>\n",
       "      <td>0.681911</td>\n",
       "      <td>0.679878</td>\n",
       "      <td>0.510900</td>\n",
       "      <td>0.675813</td>\n",
       "      <td>0.671748</td>\n",
       "      <td>0.664634</td>\n",
       "      <td>0.659553</td>\n",
       "      <td>0.664634</td>\n",
       "      <td>0.658537</td>\n",
       "      <td>0.661585</td>\n",
       "    </tr>\n",
       "  </tbody>\n",
       "</table>\n",
       "<p>5 rows × 22 columns</p>\n",
       "</div>"
      ],
      "text/plain": [
       "   time_spread (t-1)  time_spread (t-2)  time_spread (t-3)  time_spread (t-4)  \\\n",
       "0           0.701220           0.691057           0.689024           0.690041   \n",
       "1           0.702236           0.701220           0.691057           0.689024   \n",
       "2           0.713415           0.702236           0.701220           0.691057   \n",
       "3           0.706301           0.713415           0.702236           0.701220   \n",
       "4           0.709350           0.706301           0.713415           0.702236   \n",
       "\n",
       "   time_spread (t-5)  time_spread (t-6)  dod_change (t-6)  time_spread (t-7)  \\\n",
       "0           0.693089           0.678862          0.507109           0.678862   \n",
       "1           0.690041           0.693089          0.506161           0.678862   \n",
       "2           0.689024           0.690041          0.504265           0.693089   \n",
       "3           0.691057           0.689024          0.506161           0.690041   \n",
       "4           0.701220           0.691057          0.509005           0.689024   \n",
       "\n",
       "   time_spread (t-8)  time_spread (t-9)  ...  time_spread (t-12)  \\\n",
       "0           0.681911           0.679878  ...            0.664634   \n",
       "1           0.678862           0.681911  ...            0.671748   \n",
       "2           0.678862           0.678862  ...            0.675813   \n",
       "3           0.693089           0.678862  ...            0.679878   \n",
       "4           0.690041           0.693089  ...            0.681911   \n",
       "\n",
       "   time_spread (t-13)  dod_change (t-13)  time_spread (t-14)  \\\n",
       "0            0.659553           0.502370            0.664634   \n",
       "1            0.664634           0.511848            0.659553   \n",
       "2            0.671748           0.513744            0.664634   \n",
       "3            0.675813           0.510900            0.671748   \n",
       "4            0.679878           0.510900            0.675813   \n",
       "\n",
       "   time_spread (t-15)  time_spread (t-16)  time_spread (t-17)  \\\n",
       "0            0.658537            0.661585            0.661585   \n",
       "1            0.664634            0.658537            0.661585   \n",
       "2            0.659553            0.664634            0.658537   \n",
       "3            0.664634            0.659553            0.664634   \n",
       "4            0.671748            0.664634            0.659553   \n",
       "\n",
       "   time_spread (t-18)  time_spread (t-19)  time_spread (t-20)  \n",
       "0            0.656504            0.658537            0.651423  \n",
       "1            0.661585            0.656504            0.658537  \n",
       "2            0.661585            0.661585            0.656504  \n",
       "3            0.658537            0.661585            0.661585  \n",
       "4            0.664634            0.658537            0.661585  \n",
       "\n",
       "[5 rows x 22 columns]"
      ]
     },
     "execution_count": 33,
     "metadata": {},
     "output_type": "execute_result"
    }
   ],
   "source": [
    "selected_num_df.head()"
   ]
  },
  {
   "cell_type": "code",
   "execution_count": 34,
   "id": "1031ce00",
   "metadata": {},
   "outputs": [
    {
     "name": "stdout",
     "output_type": "stream",
     "text": [
      "<class 'pandas.core.frame.DataFrame'>\n",
      "RangeIndex: 924 entries, 0 to 923\n",
      "Data columns (total 22 columns):\n",
      " #   Column              Non-Null Count  Dtype  \n",
      "---  ------              --------------  -----  \n",
      " 0   time_spread (t-1)   924 non-null    float64\n",
      " 1   time_spread (t-2)   924 non-null    float64\n",
      " 2   time_spread (t-3)   924 non-null    float64\n",
      " 3   time_spread (t-4)   924 non-null    float64\n",
      " 4   time_spread (t-5)   924 non-null    float64\n",
      " 5   time_spread (t-6)   924 non-null    float64\n",
      " 6   dod_change (t-6)    924 non-null    float64\n",
      " 7   time_spread (t-7)   924 non-null    float64\n",
      " 8   time_spread (t-8)   924 non-null    float64\n",
      " 9   time_spread (t-9)   924 non-null    float64\n",
      " 10  time_spread (t-10)  924 non-null    float64\n",
      " 11  time_spread (t-11)  924 non-null    float64\n",
      " 12  time_spread (t-12)  924 non-null    float64\n",
      " 13  time_spread (t-13)  924 non-null    float64\n",
      " 14  dod_change (t-13)   924 non-null    float64\n",
      " 15  time_spread (t-14)  924 non-null    float64\n",
      " 16  time_spread (t-15)  924 non-null    float64\n",
      " 17  time_spread (t-16)  924 non-null    float64\n",
      " 18  time_spread (t-17)  924 non-null    float64\n",
      " 19  time_spread (t-18)  924 non-null    float64\n",
      " 20  time_spread (t-19)  924 non-null    float64\n",
      " 21  time_spread (t-20)  924 non-null    float64\n",
      "dtypes: float64(22)\n",
      "memory usage: 158.9 KB\n"
     ]
    }
   ],
   "source": [
    "selected_num_df.info()"
   ]
  },
  {
   "cell_type": "code",
   "execution_count": 35,
   "id": "6fb63b4f",
   "metadata": {},
   "outputs": [],
   "source": [
    "selected_num_cols=selected_num_df.columns.tolist()"
   ]
  },
  {
   "cell_type": "code",
   "execution_count": 36,
   "id": "d7986505",
   "metadata": {},
   "outputs": [
    {
     "data": {
      "text/plain": [
       "['time_spread (t-1)',\n",
       " 'time_spread (t-2)',\n",
       " 'time_spread (t-3)',\n",
       " 'time_spread (t-4)',\n",
       " 'time_spread (t-5)',\n",
       " 'time_spread (t-6)',\n",
       " 'dod_change (t-6)',\n",
       " 'time_spread (t-7)',\n",
       " 'time_spread (t-8)',\n",
       " 'time_spread (t-9)',\n",
       " 'time_spread (t-10)',\n",
       " 'time_spread (t-11)',\n",
       " 'time_spread (t-12)',\n",
       " 'time_spread (t-13)',\n",
       " 'dod_change (t-13)',\n",
       " 'time_spread (t-14)',\n",
       " 'time_spread (t-15)',\n",
       " 'time_spread (t-16)',\n",
       " 'time_spread (t-17)',\n",
       " 'time_spread (t-18)',\n",
       " 'time_spread (t-19)',\n",
       " 'time_spread (t-20)']"
      ]
     },
     "execution_count": 36,
     "metadata": {},
     "output_type": "execute_result"
    }
   ],
   "source": [
    "selected_num_cols"
   ]
  },
  {
   "cell_type": "markdown",
   "id": "5be364f8",
   "metadata": {},
   "source": [
    "## Combining categorical and numerical features"
   ]
  },
  {
   "cell_type": "code",
   "execution_count": 37,
   "id": "add42aee",
   "metadata": {},
   "outputs": [],
   "source": [
    "# Merge two Dataframes on index of both the dataframes\n",
    "selected_df = selected_cat_df.merge(selected_num_df, left_index=True, right_index=True)"
   ]
  },
  {
   "cell_type": "code",
   "execution_count": 38,
   "id": "0d50261c",
   "metadata": {},
   "outputs": [
    {
     "data": {
      "text/html": [
       "<div>\n",
       "<style scoped>\n",
       "    .dataframe tbody tr th:only-of-type {\n",
       "        vertical-align: middle;\n",
       "    }\n",
       "\n",
       "    .dataframe tbody tr th {\n",
       "        vertical-align: top;\n",
       "    }\n",
       "\n",
       "    .dataframe thead th {\n",
       "        text-align: right;\n",
       "    }\n",
       "</style>\n",
       "<table border=\"1\" class=\"dataframe\">\n",
       "  <thead>\n",
       "    <tr style=\"text-align: right;\">\n",
       "      <th></th>\n",
       "      <th>target_position (t-8)</th>\n",
       "      <th>target_position (t-12)</th>\n",
       "      <th>target_position (t-17)</th>\n",
       "      <th>time_spread (t-1)</th>\n",
       "      <th>time_spread (t-2)</th>\n",
       "      <th>time_spread (t-3)</th>\n",
       "      <th>time_spread (t-4)</th>\n",
       "      <th>time_spread (t-5)</th>\n",
       "      <th>time_spread (t-6)</th>\n",
       "      <th>dod_change (t-6)</th>\n",
       "      <th>...</th>\n",
       "      <th>time_spread (t-12)</th>\n",
       "      <th>time_spread (t-13)</th>\n",
       "      <th>dod_change (t-13)</th>\n",
       "      <th>time_spread (t-14)</th>\n",
       "      <th>time_spread (t-15)</th>\n",
       "      <th>time_spread (t-16)</th>\n",
       "      <th>time_spread (t-17)</th>\n",
       "      <th>time_spread (t-18)</th>\n",
       "      <th>time_spread (t-19)</th>\n",
       "      <th>time_spread (t-20)</th>\n",
       "    </tr>\n",
       "  </thead>\n",
       "  <tbody>\n",
       "    <tr>\n",
       "      <th>0</th>\n",
       "      <td>0</td>\n",
       "      <td>0</td>\n",
       "      <td>0</td>\n",
       "      <td>0.701220</td>\n",
       "      <td>0.691057</td>\n",
       "      <td>0.689024</td>\n",
       "      <td>0.690041</td>\n",
       "      <td>0.693089</td>\n",
       "      <td>0.678862</td>\n",
       "      <td>0.507109</td>\n",
       "      <td>...</td>\n",
       "      <td>0.664634</td>\n",
       "      <td>0.659553</td>\n",
       "      <td>0.502370</td>\n",
       "      <td>0.664634</td>\n",
       "      <td>0.658537</td>\n",
       "      <td>0.661585</td>\n",
       "      <td>0.661585</td>\n",
       "      <td>0.656504</td>\n",
       "      <td>0.658537</td>\n",
       "      <td>0.651423</td>\n",
       "    </tr>\n",
       "    <tr>\n",
       "      <th>1</th>\n",
       "      <td>1</td>\n",
       "      <td>0</td>\n",
       "      <td>0</td>\n",
       "      <td>0.702236</td>\n",
       "      <td>0.701220</td>\n",
       "      <td>0.691057</td>\n",
       "      <td>0.689024</td>\n",
       "      <td>0.690041</td>\n",
       "      <td>0.693089</td>\n",
       "      <td>0.506161</td>\n",
       "      <td>...</td>\n",
       "      <td>0.671748</td>\n",
       "      <td>0.664634</td>\n",
       "      <td>0.511848</td>\n",
       "      <td>0.659553</td>\n",
       "      <td>0.664634</td>\n",
       "      <td>0.658537</td>\n",
       "      <td>0.661585</td>\n",
       "      <td>0.661585</td>\n",
       "      <td>0.656504</td>\n",
       "      <td>0.658537</td>\n",
       "    </tr>\n",
       "    <tr>\n",
       "      <th>2</th>\n",
       "      <td>0</td>\n",
       "      <td>0</td>\n",
       "      <td>1</td>\n",
       "      <td>0.713415</td>\n",
       "      <td>0.702236</td>\n",
       "      <td>0.701220</td>\n",
       "      <td>0.691057</td>\n",
       "      <td>0.689024</td>\n",
       "      <td>0.690041</td>\n",
       "      <td>0.504265</td>\n",
       "      <td>...</td>\n",
       "      <td>0.675813</td>\n",
       "      <td>0.671748</td>\n",
       "      <td>0.513744</td>\n",
       "      <td>0.664634</td>\n",
       "      <td>0.659553</td>\n",
       "      <td>0.664634</td>\n",
       "      <td>0.658537</td>\n",
       "      <td>0.661585</td>\n",
       "      <td>0.661585</td>\n",
       "      <td>0.656504</td>\n",
       "    </tr>\n",
       "    <tr>\n",
       "      <th>3</th>\n",
       "      <td>1</td>\n",
       "      <td>0</td>\n",
       "      <td>0</td>\n",
       "      <td>0.706301</td>\n",
       "      <td>0.713415</td>\n",
       "      <td>0.702236</td>\n",
       "      <td>0.701220</td>\n",
       "      <td>0.691057</td>\n",
       "      <td>0.689024</td>\n",
       "      <td>0.506161</td>\n",
       "      <td>...</td>\n",
       "      <td>0.679878</td>\n",
       "      <td>0.675813</td>\n",
       "      <td>0.510900</td>\n",
       "      <td>0.671748</td>\n",
       "      <td>0.664634</td>\n",
       "      <td>0.659553</td>\n",
       "      <td>0.664634</td>\n",
       "      <td>0.658537</td>\n",
       "      <td>0.661585</td>\n",
       "      <td>0.661585</td>\n",
       "    </tr>\n",
       "    <tr>\n",
       "      <th>4</th>\n",
       "      <td>1</td>\n",
       "      <td>0</td>\n",
       "      <td>1</td>\n",
       "      <td>0.709350</td>\n",
       "      <td>0.706301</td>\n",
       "      <td>0.713415</td>\n",
       "      <td>0.702236</td>\n",
       "      <td>0.701220</td>\n",
       "      <td>0.691057</td>\n",
       "      <td>0.509005</td>\n",
       "      <td>...</td>\n",
       "      <td>0.681911</td>\n",
       "      <td>0.679878</td>\n",
       "      <td>0.510900</td>\n",
       "      <td>0.675813</td>\n",
       "      <td>0.671748</td>\n",
       "      <td>0.664634</td>\n",
       "      <td>0.659553</td>\n",
       "      <td>0.664634</td>\n",
       "      <td>0.658537</td>\n",
       "      <td>0.661585</td>\n",
       "    </tr>\n",
       "  </tbody>\n",
       "</table>\n",
       "<p>5 rows × 25 columns</p>\n",
       "</div>"
      ],
      "text/plain": [
       "   target_position (t-8)  target_position (t-12)  target_position (t-17)  \\\n",
       "0                      0                       0                       0   \n",
       "1                      1                       0                       0   \n",
       "2                      0                       0                       1   \n",
       "3                      1                       0                       0   \n",
       "4                      1                       0                       1   \n",
       "\n",
       "   time_spread (t-1)  time_spread (t-2)  time_spread (t-3)  time_spread (t-4)  \\\n",
       "0           0.701220           0.691057           0.689024           0.690041   \n",
       "1           0.702236           0.701220           0.691057           0.689024   \n",
       "2           0.713415           0.702236           0.701220           0.691057   \n",
       "3           0.706301           0.713415           0.702236           0.701220   \n",
       "4           0.709350           0.706301           0.713415           0.702236   \n",
       "\n",
       "   time_spread (t-5)  time_spread (t-6)  dod_change (t-6)  ...  \\\n",
       "0           0.693089           0.678862          0.507109  ...   \n",
       "1           0.690041           0.693089          0.506161  ...   \n",
       "2           0.689024           0.690041          0.504265  ...   \n",
       "3           0.691057           0.689024          0.506161  ...   \n",
       "4           0.701220           0.691057          0.509005  ...   \n",
       "\n",
       "   time_spread (t-12)  time_spread (t-13)  dod_change (t-13)  \\\n",
       "0            0.664634            0.659553           0.502370   \n",
       "1            0.671748            0.664634           0.511848   \n",
       "2            0.675813            0.671748           0.513744   \n",
       "3            0.679878            0.675813           0.510900   \n",
       "4            0.681911            0.679878           0.510900   \n",
       "\n",
       "   time_spread (t-14)  time_spread (t-15)  time_spread (t-16)  \\\n",
       "0            0.664634            0.658537            0.661585   \n",
       "1            0.659553            0.664634            0.658537   \n",
       "2            0.664634            0.659553            0.664634   \n",
       "3            0.671748            0.664634            0.659553   \n",
       "4            0.675813            0.671748            0.664634   \n",
       "\n",
       "   time_spread (t-17)  time_spread (t-18)  time_spread (t-19)  \\\n",
       "0            0.661585            0.656504            0.658537   \n",
       "1            0.661585            0.661585            0.656504   \n",
       "2            0.658537            0.661585            0.661585   \n",
       "3            0.664634            0.658537            0.661585   \n",
       "4            0.659553            0.664634            0.658537   \n",
       "\n",
       "   time_spread (t-20)  \n",
       "0            0.651423  \n",
       "1            0.658537  \n",
       "2            0.656504  \n",
       "3            0.661585  \n",
       "4            0.661585  \n",
       "\n",
       "[5 rows x 25 columns]"
      ]
     },
     "execution_count": 38,
     "metadata": {},
     "output_type": "execute_result"
    }
   ],
   "source": [
    "selected_df.head()"
   ]
  },
  {
   "cell_type": "code",
   "execution_count": 39,
   "id": "cf2d45cd",
   "metadata": {},
   "outputs": [
    {
     "name": "stdout",
     "output_type": "stream",
     "text": [
      "<class 'pandas.core.frame.DataFrame'>\n",
      "RangeIndex: 924 entries, 0 to 923\n",
      "Data columns (total 25 columns):\n",
      " #   Column                  Non-Null Count  Dtype  \n",
      "---  ------                  --------------  -----  \n",
      " 0   target_position (t-8)   924 non-null    int64  \n",
      " 1   target_position (t-12)  924 non-null    int64  \n",
      " 2   target_position (t-17)  924 non-null    int64  \n",
      " 3   time_spread (t-1)       924 non-null    float64\n",
      " 4   time_spread (t-2)       924 non-null    float64\n",
      " 5   time_spread (t-3)       924 non-null    float64\n",
      " 6   time_spread (t-4)       924 non-null    float64\n",
      " 7   time_spread (t-5)       924 non-null    float64\n",
      " 8   time_spread (t-6)       924 non-null    float64\n",
      " 9   dod_change (t-6)        924 non-null    float64\n",
      " 10  time_spread (t-7)       924 non-null    float64\n",
      " 11  time_spread (t-8)       924 non-null    float64\n",
      " 12  time_spread (t-9)       924 non-null    float64\n",
      " 13  time_spread (t-10)      924 non-null    float64\n",
      " 14  time_spread (t-11)      924 non-null    float64\n",
      " 15  time_spread (t-12)      924 non-null    float64\n",
      " 16  time_spread (t-13)      924 non-null    float64\n",
      " 17  dod_change (t-13)       924 non-null    float64\n",
      " 18  time_spread (t-14)      924 non-null    float64\n",
      " 19  time_spread (t-15)      924 non-null    float64\n",
      " 20  time_spread (t-16)      924 non-null    float64\n",
      " 21  time_spread (t-17)      924 non-null    float64\n",
      " 22  time_spread (t-18)      924 non-null    float64\n",
      " 23  time_spread (t-19)      924 non-null    float64\n",
      " 24  time_spread (t-20)      924 non-null    float64\n",
      "dtypes: float64(22), int64(3)\n",
      "memory usage: 180.6 KB\n"
     ]
    }
   ],
   "source": [
    "selected_df.info()"
   ]
  },
  {
   "cell_type": "code",
   "execution_count": 40,
   "id": "b69b8c52",
   "metadata": {},
   "outputs": [],
   "source": [
    "selected_df.to_csv('final_features.csv')"
   ]
  },
  {
   "cell_type": "code",
   "execution_count": 41,
   "id": "03cb9c13",
   "metadata": {},
   "outputs": [],
   "source": [
    "x_df=selected_df\n",
    "y_df=df_target"
   ]
  },
  {
   "cell_type": "code",
   "execution_count": 42,
   "id": "6fbdb780",
   "metadata": {},
   "outputs": [],
   "source": [
    "# x_train, x_test, y_train, y_test = train_test_split(x_df.values, y_df.values, test_size=0.33, random_state=42)\n"
   ]
  },
  {
   "cell_type": "code",
   "execution_count": 43,
   "id": "e613879b",
   "metadata": {},
   "outputs": [
    {
     "data": {
      "image/png": "[encoded data removed]",
      "text/plain": [
       "<Figure size 720x360 with 1 Axes>"
      ]
     },
     "metadata": {
      "needs_background": "light"
     },
     "output_type": "display_data"
    }
   ],
   "source": [
    "cv=TimeSeriesSplit(n_splits=10)\n",
    "\n",
    "fig, ax = plt.subplots(figsize=(10, 5))\n",
    "for ii, (train, test) in enumerate(cv.split(x_df, y_df)):\n",
    "       \n",
    "    # Plot training and test indices\n",
    "    l1 = ax.scatter(train, [ii] * len(train), c=[plt.cm.coolwarm(.1)], \n",
    "                    marker='_', lw=6)\n",
    "    l2 = ax.scatter(test, [ii] * len(test), c=[plt.cm.coolwarm(.9)], \n",
    "                    marker='_', lw=6)\n",
    "    ax.set(ylim=[10, -1], title='TimeSeriesSplit behavior', \n",
    "           xlabel='data index', ylabel='CV iteration')\n",
    "    ax.legend([l1, l2], ['Training', 'Validation'])"
   ]
  },
  {
   "cell_type": "code",
   "execution_count": 44,
   "id": "b97eed6b",
   "metadata": {},
   "outputs": [
    {
     "data": {
      "text/plain": [
       "((840, 24), (840,), (84, 24), (84,))"
      ]
     },
     "execution_count": 44,
     "metadata": {},
     "output_type": "execute_result"
    }
   ],
   "source": [
    "x_train=x_df.iloc[train,:-1].values\n",
    "x_test=x_df.iloc[test,:-1].values\n",
    "y_train=y_df.iloc[train].values\n",
    "y_test=y_df.iloc[test].values\n",
    "x_train.shape, y_train.shape, x_test.shape, y_test.shape"
   ]
  },
  {
   "cell_type": "markdown",
   "id": "03422fbe",
   "metadata": {},
   "source": [
    "# Naive Bayes"
   ]
  },
  {
   "cell_type": "code",
   "execution_count": 45,
   "id": "345fe125",
   "metadata": {},
   "outputs": [
    {
     "data": {
      "text/plain": [
       "GaussianNB()"
      ]
     },
     "execution_count": 45,
     "metadata": {},
     "output_type": "execute_result"
    }
   ],
   "source": [
    "sample = class_weight.compute_sample_weight('balanced', y_train)\n",
    "clf_nb = GaussianNB()\n",
    "clf_nb.fit(x_train, y_train, sample_weight=sample)\n",
    "clf_nb.fit(x_train, y_train)"
   ]
  },
  {
   "cell_type": "code",
   "execution_count": 46,
   "id": "2b7f8595",
   "metadata": {},
   "outputs": [
    {
     "name": "stdout",
     "output_type": "stream",
     "text": [
      "probabilites on test data are: [[1.   0.  ]\n",
      " [0.   1.  ]\n",
      " [0.   1.  ]\n",
      " [0.   1.  ]\n",
      " [0.   1.  ]\n",
      " [0.   1.  ]\n",
      " [0.   1.  ]\n",
      " [0.   1.  ]\n",
      " [0.   1.  ]\n",
      " [0.   1.  ]\n",
      " [0.01 0.99]\n",
      " [0.01 0.99]\n",
      " [0.01 0.99]\n",
      " [0.01 0.99]\n",
      " [0.02 0.98]\n",
      " [0.02 0.98]\n",
      " [0.04 0.96]\n",
      " [0.04 0.96]\n",
      " [0.05 0.95]\n",
      " [0.04 0.96]\n",
      " [0.05 0.95]\n",
      " [0.04 0.96]\n",
      " [0.05 0.95]\n",
      " [0.06 0.94]\n",
      " [0.04 0.96]\n",
      " [0.05 0.95]\n",
      " [0.04 0.96]\n",
      " [0.06 0.94]\n",
      " [0.05 0.95]\n",
      " [0.05 0.95]\n",
      " [0.04 0.96]\n",
      " [0.05 0.95]\n",
      " [0.12 0.88]\n",
      " [0.98 0.02]\n",
      " [0.02 0.98]\n",
      " [0.03 0.97]\n",
      " [0.02 0.98]\n",
      " [0.02 0.98]\n",
      " [0.01 0.99]\n",
      " [0.13 0.87]\n",
      " [0.98 0.02]\n",
      " [0.01 0.99]\n",
      " [0.01 0.99]\n",
      " [0.01 0.99]\n",
      " [0.01 0.99]\n",
      " [0.01 0.99]\n",
      " [0.01 0.99]\n",
      " [0.   1.  ]\n",
      " [0.01 0.99]\n",
      " [0.01 0.99]\n",
      " [0.01 0.99]\n",
      " [0.   1.  ]\n",
      " [0.   1.  ]\n",
      " [0.   1.  ]\n",
      " [0.01 0.99]\n",
      " [0.01 0.99]\n",
      " [0.   1.  ]\n",
      " [0.   1.  ]\n",
      " [0.   1.  ]\n",
      " [0.   1.  ]\n",
      " [0.   1.  ]\n",
      " [0.   1.  ]\n",
      " [0.   1.  ]\n",
      " [0.   1.  ]\n",
      " [0.   1.  ]\n",
      " [0.   1.  ]\n",
      " [0.   1.  ]\n",
      " [0.   1.  ]\n",
      " [0.   1.  ]\n",
      " [0.   1.  ]\n",
      " [0.   1.  ]\n",
      " [0.   1.  ]\n",
      " [0.   1.  ]\n",
      " [0.   1.  ]\n",
      " [0.   1.  ]\n",
      " [0.   1.  ]\n",
      " [0.01 0.99]\n",
      " [1.   0.  ]\n",
      " [0.   1.  ]\n",
      " [0.   1.  ]\n",
      " [0.   1.  ]\n",
      " [0.   1.  ]\n",
      " [0.   1.  ]\n",
      " [0.01 0.99]]\n"
     ]
    }
   ],
   "source": [
    "y_pred_nb = clf_nb.predict(x_test)\n",
    "y_prob_nb=np.round(clf_nb.predict_proba(x_test),2)\n",
    "print('probabilites on test data are:',y_prob_nb)"
   ]
  },
  {
   "cell_type": "code",
   "execution_count": 47,
   "id": "ca00ae2b",
   "metadata": {},
   "outputs": [
    {
     "name": "stdout",
     "output_type": "stream",
     "text": [
      " NB Accuracy:50.00%\n",
      "Precision is: 50.00%, Recall is: 50.00%, and F1 score is 37.13%:\n"
     ]
    }
   ],
   "source": [
    "print(\"NB Accuracy:\"+\"{:.2%}\".format(metrics.accuracy_score(y_test, y_pred_nb)))\n",
    "precision, recall, f1_score,_= precision_recall_fscore_support(y_test, y_pred_nb, average='macro')\n",
    "print(\"Precision is: {:.2%}, Recall is: {:.2%}, and F1 score is {:.2%}:\".format(precision, recall, f1_score))"
   ]
  },
  {
   "cell_type": "markdown",
   "id": "1752723f",
   "metadata": {},
   "source": [
    "# Logistic Regression"
   ]
  },
  {
   "cell_type": "markdown",
   "id": "1b99bf97",
   "metadata": {},
   "source": [
    "## Grid Search"
   ]
  },
  {
   "cell_type": "markdown",
   "id": "6ff89b4f",
   "metadata": {},
   "source": [
    "####  You can uncomment this section to see effect of Grid search"
   ]
  },
  {
   "cell_type": "code",
   "execution_count": 48,
   "id": "91d88ea8",
   "metadata": {},
   "outputs": [],
   "source": [
    "# grid={\"C\":np.logspace(-3,3,7), \"penalty\":[\"l1\",\"l2\"]}# l1 lasso l2 ridge\n",
    "# log_reg=LogisticRegression(solver='liblinear', max_iter=500)\n",
    "# log_reg_cv=GridSearchCV(log_reg,grid,cv=10)\n",
    "# clf_lr_gs=log_reg_cv.fit(x_train,y_train)\n",
    "\n",
    "# print(\"tuned hpyerparameters :(best parameters) \",log_reg_cv.best_params_)\n",
    "# print(\"accuracy :\",log_reg_cv.best_score_)"
   ]
  },
  {
   "cell_type": "code",
   "execution_count": 49,
   "id": "5aabfa66",
   "metadata": {},
   "outputs": [
    {
     "name": "stdout",
     "output_type": "stream",
     "text": [
      "probabilities are: [[0.41 0.59]\n",
      " [0.53 0.47]\n",
      " [0.44 0.56]\n",
      " [0.41 0.59]\n",
      " [0.44 0.56]\n",
      " [0.47 0.53]\n",
      " [0.5  0.5 ]\n",
      " [0.45 0.55]\n",
      " [0.42 0.58]\n",
      " [0.42 0.58]\n",
      " [0.45 0.55]\n",
      " [0.54 0.46]\n",
      " [0.43 0.57]\n",
      " [0.46 0.54]\n",
      " [0.46 0.54]\n",
      " [0.49 0.51]\n",
      " [0.49 0.51]\n",
      " [0.49 0.51]\n",
      " [0.52 0.48]\n",
      " [0.47 0.53]\n",
      " [0.52 0.48]\n",
      " [0.44 0.56]\n",
      " [0.53 0.47]\n",
      " [0.53 0.47]\n",
      " [0.44 0.56]\n",
      " [0.5  0.5 ]\n",
      " [0.47 0.53]\n",
      " [0.5  0.5 ]\n",
      " [0.47 0.53]\n",
      " [0.5  0.5 ]\n",
      " [0.49 0.51]\n",
      " [0.52 0.48]\n",
      " [0.43 0.57]\n",
      " [0.46 0.54]\n",
      " [0.46 0.54]\n",
      " [0.55 0.45]\n",
      " [0.49 0.51]\n",
      " [0.51 0.49]\n",
      " [0.43 0.57]\n",
      " [0.51 0.49]\n",
      " [0.52 0.48]\n",
      " [0.51 0.49]\n",
      " [0.45 0.55]\n",
      " [0.48 0.52]\n",
      " [0.48 0.52]\n",
      " [0.51 0.49]\n",
      " [0.48 0.52]\n",
      " [0.42 0.58]\n",
      " [0.51 0.49]\n",
      " [0.42 0.58]\n",
      " [0.54 0.46]\n",
      " [0.42 0.58]\n",
      " [0.44 0.56]\n",
      " [0.44 0.56]\n",
      " [0.5  0.5 ]\n",
      " [0.47 0.53]\n",
      " [0.5  0.5 ]\n",
      " [0.44 0.56]\n",
      " [0.49 0.51]\n",
      " [0.52 0.48]\n",
      " [0.46 0.54]\n",
      " [0.52 0.48]\n",
      " [0.46 0.54]\n",
      " [0.49 0.51]\n",
      " [0.45 0.55]\n",
      " [0.51 0.49]\n",
      " [0.45 0.55]\n",
      " [0.42 0.58]\n",
      " [0.48 0.52]\n",
      " [0.44 0.56]\n",
      " [0.5  0.5 ]\n",
      " [0.41 0.59]\n",
      " [0.38 0.62]\n",
      " [0.43 0.57]\n",
      " [0.45 0.55]\n",
      " [0.48 0.52]\n",
      " [0.38 0.62]\n",
      " [0.44 0.56]\n",
      " [0.34 0.66]\n",
      " [0.45 0.55]\n",
      " [0.42 0.58]\n",
      " [0.41 0.59]\n",
      " [0.35 0.65]\n",
      " [0.38 0.62]]\n"
     ]
    }
   ],
   "source": [
    "clf_lr = LogisticRegression(random_state=0).fit(x_train, y_train)\n",
    "y_pred_lr = clf_lr.predict(x_test)\n",
    "y_prob_lr=np.round(clf_lr.predict_proba(x_test),2)\n",
    "print ('probabilities are:',y_prob_lr)\n"
   ]
  },
  {
   "cell_type": "code",
   "execution_count": 50,
   "id": "51c6cae8",
   "metadata": {},
   "outputs": [
    {
     "name": "stdout",
     "output_type": "stream",
     "text": [
      " Logistic Regression Accuracy:46.43%\n",
      "Precision is: 45.24%, Recall is: 46.43%, and F1 score is 42.86%:\n"
     ]
    }
   ],
   "source": [
    "\n",
    "print(\"Logistic Regression Accuracy:\"+\"{:.2%}\".format(metrics.accuracy_score(y_test, y_pred_lr)))\n",
    "precision, recall, f1_score,_= precision_recall_fscore_support(y_test, y_pred_lr, average='macro')\n",
    "print(\"Precision is: {:.2%}, Recall is: {:.2%}, and F1 score is {:.2%}:\".format(precision, recall, f1_score))\n"
   ]
  },
  {
   "cell_type": "code",
   "execution_count": 51,
   "id": "b1f7c369",
   "metadata": {},
   "outputs": [
    {
     "name": "stdout",
     "output_type": "stream",
     "text": [
      "Logistic: ROC AUC=0.464\n"
     ]
    },
    {
     "data": {
      "image/png": "[encoded data removed]",
      "text/plain": [
       "<Figure size 432x288 with 1 Axes>"
      ]
     },
     "metadata": {
      "needs_background": "light"
     },
     "output_type": "display_data"
    }
   ],
   "source": [
    "# calculate scores\n",
    "aus_lr = roc_auc_score(y_test, y_pred_lr)\n",
    "\n",
    "# summarize scores\n",
    "print('Logistic: ROC AUC=%.3f' % (aus_lr))\n",
    "\n",
    "# calculate roc curves\n",
    "lr_fpr, lr_tpr, _ = roc_curve(y_test, y_pred_lr)\n",
    "\n",
    "# plot the roc curve for the model\n",
    "pyplot.plot(lr_fpr, lr_tpr, marker='.', label='Logistic')\n",
    "# axis labels\n",
    "pyplot.xlabel('False Positive Rate')\n",
    "pyplot.ylabel('True Positive Rate')\n",
    "# show the legend\n",
    "pyplot.legend()\n",
    "# show the plot\n",
    "pyplot.show()"
   ]
  },
  {
   "cell_type": "code",
   "execution_count": 52,
   "id": "ff59c9f7",
   "metadata": {},
   "outputs": [
    {
     "name": "stdout",
     "output_type": "stream",
     "text": [
      "Confusion matrix\n",
      "[[ 9 33]\n",
      " [12 30]]\n"
     ]
    },
    {
     "data": {
      "image/png": "[encoded data removed]",
      "text/plain": [
       "<Figure size 432x288 with 2 Axes>"
      ]
     },
     "metadata": {
      "needs_background": "light"
     },
     "output_type": "display_data"
    }
   ],
   "source": [
    "class_names=['Long','Short']\n",
    "titles_options = [(\"Confusion matrix\", None),     ]\n",
    "for title, normalize in titles_options:\n",
    "    disp = plot_confusion_matrix(clf_lr, x_test, y_test,\n",
    "                                 display_labels=class_names,\n",
    "                                 cmap=plt.cm.Blues,\n",
    "                                 normalize=normalize)\n",
    "    disp.ax_.set_title(title)\n",
    "\n",
    "    print(title)\n",
    "    print(disp.confusion_matrix)\n",
    "\n",
    "plt.show()"
   ]
  },
  {
   "cell_type": "markdown",
   "id": "7b65599c",
   "metadata": {},
   "source": [
    "# Testing on new data"
   ]
  },
  {
   "cell_type": "code",
   "execution_count": 53,
   "id": "f10c776d",
   "metadata": {},
   "outputs": [],
   "source": [
    "input_row=(x_test[10],)   # here you can give your own input array"
   ]
  },
  {
   "cell_type": "code",
   "execution_count": 54,
   "id": "6e9b7707",
   "metadata": {},
   "outputs": [
    {
     "data": {
      "text/plain": [
       "(array([1.        , 1.        , 0.        , 0.7398374 , 0.74288618,\n",
       "        0.73882114, 0.7398374 , 0.73882114, 0.7347561 , 0.5042654 ,\n",
       "        0.73780488, 0.7347561 , 0.73577236, 0.73780488, 0.74288618,\n",
       "        0.74288618, 0.74288618, 0.49763033, 0.75304878, 0.75813008,\n",
       "        0.76219512, 0.75914634, 0.75914634, 0.76321138]),)"
      ]
     },
     "execution_count": 54,
     "metadata": {},
     "output_type": "execute_result"
    }
   ],
   "source": [
    "input_row"
   ]
  },
  {
   "cell_type": "code",
   "execution_count": 55,
   "id": "33508247",
   "metadata": {},
   "outputs": [],
   "source": [
    "y_pred = clf_lr.predict(input_row)"
   ]
  },
  {
   "cell_type": "code",
   "execution_count": 56,
   "id": "1f41e907",
   "metadata": {},
   "outputs": [
    {
     "data": {
      "text/plain": [
       "array([1], dtype=int64)"
      ]
     },
     "execution_count": 56,
     "metadata": {},
     "output_type": "execute_result"
    }
   ],
   "source": [
    "y_pred"
   ]
  },
  {
   "cell_type": "code",
   "execution_count": 57,
   "id": "47f430cd",
   "metadata": {},
   "outputs": [],
   "source": [
    "test_prob=np.round(clf_lr.predict_proba(input_row),2) # results upto 2 decimal places "
   ]
  },
  {
   "cell_type": "code",
   "execution_count": 58,
   "id": "5ff87123",
   "metadata": {},
   "outputs": [
    {
     "name": "stdout",
     "output_type": "stream",
     "text": [
      "probabilities are: [[0.45 0.55]]\n"
     ]
    }
   ],
   "source": [
    "print ('probabilities are:',test_prob)"
   ]
  },
  {
   "cell_type": "code",
   "execution_count": null,
   "id": "84c5faca",
   "metadata": {},
   "outputs": [],
   "source": []
  }
 ],
 "metadata": {
  "kernelspec": {
   "display_name": "Python 3",
   "language": "python",
   "name": "python3"
  },
  "language_info": {
   "codemirror_mode": {
    "name": "ipython",
    "version": 3
   },
   "file_extension": ".py",
   "mimetype": "text/x-python",
   "name": "python",
   "nbconvert_exporter": "python",
   "pygments_lexer": "ipython3",
   "version": "3.6.13"
  }
 },
 "nbformat": 4,
 "nbformat_minor": 5
}
