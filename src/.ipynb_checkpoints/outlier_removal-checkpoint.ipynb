{
 "cells": [
  {
   "cell_type": "code",
   "execution_count": 1,
   "id": "606b8bc1",
   "metadata": {},
   "outputs": [
    {
     "data": {
      "text/plain": [
       "'https://towardsdatascience.com/ways-to-detect-and-remove-the-outliers-404d16608dba'"
      ]
     },
     "execution_count": 1,
     "metadata": {},
     "output_type": "execute_result"
    }
   ],
   "source": [
    "\"\"\"https://towardsdatascience.com/ways-to-detect-and-remove-the-outliers-404d16608dba\"\"\""
   ]
  },
  {
   "cell_type": "code",
   "execution_count": 2,
   "id": "0f509bcb",
   "metadata": {},
   "outputs": [],
   "source": [
    "import pandas as pd\n",
    "import numpy as np\n",
    "from scipy import stats\n"
   ]
  },
  {
   "cell_type": "code",
   "execution_count": 3,
   "id": "31ccea2c",
   "metadata": {},
   "outputs": [],
   "source": [
    "df=pd.read_csv('features.csv')\n",
    "# x_df=df.drop(columns=['action'])\n",
    "# y_df=df['action']"
   ]
  },
  {
   "cell_type": "code",
   "execution_count": 4,
   "id": "f75ad70b",
   "metadata": {},
   "outputs": [
    {
     "name": "stdout",
     "output_type": "stream",
     "text": [
      "[[1.72952042 1.04180893 1.2252944  ... 0.49154145 0.56221795 1.735288  ]\n",
      " [1.72445594 1.04180893 1.2252944  ... 0.01261112 0.75818265 1.33430374]\n",
      " [1.71939145 0.9598689  1.2252944  ... 0.2873782  0.28516441 1.15908373]\n",
      " ...\n",
      " [1.71939145 0.9598689  1.92151925 ... 1.28098704 0.76223314 0.42126599]\n",
      " [1.72445594 1.04180893 1.92151925 ... 1.24414624 1.22511529 0.73800986]\n",
      " [1.72952042 1.04180893 1.92151925 ... 2.17569203 0.89062381 0.47181023]]\n"
     ]
    }
   ],
   "source": [
    "z = np.abs(stats.zscore(df))\n",
    "print(z)"
   ]
  },
  {
   "cell_type": "code",
   "execution_count": 5,
   "id": "8f1703dd",
   "metadata": {},
   "outputs": [
    {
     "name": "stdout",
     "output_type": "stream",
     "text": [
      "(array([112, 113, 113, ..., 508, 509, 509], dtype=int64), array([  7,  10,  17, ..., 197, 196, 197], dtype=int64))\n"
     ]
    }
   ],
   "source": [
    "threshold = 3\n",
    "print(np.where(z > 3))"
   ]
  },
  {
   "cell_type": "code",
   "execution_count": 6,
   "id": "d1bf0560",
   "metadata": {},
   "outputs": [
    {
     "name": "stdout",
     "output_type": "stream",
     "text": [
      "<class 'pandas.core.frame.DataFrame'>\n",
      "RangeIndex: 684 entries, 0 to 683\n",
      "Columns: 206 entries, Unnamed: 0 to WTI | P2 | HSK (t-20)\n",
      "dtypes: float64(180), int64(26)\n",
      "memory usage: 1.1 MB\n"
     ]
    }
   ],
   "source": [
    "df.info()"
   ]
  },
  {
   "cell_type": "code",
   "execution_count": 7,
   "id": "25695142",
   "metadata": {},
   "outputs": [],
   "source": [
    "df = df[(z < 3).all(axis=1)]"
   ]
  },
  {
   "cell_type": "code",
   "execution_count": 8,
   "id": "129967f9",
   "metadata": {},
   "outputs": [
    {
     "name": "stdout",
     "output_type": "stream",
     "text": [
      "<class 'pandas.core.frame.DataFrame'>\n",
      "Int64Index: 595 entries, 0 to 683\n",
      "Columns: 206 entries, Unnamed: 0 to WTI | P2 | HSK (t-20)\n",
      "dtypes: float64(180), int64(26)\n",
      "memory usage: 962.2 KB\n"
     ]
    }
   ],
   "source": [
    "df.info()"
   ]
  },
  {
   "cell_type": "code",
   "execution_count": 9,
   "id": "93bb4ea9",
   "metadata": {},
   "outputs": [],
   "source": [
    "df.to_csv('clean_features.csv')"
   ]
  },
  {
   "cell_type": "code",
   "execution_count": null,
   "id": "6a645ae4",
   "metadata": {},
   "outputs": [],
   "source": []
  }
 ],
 "metadata": {
  "kernelspec": {
   "display_name": "Python 3",
   "language": "python",
   "name": "python3"
  },
  "language_info": {
   "codemirror_mode": {
    "name": "ipython",
    "version": 3
   },
   "file_extension": ".py",
   "mimetype": "text/x-python",
   "name": "python",
   "nbconvert_exporter": "python",
   "pygments_lexer": "ipython3",
   "version": "3.6.13"
  }
 },
 "nbformat": 4,
 "nbformat_minor": 5
}
