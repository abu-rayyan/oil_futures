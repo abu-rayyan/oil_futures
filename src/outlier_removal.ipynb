{
 "cells": [
  {
   "cell_type": "code",
   "execution_count": 1,
   "id": "2a8f7e25",
   "metadata": {},
   "outputs": [],
   "source": [
    "\"\"\"https://towardsdatascience.com/ways-to-detect-and-remove-the-outliers-404d16608dba\"\"\""
   ]
  },
  {
   "cell_type": "code",
   "execution_count": 2,
   "id": "f50d8477",
   "metadata": {},
   "outputs": [],
   "source": [
    "import pandas as pd\n",
    "import numpy as np\n",
    "from scipy import stats\n"
   ]
  },
  {
   "cell_type": "code",
   "execution_count": 3,
   "id": "d1a83888",
   "metadata": {},
   "outputs": [],
   "source": [
    "df_num=pd.read_csv('numeric_features.csv')\n",
    "df_cat=pd.read_csv('categorical_features.csv')\n",
    "# x_df=df.drop(columns=['action'])\n",
    "# y_df=df['action']"
   ]
  },
  {
   "cell_type": "code",
   "execution_count": 4,
   "id": "f6937337",
   "metadata": {},
   "outputs": [
    {
     "name": "stdout",
     "output_type": "stream",
     "text": [
      "[[1.73045958 0.27468603 0.34336737 ... 1.10519065 0.45628814 0.05055933]\n",
      " [1.72727566 0.26242719 0.02992901 ... 1.15812179 0.49596659 0.09242766]\n",
      " [1.72409174 0.12757988 0.37819385 ... 1.23751851 0.48375783 0.10531023]\n",
      " ...\n",
      " [1.72409174 1.06152817 0.31833583 ... 0.99088272 0.65165625 0.76426287]\n",
      " [1.72727566 1.08604586 0.06475549 ... 0.8744342  0.55398622 0.67086428]\n",
      " [1.73045958 1.1228224  0.09958198 ... 1.3455214  0.83173536 0.98326646]]\n"
     ]
    }
   ],
   "source": [
    "z = np.abs(stats.zscore(df_num))\n",
    "print(z)"
   ]
  },
  {
   "cell_type": "code",
   "execution_count": 5,
   "id": "00805343",
   "metadata": {},
   "outputs": [
    {
     "name": "stdout",
     "output_type": "stream",
     "text": [
      "(array([133, 134, 134, ..., 827, 828, 829], dtype=int64), array([  7,   6,   7, ..., 155, 164, 173], dtype=int64))\n"
     ]
    }
   ],
   "source": [
    "threshold = 3\n",
    "print(np.where(z > 3))"
   ]
  },
  {
   "cell_type": "code",
   "execution_count": 6,
   "id": "02a3423a",
   "metadata": {},
   "outputs": [
    {
     "name": "stdout",
     "output_type": "stream",
     "text": [
      "<class 'pandas.core.frame.DataFrame'>\n",
      "RangeIndex: 1088 entries, 0 to 1087\n",
      "Columns: 181 entries, Unnamed: 0 to WTI | P2 | HSK (t-20)\n",
      "dtypes: float64(180), int64(1)\n",
      "memory usage: 1.5 MB\n"
     ]
    }
   ],
   "source": [
    "df_num.info()"
   ]
  },
  {
   "cell_type": "code",
   "execution_count": 7,
   "id": "ce034899",
   "metadata": {},
   "outputs": [],
   "source": [
    "df_num = df_num[(z < 3).all(axis=1)]"
   ]
  },
  {
   "cell_type": "code",
   "execution_count": 8,
   "id": "612c6843",
   "metadata": {},
   "outputs": [],
   "source": [
    "df_cat = df_cat[(z < 3).all(axis=1)]"
   ]
  },
  {
   "cell_type": "code",
   "execution_count": 9,
   "id": "d45c7e9d",
   "metadata": {},
   "outputs": [
    {
     "name": "stdout",
     "output_type": "stream",
     "text": [
      "<class 'pandas.core.frame.DataFrame'>\n",
      "Int64Index: 924 entries, 0 to 1087\n",
      "Columns: 181 entries, Unnamed: 0 to WTI | P2 | HSK (t-20)\n",
      "dtypes: float64(180), int64(1)\n",
      "memory usage: 1.3 MB\n"
     ]
    }
   ],
   "source": [
    "df_num.info()"
   ]
  },
  {
   "cell_type": "code",
   "execution_count": 10,
   "id": "a52f9f0e",
   "metadata": {},
   "outputs": [
    {
     "name": "stdout",
     "output_type": "stream",
     "text": [
      "<class 'pandas.core.frame.DataFrame'>\n",
      "Int64Index: 924 entries, 0 to 1087\n",
      "Data columns (total 26 columns):\n",
      " #   Column                  Non-Null Count  Dtype\n",
      "---  ------                  --------------  -----\n",
      " 0   Unnamed: 0              924 non-null    int64\n",
      " 1   year                    924 non-null    int64\n",
      " 2   month                   924 non-null    int64\n",
      " 3   month_day               924 non-null    int64\n",
      " 4   weekday                 924 non-null    int64\n",
      " 5   target_position         924 non-null    int64\n",
      " 6   target_position (t-1)   924 non-null    int64\n",
      " 7   target_position (t-2)   924 non-null    int64\n",
      " 8   target_position (t-3)   924 non-null    int64\n",
      " 9   target_position (t-4)   924 non-null    int64\n",
      " 10  target_position (t-5)   924 non-null    int64\n",
      " 11  target_position (t-6)   924 non-null    int64\n",
      " 12  target_position (t-7)   924 non-null    int64\n",
      " 13  target_position (t-8)   924 non-null    int64\n",
      " 14  target_position (t-9)   924 non-null    int64\n",
      " 15  target_position (t-10)  924 non-null    int64\n",
      " 16  target_position (t-11)  924 non-null    int64\n",
      " 17  target_position (t-12)  924 non-null    int64\n",
      " 18  target_position (t-13)  924 non-null    int64\n",
      " 19  target_position (t-14)  924 non-null    int64\n",
      " 20  target_position (t-15)  924 non-null    int64\n",
      " 21  target_position (t-16)  924 non-null    int64\n",
      " 22  target_position (t-17)  924 non-null    int64\n",
      " 23  target_position (t-18)  924 non-null    int64\n",
      " 24  target_position (t-19)  924 non-null    int64\n",
      " 25  target_position (t-20)  924 non-null    int64\n",
      "dtypes: int64(26)\n",
      "memory usage: 194.9 KB\n"
     ]
    }
   ],
   "source": [
    "df_cat.info()"
   ]
  },
  {
   "cell_type": "code",
   "execution_count": 11,
   "id": "61af041b",
   "metadata": {},
   "outputs": [],
   "source": [
    "df_num.to_csv('clean_numeric_features.csv')\n",
    "df_cat.to_csv('clean_categorical_features.csv')"
   ]
  },
  {
   "cell_type": "code",
   "execution_count": null,
   "id": "2cfc03fd",
   "metadata": {},
   "outputs": [],
   "source": []
  }
 ],
 "metadata": {
  "kernelspec": {
   "display_name": "Python 3",
   "language": "python",
   "name": "python3"
  },
  "language_info": {
   "codemirror_mode": {
    "name": "ipython",
    "version": 3
   },
   "file_extension": ".py",
   "mimetype": "text/x-python",
   "name": "python",
   "nbconvert_exporter": "python",
   "pygments_lexer": "ipython3",
   "version": "3.6.13"
  }
 },
 "nbformat": 4,
 "nbformat_minor": 5
}
