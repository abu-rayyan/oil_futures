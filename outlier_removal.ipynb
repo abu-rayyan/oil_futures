{
 "cells": [
  {
   "cell_type": "code",
   "execution_count": 1,
   "id": "ef362b81",
   "metadata": {},
   "outputs": [],
   "source": [
    "\"\"\"https://towardsdatascience.com/ways-to-detect-and-remove-the-outliers-404d16608dba\"\"\""
   ]
  },
  {
   "cell_type": "code",
   "execution_count": 2,
   "id": "4ce11428",
   "metadata": {},
   "outputs": [],
   "source": [
    "import pandas as pd\n",
    "import numpy as np\n",
    "from scipy import stats\n"
   ]
  },
  {
   "cell_type": "code",
   "execution_count": 3,
   "id": "d490159a",
   "metadata": {},
   "outputs": [],
   "source": [
    "df=pd.read_csv('features.csv')\n",
    "# x_df=df.drop(columns=['action'])\n",
    "# y_df=df['action']"
   ]
  },
  {
   "cell_type": "code",
   "execution_count": 4,
   "id": "d9297048",
   "metadata": {},
   "outputs": [
    {
     "name": "stdout",
     "output_type": "stream",
     "text": [
      "[[1.72952042 1.04180893 1.2252944  ... 1.65338178 0.73703765 1.37871091]\n",
      " [1.72445594 1.04180893 1.2252944  ... 1.2184139  0.85042806 1.37871091]\n",
      " [1.71939145 0.9598689  1.2252944  ... 0.93123433 0.73703765 1.37871091]\n",
      " ...\n",
      " [1.71939145 0.9598689  1.92151925 ... 0.93123433 1.30398969 1.46819705]\n",
      " [1.72445594 1.04180893 1.92151925 ... 0.93123433 1.64416091 1.37871091]\n",
      " [1.72952042 1.04180893 1.92151925 ... 0.93123433 1.75755132 0.66698392]]\n"
     ]
    }
   ],
   "source": [
    "z = np.abs(stats.zscore(df))\n",
    "print(z)"
   ]
  },
  {
   "cell_type": "code",
   "execution_count": 5,
   "id": "5a519faf",
   "metadata": {},
   "outputs": [
    {
     "name": "stdout",
     "output_type": "stream",
     "text": [
      "(array([  0,   0,   0, ..., 508, 509, 509], dtype=int64), array([212, 226, 240, ..., 273, 272, 273], dtype=int64))\n"
     ]
    }
   ],
   "source": [
    "threshold = 3\n",
    "print(np.where(z > 3))"
   ]
  },
  {
   "cell_type": "code",
   "execution_count": 6,
   "id": "24e55f62",
   "metadata": {},
   "outputs": [
    {
     "name": "stdout",
     "output_type": "stream",
     "text": [
      "<class 'pandas.core.frame.DataFrame'>\n",
      "RangeIndex: 684 entries, 0 to 683\n",
      "Columns: 286 entries, Unnamed: 0 to weekday (t-20)\n",
      "dtypes: float64(260), int64(26)\n",
      "memory usage: 1.5 MB\n"
     ]
    }
   ],
   "source": [
    "df.info()"
   ]
  },
  {
   "cell_type": "code",
   "execution_count": 7,
   "id": "df057d4b",
   "metadata": {},
   "outputs": [],
   "source": [
    "df = df[(z < 3).all(axis=1)]"
   ]
  },
  {
   "cell_type": "code",
   "execution_count": 8,
   "id": "cc0a2fb8",
   "metadata": {},
   "outputs": [
    {
     "name": "stdout",
     "output_type": "stream",
     "text": [
      "<class 'pandas.core.frame.DataFrame'>\n",
      "Int64Index: 589 entries, 6 to 683\n",
      "Columns: 286 entries, Unnamed: 0 to weekday (t-20)\n",
      "dtypes: float64(260), int64(26)\n",
      "memory usage: 1.3 MB\n"
     ]
    }
   ],
   "source": [
    "df.info()"
   ]
  },
  {
   "cell_type": "code",
   "execution_count": 9,
   "id": "cadbcb08",
   "metadata": {},
   "outputs": [],
   "source": [
    "df.to_csv('clean_features.csv')"
   ]
  },
  {
   "cell_type": "code",
   "execution_count": null,
   "id": "9a2ae0ae",
   "metadata": {},
   "outputs": [],
   "source": []
  }
 ],
 "metadata": {
  "kernelspec": {
   "display_name": "Python 3",
   "language": "python",
   "name": "python3"
  },
  "language_info": {
   "codemirror_mode": {
    "name": "ipython",
    "version": 3
   },
   "file_extension": ".py",
   "mimetype": "text/x-python",
   "name": "python",
   "nbconvert_exporter": "python",
   "pygments_lexer": "ipython3",
   "version": "3.6.13"
  }
 },
 "nbformat": 4,
 "nbformat_minor": 5
}
