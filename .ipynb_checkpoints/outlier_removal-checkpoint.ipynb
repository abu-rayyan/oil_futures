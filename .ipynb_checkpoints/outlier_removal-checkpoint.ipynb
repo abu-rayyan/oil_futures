{
 "cells": [
  {
   "cell_type": "code",
   "execution_count": 6,
   "id": "f0bc5388",
   "metadata": {
    "collapsed": true
   },
   "outputs": [
    {
     "data": {
      "text/plain": [
       "'https://towardsdatascience.com/ways-to-detect-and-remove-the-outliers-404d16608dba'"
      ]
     },
     "execution_count": 6,
     "metadata": {},
     "output_type": "execute_result"
    }
   ],
   "source": [
    "\"\"\"https://towardsdatascience.com/ways-to-detect-and-remove-the-outliers-404d16608dba\"\"\""
   ]
  },
  {
   "cell_type": "code",
   "execution_count": 1,
   "id": "ea94dda6",
   "metadata": {},
   "outputs": [],
   "source": [
    "import pandas as pd\n",
    "import numpy as np\n",
    "from scipy import stats\n"
   ]
  },
  {
   "cell_type": "code",
   "execution_count": 3,
   "id": "14d994a7",
   "metadata": {},
   "outputs": [],
   "source": [
    "df=pd.read_csv('features.csv')\n",
    "# x_df=df.drop(columns=['action'])\n",
    "# y_df=df['action']"
   ]
  },
  {
   "cell_type": "code",
   "execution_count": 4,
   "id": "16674c10",
   "metadata": {},
   "outputs": [
    {
     "name": "stdout",
     "output_type": "stream",
     "text": [
      "[[1.72957821 0.96352201 3.18261513 ... 1.67943025 0.73853106 1.37523419]\n",
      " [1.72462949 1.03785902 3.18261513 ... 1.21115538 0.85207635 1.37523419]\n",
      " [1.71968077 0.96352201 2.16534089 ... 0.92209682 0.73853106 1.37523419]\n",
      " ...\n",
      " [1.71968077 0.96352201 1.90375608 ... 0.63303825 0.62498576 0.66320465]\n",
      " [1.72462949 1.03785902 1.90375608 ... 0.63303825 1.30625754 1.37523419]\n",
      " [1.72957821 1.03785902 1.90375608 ... 0.63303825 1.41980284 0.66320465]]\n"
     ]
    }
   ],
   "source": [
    "z = np.abs(stats.zscore(df))\n",
    "print(z)"
   ]
  },
  {
   "cell_type": "code",
   "execution_count": 5,
   "id": "be9d63cc",
   "metadata": {},
   "outputs": [
    {
     "name": "stdout",
     "output_type": "stream",
     "text": [
      "(array([  0,   0,   0,   0,   0,   1,   1,   1,   1,   1,   2,   2,   2,\n",
      "         2,   3,   3,   3,   4,   4,   5, 128, 129, 129, 130, 130, 131,\n",
      "       131, 131, 132, 132, 133, 134, 134, 135, 135, 136, 136, 136, 137,\n",
      "       137, 137, 138, 138, 139, 142, 143, 143, 144, 144, 144, 145, 145,\n",
      "       145, 146, 146, 147, 147, 148, 149, 149, 150, 150, 150, 151, 151,\n",
      "       151, 152, 152, 152, 152, 153, 153, 153, 153, 154, 154, 154, 154,\n",
      "       155, 155, 155, 156, 156, 157, 483, 484, 485, 486, 486, 486, 486,\n",
      "       487, 487, 487, 487, 487, 487, 487, 487, 488, 488, 488, 488, 488,\n",
      "       488, 488, 488, 488, 488, 488, 488, 488, 489, 489, 489, 489, 489,\n",
      "       489, 489, 489, 489, 489, 489, 489, 489, 489, 489, 489, 489, 489,\n",
      "       490, 490, 490, 490, 490, 490, 490, 490, 490, 490, 490, 490, 490,\n",
      "       490, 490, 490, 490, 490, 491, 491, 491, 491, 491, 491, 491, 491,\n",
      "       491, 491, 491, 491, 491, 491, 492, 492, 492, 492, 492, 492, 492,\n",
      "       492, 492, 493, 493, 493, 493, 493, 493, 494, 494, 494, 494, 494,\n",
      "       495, 495, 495, 495, 495, 496, 496, 496, 496, 496, 496, 496, 497,\n",
      "       497, 497, 497, 497, 497, 497, 498, 498, 498, 498, 498, 498, 499,\n",
      "       499, 499, 499, 499, 499, 499, 500, 500, 500, 500, 500, 500, 501,\n",
      "       501, 501, 501, 501, 501, 502, 502, 502, 502, 502, 502, 503, 503,\n",
      "       503, 503, 503, 503, 504, 504, 504, 504, 504, 504, 505, 505, 505,\n",
      "       505, 505, 505, 506, 506, 506, 506, 506, 506, 506, 507, 507, 507,\n",
      "       507, 507, 508, 508, 508, 508, 509, 509], dtype=int64), array([ 2, 16, 30, 44, 58,  2, 16, 30, 44, 58, 16, 30, 44, 58, 30, 44, 58,\n",
      "       44, 58, 58,  7, 10, 21, 24, 35, 10, 38, 49, 24, 52, 38, 10, 52, 10,\n",
      "       24, 10, 24, 38, 24, 38, 52, 38, 52, 52, 10, 10, 24, 10, 24, 38, 24,\n",
      "       38, 52, 38, 52, 10, 52, 24, 10, 38, 10, 24, 52, 10, 24, 38, 10, 24,\n",
      "       38, 52, 10, 24, 38, 52, 10, 24, 38, 52, 24, 38, 52, 38, 52, 52, 12,\n",
      "       26, 40,  6, 11, 12, 54,  6,  9, 11, 12, 13, 20, 25, 26,  6,  9, 11,\n",
      "       12, 13, 20, 23, 25, 26, 27, 34, 39, 40,  6,  9, 11, 12, 13, 20, 23,\n",
      "       25, 26, 27, 34, 37, 39, 40, 41, 48, 53, 54,  6, 11, 12, 20, 23, 25,\n",
      "       26, 27, 34, 37, 39, 40, 41, 48, 51, 53, 54, 55, 11, 20, 25, 26, 34,\n",
      "       37, 39, 40, 41, 48, 51, 53, 54, 55, 25, 34, 39, 40, 48, 51, 53, 54,\n",
      "       55,  6,  7, 39, 48, 53, 54,  6,  7, 20, 21, 53,  6, 20, 21, 34, 35,\n",
      "        6,  7, 20, 34, 35, 48, 49,  6,  7, 20, 21, 34, 48, 49,  6, 20, 21,\n",
      "       34, 35, 48,  6,  7, 20, 34, 35, 48, 49,  6, 20, 21, 34, 48, 49,  6,\n",
      "        7, 20, 34, 35, 48,  7, 20, 21, 34, 48, 49,  6,  7, 21, 34, 35, 48,\n",
      "        6, 20, 21, 35, 48, 49,  6,  7, 20, 34, 35, 49,  6,  7, 20, 21, 34,\n",
      "       48, 49, 20, 21, 34, 35, 48, 34, 35, 48, 49, 48, 49], dtype=int64))\n"
     ]
    }
   ],
   "source": [
    "threshold = 3\n",
    "print(np.where(z > 3))"
   ]
  },
  {
   "cell_type": "code",
   "execution_count": 7,
   "id": "7eb1700b",
   "metadata": {},
   "outputs": [
    {
     "name": "stdout",
     "output_type": "stream",
     "text": [
      "<class 'pandas.core.frame.DataFrame'>\n",
      "RangeIndex: 700 entries, 0 to 699\n",
      "Data columns (total 62 columns):\n",
      " #   Column                  Non-Null Count  Dtype  \n",
      "---  ------                  --------------  -----  \n",
      " 0   Unnamed: 0              700 non-null    int64  \n",
      " 1   action                  700 non-null    int64  \n",
      " 2   year                    700 non-null    int64  \n",
      " 3   month                   700 non-null    int64  \n",
      " 4   day                     700 non-null    int64  \n",
      " 5   weekday                 700 non-null    int64  \n",
      " 6   time_spread (t-1)       700 non-null    float64\n",
      " 7   dod_change (t-1)        700 non-null    float64\n",
      " 8   action (t-1)            700 non-null    int64  \n",
      " 9   MEH-WTI (t-1)           700 non-null    float64\n",
      " 10  MID (t-1)               700 non-null    float64\n",
      " 11  LLS (t-1)               700 non-null    float64\n",
      " 12  MEH | USGC | HSK (t-1)  700 non-null    float64\n",
      " 13  MEH | USGC | FCC (t-1)  700 non-null    float64\n",
      " 14  WTI | P2 | FCC (t-1)    700 non-null    float64\n",
      " 15  WTI | P2 | HSK (t-1)    700 non-null    float64\n",
      " 16  year (t-1)              700 non-null    float64\n",
      " 17  month (t-1)             700 non-null    float64\n",
      " 18  day (t-1)               700 non-null    float64\n",
      " 19  weekday (t-1)           700 non-null    float64\n",
      " 20  time_spread (t-2)       700 non-null    float64\n",
      " 21  dod_change (t-2)        700 non-null    float64\n",
      " 22  action (t-2)            700 non-null    int64  \n",
      " 23  MEH-WTI (t-2)           700 non-null    float64\n",
      " 24  MID (t-2)               700 non-null    float64\n",
      " 25  LLS (t-2)               700 non-null    float64\n",
      " 26  MEH | USGC | HSK (t-2)  700 non-null    float64\n",
      " 27  MEH | USGC | FCC (t-2)  700 non-null    float64\n",
      " 28  WTI | P2 | FCC (t-2)    700 non-null    float64\n",
      " 29  WTI | P2 | HSK (t-2)    700 non-null    float64\n",
      " 30  year (t-2)              700 non-null    float64\n",
      " 31  month (t-2)             700 non-null    float64\n",
      " 32  day (t-2)               700 non-null    float64\n",
      " 33  weekday (t-2)           700 non-null    float64\n",
      " 34  time_spread (t-3)       700 non-null    float64\n",
      " 35  dod_change (t-3)        700 non-null    float64\n",
      " 36  action (t-3)            700 non-null    int64  \n",
      " 37  MEH-WTI (t-3)           700 non-null    float64\n",
      " 38  MID (t-3)               700 non-null    float64\n",
      " 39  LLS (t-3)               700 non-null    float64\n",
      " 40  MEH | USGC | HSK (t-3)  700 non-null    float64\n",
      " 41  MEH | USGC | FCC (t-3)  700 non-null    float64\n",
      " 42  WTI | P2 | FCC (t-3)    700 non-null    float64\n",
      " 43  WTI | P2 | HSK (t-3)    700 non-null    float64\n",
      " 44  year (t-3)              700 non-null    float64\n",
      " 45  month (t-3)             700 non-null    float64\n",
      " 46  day (t-3)               700 non-null    float64\n",
      " 47  weekday (t-3)           700 non-null    float64\n",
      " 48  time_spread (t-4)       700 non-null    float64\n",
      " 49  dod_change (t-4)        700 non-null    float64\n",
      " 50  action (t-4)            700 non-null    int64  \n",
      " 51  MEH-WTI (t-4)           700 non-null    float64\n",
      " 52  MID (t-4)               700 non-null    float64\n",
      " 53  LLS (t-4)               700 non-null    float64\n",
      " 54  MEH | USGC | HSK (t-4)  700 non-null    float64\n",
      " 55  MEH | USGC | FCC (t-4)  700 non-null    float64\n",
      " 56  WTI | P2 | FCC (t-4)    700 non-null    float64\n",
      " 57  WTI | P2 | HSK (t-4)    700 non-null    float64\n",
      " 58  year (t-4)              700 non-null    float64\n",
      " 59  month (t-4)             700 non-null    float64\n",
      " 60  day (t-4)               700 non-null    float64\n",
      " 61  weekday (t-4)           700 non-null    float64\n",
      "dtypes: float64(52), int64(10)\n",
      "memory usage: 339.2 KB\n"
     ]
    }
   ],
   "source": [
    "df.info()"
   ]
  },
  {
   "cell_type": "code",
   "execution_count": 8,
   "id": "223acf6f",
   "metadata": {},
   "outputs": [],
   "source": [
    "df = df[(z < 3).all(axis=1)]"
   ]
  },
  {
   "cell_type": "code",
   "execution_count": 9,
   "id": "3a57358d",
   "metadata": {},
   "outputs": [
    {
     "name": "stdout",
     "output_type": "stream",
     "text": [
      "<class 'pandas.core.frame.DataFrame'>\n",
      "Int64Index: 639 entries, 6 to 699\n",
      "Data columns (total 62 columns):\n",
      " #   Column                  Non-Null Count  Dtype  \n",
      "---  ------                  --------------  -----  \n",
      " 0   Unnamed: 0              639 non-null    int64  \n",
      " 1   action                  639 non-null    int64  \n",
      " 2   year                    639 non-null    int64  \n",
      " 3   month                   639 non-null    int64  \n",
      " 4   day                     639 non-null    int64  \n",
      " 5   weekday                 639 non-null    int64  \n",
      " 6   time_spread (t-1)       639 non-null    float64\n",
      " 7   dod_change (t-1)        639 non-null    float64\n",
      " 8   action (t-1)            639 non-null    int64  \n",
      " 9   MEH-WTI (t-1)           639 non-null    float64\n",
      " 10  MID (t-1)               639 non-null    float64\n",
      " 11  LLS (t-1)               639 non-null    float64\n",
      " 12  MEH | USGC | HSK (t-1)  639 non-null    float64\n",
      " 13  MEH | USGC | FCC (t-1)  639 non-null    float64\n",
      " 14  WTI | P2 | FCC (t-1)    639 non-null    float64\n",
      " 15  WTI | P2 | HSK (t-1)    639 non-null    float64\n",
      " 16  year (t-1)              639 non-null    float64\n",
      " 17  month (t-1)             639 non-null    float64\n",
      " 18  day (t-1)               639 non-null    float64\n",
      " 19  weekday (t-1)           639 non-null    float64\n",
      " 20  time_spread (t-2)       639 non-null    float64\n",
      " 21  dod_change (t-2)        639 non-null    float64\n",
      " 22  action (t-2)            639 non-null    int64  \n",
      " 23  MEH-WTI (t-2)           639 non-null    float64\n",
      " 24  MID (t-2)               639 non-null    float64\n",
      " 25  LLS (t-2)               639 non-null    float64\n",
      " 26  MEH | USGC | HSK (t-2)  639 non-null    float64\n",
      " 27  MEH | USGC | FCC (t-2)  639 non-null    float64\n",
      " 28  WTI | P2 | FCC (t-2)    639 non-null    float64\n",
      " 29  WTI | P2 | HSK (t-2)    639 non-null    float64\n",
      " 30  year (t-2)              639 non-null    float64\n",
      " 31  month (t-2)             639 non-null    float64\n",
      " 32  day (t-2)               639 non-null    float64\n",
      " 33  weekday (t-2)           639 non-null    float64\n",
      " 34  time_spread (t-3)       639 non-null    float64\n",
      " 35  dod_change (t-3)        639 non-null    float64\n",
      " 36  action (t-3)            639 non-null    int64  \n",
      " 37  MEH-WTI (t-3)           639 non-null    float64\n",
      " 38  MID (t-3)               639 non-null    float64\n",
      " 39  LLS (t-3)               639 non-null    float64\n",
      " 40  MEH | USGC | HSK (t-3)  639 non-null    float64\n",
      " 41  MEH | USGC | FCC (t-3)  639 non-null    float64\n",
      " 42  WTI | P2 | FCC (t-3)    639 non-null    float64\n",
      " 43  WTI | P2 | HSK (t-3)    639 non-null    float64\n",
      " 44  year (t-3)              639 non-null    float64\n",
      " 45  month (t-3)             639 non-null    float64\n",
      " 46  day (t-3)               639 non-null    float64\n",
      " 47  weekday (t-3)           639 non-null    float64\n",
      " 48  time_spread (t-4)       639 non-null    float64\n",
      " 49  dod_change (t-4)        639 non-null    float64\n",
      " 50  action (t-4)            639 non-null    int64  \n",
      " 51  MEH-WTI (t-4)           639 non-null    float64\n",
      " 52  MID (t-4)               639 non-null    float64\n",
      " 53  LLS (t-4)               639 non-null    float64\n",
      " 54  MEH | USGC | HSK (t-4)  639 non-null    float64\n",
      " 55  MEH | USGC | FCC (t-4)  639 non-null    float64\n",
      " 56  WTI | P2 | FCC (t-4)    639 non-null    float64\n",
      " 57  WTI | P2 | HSK (t-4)    639 non-null    float64\n",
      " 58  year (t-4)              639 non-null    float64\n",
      " 59  month (t-4)             639 non-null    float64\n",
      " 60  day (t-4)               639 non-null    float64\n",
      " 61  weekday (t-4)           639 non-null    float64\n",
      "dtypes: float64(52), int64(10)\n",
      "memory usage: 314.5 KB\n"
     ]
    }
   ],
   "source": [
    "df.info()"
   ]
  },
  {
   "cell_type": "code",
   "execution_count": null,
   "id": "7e8945a8",
   "metadata": {},
   "outputs": [],
   "source": []
  }
 ],
 "metadata": {
  "kernelspec": {
   "display_name": "Python 3",
   "language": "python",
   "name": "python3"
  },
  "language_info": {
   "codemirror_mode": {
    "name": "ipython",
    "version": 3
   },
   "file_extension": ".py",
   "mimetype": "text/x-python",
   "name": "python",
   "nbconvert_exporter": "python",
   "pygments_lexer": "ipython3",
   "version": "3.6.13"
  }
 },
 "nbformat": 4,
 "nbformat_minor": 5
}
