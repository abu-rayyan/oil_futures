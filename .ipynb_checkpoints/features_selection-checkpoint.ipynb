{
 "cells": [
  {
   "cell_type": "code",
   "execution_count": 1,
   "id": "d9f1b701",
   "metadata": {},
   "outputs": [],
   "source": [
    "import pandas as pd\n",
    "import numpy as np\n",
    "from sklearn.naive_bayes import GaussianNB\n",
    "from sklearn.neighbors import NearestCentroid\n",
    "from sklearn.linear_model import LogisticRegression\n",
    "from sklearn import metrics"
   ]
  },
  {
   "cell_type": "code",
   "execution_count": 2,
   "id": "5f304eae",
   "metadata": {},
   "outputs": [],
   "source": [
    "df=pd.read_csv('clean_features.csv')"
   ]
  },
  {
   "cell_type": "code",
   "execution_count": 3,
   "id": "c115ab01",
   "metadata": {},
   "outputs": [
    {
     "name": "stdout",
     "output_type": "stream",
     "text": [
      "Unnamed: 0               0.034938\n",
      "Unnamed: 0.1             0.034938\n",
      "action                   1.000000\n",
      "year                     0.018840\n",
      "month                    0.043856\n",
      "                           ...   \n",
      "WTI | P2 | HSK (t-20)    0.045122\n",
      "year (t-20)              0.024634\n",
      "month (t-20)             0.016347\n",
      "day (t-20)               0.087942\n",
      "weekday (t-20)           0.055592\n",
      "Length: 287, dtype: float64\n"
     ]
    }
   ],
   "source": [
    "#calulating Correlation of \"inventory\" with other features. \n",
    "corr_action=df.corrwith(df['action'],method='pearson').abs()\n",
    "print(corr_action)"
   ]
  },
  {
   "cell_type": "code",
   "execution_count": 4,
   "id": "004dc787",
   "metadata": {},
   "outputs": [],
   "source": [
    "relevant_features = corr_action[corr_action>0.1]"
   ]
  },
  {
   "cell_type": "code",
   "execution_count": 5,
   "id": "0ac2c4ec",
   "metadata": {},
   "outputs": [
    {
     "data": {
      "text/plain": [
       "action                1.000000\n",
       "action (t-1)          0.112927\n",
       "time_spread (t-3)     0.104838\n",
       "time_spread (t-4)     0.125523\n",
       "time_spread (t-5)     0.133369\n",
       "time_spread (t-6)     0.123635\n",
       "time_spread (t-7)     0.114333\n",
       "time_spread (t-18)    0.116957\n",
       "time_spread (t-19)    0.125845\n",
       "time_spread (t-20)    0.123492\n",
       "dtype: float64"
      ]
     },
     "execution_count": 5,
     "metadata": {},
     "output_type": "execute_result"
    }
   ],
   "source": [
    "relevant_features "
   ]
  },
  {
   "cell_type": "code",
   "execution_count": 6,
   "id": "c112a585",
   "metadata": {},
   "outputs": [
    {
     "data": {
      "text/plain": [
       "action               1.000000\n",
       "action (t-1)         0.112927\n",
       "time_spread (t-3)    0.104838\n",
       "time_spread (t-4)    0.125523\n",
       "time_spread (t-5)    0.133369\n",
       "dtype: float64"
      ]
     },
     "execution_count": 6,
     "metadata": {},
     "output_type": "execute_result"
    }
   ],
   "source": [
    "relevant_features.head()"
   ]
  },
  {
   "cell_type": "code",
   "execution_count": 7,
   "id": "c8a8381c",
   "metadata": {},
   "outputs": [],
   "source": [
    "selected_df = df[relevant_features.index]  # Only getting columns having corr> 0.1 wrt output"
   ]
  },
  {
   "cell_type": "code",
   "execution_count": 8,
   "id": "0ab2c1af",
   "metadata": {},
   "outputs": [],
   "source": [
    "pearsoncorr = selected_df.corr(method='pearson').abs()\n"
   ]
  },
  {
   "cell_type": "code",
   "execution_count": 9,
   "id": "a87b1c4a",
   "metadata": {},
   "outputs": [],
   "source": [
    "columns = np.full((pearsoncorr.shape[0],), True, dtype=bool)\n",
    "for i in range(pearsoncorr.shape[0]):\n",
    "    for j in range(i+1, pearsoncorr.shape[0]):\n",
    "        if pearsoncorr.iloc[i,j] >= 0.9:\n",
    "            if columns[j]:\n",
    "                columns[j] = False"
   ]
  },
  {
   "cell_type": "code",
   "execution_count": 10,
   "id": "2976d0d9",
   "metadata": {},
   "outputs": [],
   "source": [
    "filtered_df= selected_df.columns[columns]"
   ]
  },
  {
   "cell_type": "code",
   "execution_count": 11,
   "id": "e4233d0d",
   "metadata": {},
   "outputs": [
    {
     "data": {
      "text/plain": [
       "Index(['action', 'action (t-1)', 'time_spread (t-3)', 'time_spread (t-18)'], dtype='object')"
      ]
     },
     "execution_count": 11,
     "metadata": {},
     "output_type": "execute_result"
    }
   ],
   "source": [
    "filtered_df"
   ]
  },
  {
   "cell_type": "code",
   "execution_count": 12,
   "id": "2587073b",
   "metadata": {},
   "outputs": [
    {
     "data": {
      "text/html": [
       "<div>\n",
       "<style scoped>\n",
       "    .dataframe tbody tr th:only-of-type {\n",
       "        vertical-align: middle;\n",
       "    }\n",
       "\n",
       "    .dataframe tbody tr th {\n",
       "        vertical-align: top;\n",
       "    }\n",
       "\n",
       "    .dataframe thead th {\n",
       "        text-align: right;\n",
       "    }\n",
       "</style>\n",
       "<table border=\"1\" class=\"dataframe\">\n",
       "  <thead>\n",
       "    <tr style=\"text-align: right;\">\n",
       "      <th></th>\n",
       "      <th>action</th>\n",
       "      <th>action (t-1)</th>\n",
       "      <th>time_spread (t-3)</th>\n",
       "      <th>time_spread (t-4)</th>\n",
       "      <th>time_spread (t-5)</th>\n",
       "      <th>time_spread (t-6)</th>\n",
       "      <th>time_spread (t-7)</th>\n",
       "      <th>time_spread (t-18)</th>\n",
       "      <th>time_spread (t-19)</th>\n",
       "      <th>time_spread (t-20)</th>\n",
       "    </tr>\n",
       "  </thead>\n",
       "  <tbody>\n",
       "    <tr>\n",
       "      <th>0</th>\n",
       "      <td>0</td>\n",
       "      <td>0</td>\n",
       "      <td>0.06</td>\n",
       "      <td>0.06</td>\n",
       "      <td>0.05</td>\n",
       "      <td>0.06</td>\n",
       "      <td>0.07</td>\n",
       "      <td>-0.40</td>\n",
       "      <td>-0.90</td>\n",
       "      <td>-0.27</td>\n",
       "    </tr>\n",
       "    <tr>\n",
       "      <th>1</th>\n",
       "      <td>1</td>\n",
       "      <td>0</td>\n",
       "      <td>-0.08</td>\n",
       "      <td>0.06</td>\n",
       "      <td>0.06</td>\n",
       "      <td>0.05</td>\n",
       "      <td>0.06</td>\n",
       "      <td>-0.16</td>\n",
       "      <td>-0.40</td>\n",
       "      <td>-0.90</td>\n",
       "    </tr>\n",
       "    <tr>\n",
       "      <th>2</th>\n",
       "      <td>0</td>\n",
       "      <td>1</td>\n",
       "      <td>0.17</td>\n",
       "      <td>-0.08</td>\n",
       "      <td>0.06</td>\n",
       "      <td>0.06</td>\n",
       "      <td>0.05</td>\n",
       "      <td>-0.19</td>\n",
       "      <td>-0.16</td>\n",
       "      <td>-0.40</td>\n",
       "    </tr>\n",
       "    <tr>\n",
       "      <th>3</th>\n",
       "      <td>0</td>\n",
       "      <td>0</td>\n",
       "      <td>0.17</td>\n",
       "      <td>0.17</td>\n",
       "      <td>-0.08</td>\n",
       "      <td>0.06</td>\n",
       "      <td>0.06</td>\n",
       "      <td>-0.01</td>\n",
       "      <td>-0.19</td>\n",
       "      <td>-0.16</td>\n",
       "    </tr>\n",
       "    <tr>\n",
       "      <th>4</th>\n",
       "      <td>0</td>\n",
       "      <td>0</td>\n",
       "      <td>0.15</td>\n",
       "      <td>0.17</td>\n",
       "      <td>0.17</td>\n",
       "      <td>-0.08</td>\n",
       "      <td>0.06</td>\n",
       "      <td>0.08</td>\n",
       "      <td>-0.01</td>\n",
       "      <td>-0.19</td>\n",
       "    </tr>\n",
       "  </tbody>\n",
       "</table>\n",
       "</div>"
      ],
      "text/plain": [
       "   action  action (t-1)  time_spread (t-3)  time_spread (t-4)  \\\n",
       "0       0             0               0.06               0.06   \n",
       "1       1             0              -0.08               0.06   \n",
       "2       0             1               0.17              -0.08   \n",
       "3       0             0               0.17               0.17   \n",
       "4       0             0               0.15               0.17   \n",
       "\n",
       "   time_spread (t-5)  time_spread (t-6)  time_spread (t-7)  \\\n",
       "0               0.05               0.06               0.07   \n",
       "1               0.06               0.05               0.06   \n",
       "2               0.06               0.06               0.05   \n",
       "3              -0.08               0.06               0.06   \n",
       "4               0.17              -0.08               0.06   \n",
       "\n",
       "   time_spread (t-18)  time_spread (t-19)  time_spread (t-20)  \n",
       "0               -0.40               -0.90               -0.27  \n",
       "1               -0.16               -0.40               -0.90  \n",
       "2               -0.19               -0.16               -0.40  \n",
       "3               -0.01               -0.19               -0.16  \n",
       "4                0.08               -0.01               -0.19  "
      ]
     },
     "execution_count": 12,
     "metadata": {},
     "output_type": "execute_result"
    }
   ],
   "source": [
    "selected_df.head()"
   ]
  },
  {
   "cell_type": "code",
   "execution_count": 13,
   "id": "96ef2d07",
   "metadata": {},
   "outputs": [],
   "source": [
    "df=selected_df[selected_df.columns[selected_df.columns.isin(filtered_df)]]"
   ]
  },
  {
   "cell_type": "code",
   "execution_count": 14,
   "id": "77ca0139",
   "metadata": {},
   "outputs": [
    {
     "data": {
      "text/html": [
       "<div>\n",
       "<style scoped>\n",
       "    .dataframe tbody tr th:only-of-type {\n",
       "        vertical-align: middle;\n",
       "    }\n",
       "\n",
       "    .dataframe tbody tr th {\n",
       "        vertical-align: top;\n",
       "    }\n",
       "\n",
       "    .dataframe thead th {\n",
       "        text-align: right;\n",
       "    }\n",
       "</style>\n",
       "<table border=\"1\" class=\"dataframe\">\n",
       "  <thead>\n",
       "    <tr style=\"text-align: right;\">\n",
       "      <th></th>\n",
       "      <th>action</th>\n",
       "      <th>action (t-1)</th>\n",
       "      <th>time_spread (t-3)</th>\n",
       "      <th>time_spread (t-18)</th>\n",
       "    </tr>\n",
       "  </thead>\n",
       "  <tbody>\n",
       "    <tr>\n",
       "      <th>0</th>\n",
       "      <td>0</td>\n",
       "      <td>0</td>\n",
       "      <td>0.06</td>\n",
       "      <td>-0.40</td>\n",
       "    </tr>\n",
       "    <tr>\n",
       "      <th>1</th>\n",
       "      <td>1</td>\n",
       "      <td>0</td>\n",
       "      <td>-0.08</td>\n",
       "      <td>-0.16</td>\n",
       "    </tr>\n",
       "    <tr>\n",
       "      <th>2</th>\n",
       "      <td>0</td>\n",
       "      <td>1</td>\n",
       "      <td>0.17</td>\n",
       "      <td>-0.19</td>\n",
       "    </tr>\n",
       "    <tr>\n",
       "      <th>3</th>\n",
       "      <td>0</td>\n",
       "      <td>0</td>\n",
       "      <td>0.17</td>\n",
       "      <td>-0.01</td>\n",
       "    </tr>\n",
       "    <tr>\n",
       "      <th>4</th>\n",
       "      <td>0</td>\n",
       "      <td>0</td>\n",
       "      <td>0.15</td>\n",
       "      <td>0.08</td>\n",
       "    </tr>\n",
       "  </tbody>\n",
       "</table>\n",
       "</div>"
      ],
      "text/plain": [
       "   action  action (t-1)  time_spread (t-3)  time_spread (t-18)\n",
       "0       0             0               0.06               -0.40\n",
       "1       1             0              -0.08               -0.16\n",
       "2       0             1               0.17               -0.19\n",
       "3       0             0               0.17               -0.01\n",
       "4       0             0               0.15                0.08"
      ]
     },
     "execution_count": 14,
     "metadata": {},
     "output_type": "execute_result"
    }
   ],
   "source": [
    "df.head()"
   ]
  },
  {
   "cell_type": "code",
   "execution_count": 15,
   "id": "3229f12a",
   "metadata": {},
   "outputs": [],
   "source": [
    "x_df=df.drop(columns=['action']).values\n",
    "y_df=df['action'].values"
   ]
  },
  {
   "cell_type": "code",
   "execution_count": 16,
   "id": "62aaf723",
   "metadata": {},
   "outputs": [
    {
     "data": {
      "text/plain": [
       "GaussianNB()"
      ]
     },
     "execution_count": 16,
     "metadata": {},
     "output_type": "execute_result"
    }
   ],
   "source": [
    "clf_nb = GaussianNB()\n",
    "clf_nb.fit(x_df, y_df)"
   ]
  },
  {
   "cell_type": "code",
   "execution_count": 17,
   "id": "7ef33ce3",
   "metadata": {},
   "outputs": [
    {
     "name": "stdout",
     "output_type": "stream",
     "text": [
      "Accuracy: 0.5500848896434635\n"
     ]
    }
   ],
   "source": [
    "#Predict the response for test dataset\n",
    "y_pred_nb = clf_nb.predict(x_df)\n",
    "print(\"Accuracy:\",metrics.accuracy_score(y_df, y_pred_nb))"
   ]
  },
  {
   "cell_type": "code",
   "execution_count": 18,
   "id": "1e52e7d4",
   "metadata": {},
   "outputs": [
    {
     "name": "stdout",
     "output_type": "stream",
     "text": [
      " KNN Accuracy: 0.5500848896434635\n"
     ]
    }
   ],
   "source": [
    "clf_knn = NearestCentroid()\n",
    "clf_knn.fit(x_df,y_df)\n",
    "y_pred_knn = clf_knn.predict(x_df)\n",
    "print(\" KNN Accuracy:\",metrics.accuracy_score(y_df, y_pred_knn))"
   ]
  },
  {
   "cell_type": "code",
   "execution_count": 19,
   "id": "7fbc7f0c",
   "metadata": {},
   "outputs": [
    {
     "name": "stdout",
     "output_type": "stream",
     "text": [
      " Logistic Regression Accuracy: 0.5619694397283531\n"
     ]
    }
   ],
   "source": [
    "clf_lr = LogisticRegression(random_state=0).fit(x_df, y_df)\n",
    "y_pred_lr = clf_lr.predict(x_df)\n",
    "print(\" Logistic Regression Accuracy:\",metrics.accuracy_score(y_df, y_pred_lr))"
   ]
  },
  {
   "cell_type": "code",
   "execution_count": null,
   "id": "501688fa",
   "metadata": {},
   "outputs": [],
   "source": []
  }
 ],
 "metadata": {
  "kernelspec": {
   "display_name": "Python 3",
   "language": "python",
   "name": "python3"
  },
  "language_info": {
   "codemirror_mode": {
    "name": "ipython",
    "version": 3
   },
   "file_extension": ".py",
   "mimetype": "text/x-python",
   "name": "python",
   "nbconvert_exporter": "python",
   "pygments_lexer": "ipython3",
   "version": "3.6.13"
  }
 },
 "nbformat": 4,
 "nbformat_minor": 5
}
