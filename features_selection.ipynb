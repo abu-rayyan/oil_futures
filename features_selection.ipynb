{
 "cells": [
  {
   "cell_type": "code",
   "execution_count": 1,
   "id": "4f0923f4",
   "metadata": {},
   "outputs": [],
   "source": [
    "import pandas as pd\n",
    "import numpy as np"
   ]
  },
  {
   "cell_type": "code",
   "execution_count": 2,
   "id": "a055f2e2",
   "metadata": {},
   "outputs": [],
   "source": [
    "df=pd.read_csv('clean_features.csv')"
   ]
  },
  {
   "cell_type": "code",
   "execution_count": 3,
   "id": "31d6579d",
   "metadata": {},
   "outputs": [
    {
     "name": "stdout",
     "output_type": "stream",
     "text": [
      "Unnamed: 0               0.034938\n",
      "Unnamed: 0.1             0.034938\n",
      "action                   1.000000\n",
      "year                     0.018840\n",
      "month                    0.043856\n",
      "                           ...   \n",
      "WTI | P2 | HSK (t-20)    0.045122\n",
      "year (t-20)              0.024634\n",
      "month (t-20)             0.016347\n",
      "day (t-20)               0.087942\n",
      "weekday (t-20)           0.055592\n",
      "Length: 287, dtype: float64\n"
     ]
    }
   ],
   "source": [
    "#calulating Correlation of \"inventory\" with other features. \n",
    "corr_action=df.corrwith(df['action'],method='pearson').abs()\n",
    "print(corr_action)"
   ]
  },
  {
   "cell_type": "code",
   "execution_count": 4,
   "id": "800c2121",
   "metadata": {},
   "outputs": [],
   "source": [
    "relevant_features = corr_action[corr_action>0.1]"
   ]
  },
  {
   "cell_type": "code",
   "execution_count": 5,
   "id": "09b5dc9c",
   "metadata": {},
   "outputs": [
    {
     "data": {
      "text/plain": [
       "action                1.000000\n",
       "action (t-1)          0.112927\n",
       "time_spread (t-3)     0.104838\n",
       "time_spread (t-4)     0.125523\n",
       "time_spread (t-5)     0.133369\n",
       "time_spread (t-6)     0.123635\n",
       "time_spread (t-7)     0.114333\n",
       "time_spread (t-18)    0.116957\n",
       "time_spread (t-19)    0.125845\n",
       "time_spread (t-20)    0.123492\n",
       "dtype: float64"
      ]
     },
     "execution_count": 5,
     "metadata": {},
     "output_type": "execute_result"
    }
   ],
   "source": [
    "relevant_features "
   ]
  },
  {
   "cell_type": "code",
   "execution_count": 6,
   "id": "5ddc0244",
   "metadata": {},
   "outputs": [
    {
     "data": {
      "text/plain": [
       "action               1.000000\n",
       "action (t-1)         0.112927\n",
       "time_spread (t-3)    0.104838\n",
       "time_spread (t-4)    0.125523\n",
       "time_spread (t-5)    0.133369\n",
       "dtype: float64"
      ]
     },
     "execution_count": 6,
     "metadata": {},
     "output_type": "execute_result"
    }
   ],
   "source": [
    "relevant_features.head()"
   ]
  },
  {
   "cell_type": "code",
   "execution_count": 7,
   "id": "24f88672",
   "metadata": {},
   "outputs": [],
   "source": [
    "selected_df = df[relevant_features.index]  # Only getting columns having corr> 0.1 wrt output"
   ]
  },
  {
   "cell_type": "code",
   "execution_count": 8,
   "id": "7ce6b181",
   "metadata": {},
   "outputs": [],
   "source": [
    "pearsoncorr = selected_df.corr(method='pearson').abs()\n"
   ]
  },
  {
   "cell_type": "code",
   "execution_count": 9,
   "id": "402e5f23",
   "metadata": {},
   "outputs": [],
   "source": [
    "columns = np.full((pearsoncorr.shape[0],), True, dtype=bool)\n",
    "for i in range(pearsoncorr.shape[0]):\n",
    "    for j in range(i+1, pearsoncorr.shape[0]):\n",
    "        if pearsoncorr.iloc[i,j] >= 0.9:\n",
    "            if columns[j]:\n",
    "                columns[j] = False"
   ]
  },
  {
   "cell_type": "code",
   "execution_count": 10,
   "id": "bdf97c7a",
   "metadata": {},
   "outputs": [],
   "source": [
    "filtered_df= selected_df.columns[columns]"
   ]
  },
  {
   "cell_type": "code",
   "execution_count": 11,
   "id": "69647049",
   "metadata": {},
   "outputs": [
    {
     "data": {
      "text/plain": [
       "Index(['action', 'action (t-1)', 'time_spread (t-3)', 'time_spread (t-18)'], dtype='object')"
      ]
     },
     "execution_count": 11,
     "metadata": {},
     "output_type": "execute_result"
    }
   ],
   "source": [
    "filtered_df"
   ]
  },
  {
   "cell_type": "code",
   "execution_count": null,
   "id": "b89306eb",
   "metadata": {},
   "outputs": [],
   "source": []
  }
 ],
 "metadata": {
  "kernelspec": {
   "display_name": "Python 3",
   "language": "python",
   "name": "python3"
  },
  "language_info": {
   "codemirror_mode": {
    "name": "ipython",
    "version": 3
   },
   "file_extension": ".py",
   "mimetype": "text/x-python",
   "name": "python",
   "nbconvert_exporter": "python",
   "pygments_lexer": "ipython3",
   "version": "3.6.13"
  }
 },
 "nbformat": 4,
 "nbformat_minor": 5
}
